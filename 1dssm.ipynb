{
 "cells": [
  {
   "cell_type": "markdown",
   "metadata": {
    "collapsed": true
   },
   "source": [
    "## Modeling the storm surge using Dean and Dalrymple method 1992"
   ]
  },
  {
   "cell_type": "code",
   "execution_count": 3,
   "metadata": {},
   "outputs": [
    {
     "data": {
      "application/vnd.jupyter.widget-view+json": {
       "model_id": "2e82c12eaffd41aca6ab6d5b20b85632",
       "version_major": 2,
       "version_minor": 0
      },
      "text/plain": [
       "Box(children=(Box(children=(Label(value='Offshore Water Depth (m) : ', layout=Layout(width='160px')), Text(val…"
      ]
     },
     "metadata": {},
     "output_type": "display_data"
    }
   ],
   "source": [
    "# import necessary libraries\n",
    "from numpy import *\n",
    "import scipy\n",
    "from scipy import optimize \n",
    "from pylab import *\n",
    "from ipywidgets import Button, Text, Label, Box, Layout\n",
    "from IPython.display import clear_output\n",
    "import matplotlib.pyplot as plt\n",
    "depthText = Text(placeholder='Input Offshore Water Depth ')\n",
    "windVelText = Text(placeholder='Input Wind Velocity ')\n",
    "bedSloText = Text(placeholder='Input Bed Slope')\n",
    "plotBtn = Button(description='Show plot and save result', button_style = 'success', layout= Layout(\n",
    "    display = 'flex',\n",
    "    flex_flow = 'row',\n",
    "    justify_content = 'center',\n",
    "    width = '180px',\n",
    "    disabled=False\n",
    "))\n",
    "\n",
    "input_layout = Layout(\n",
    "    flex_flow = 'column',\n",
    "    align_items = 'stretch',\n",
    "    disabled = False\n",
    ")\n",
    "label_layout = Layout(\n",
    "    width = '160px'\n",
    ")\n",
    "\n",
    "text_layout = Layout( \n",
    "    display = 'flex',\n",
    "    flex_flow = 'row',\n",
    "    justify_content = 'flex-start'\n",
    " #   width = '200%'\n",
    ")\n",
    "\n",
    "def plot_stormheight(x, h, eta, h0, u10, m):\n",
    "    # Import everything from matplotlib (numpy is accessible via 'np' alias)\n",
    "\n",
    "    # Create a new figure of size 8x6 points, using 80 dots per inch\n",
    "    figure(figsize=(20, 12), dpi=80)\n",
    "\n",
    "    # Create a new subplot from a grid of 1x1\n",
    "    fig, ax = plt.subplots(1)\n",
    "\n",
    "    # Plot cosine using blue color with a continuous line of width 1 (pixels)\n",
    "    ax.fill_between(-(x - x[-1]) / 1000, eta, 0, color=\"red\", alpha=0.5, lw=2, label='Water Depth')\n",
    "    ax.fill_between(-(x - x[-1]) / 1000, 0, -h, color=\"blue\", alpha=0.5, lw=2, label='Storm Surge')\n",
    "    ax.fill_between(-(x - x[-1]) / 1000, -h, -h[0], color=\"yellow\", alpha=0.3, lw=2, label='Bed Slope')\n",
    "\n",
    "    p_surge = Rectangle((0, 0), 1, 1, fc=\"red\", alpha=0.5)\n",
    "    p_water = Rectangle((0, 0), 1, 1, fc=\"blue\", alpha=0.5)\n",
    "    p_slope = Rectangle((0, 0), 1, 1, fc=\"yellow\", alpha=0.3)\n",
    "\n",
    "    legend([p_surge, p_water, p_slope], [\"Storm Surge\", \"Still Water\", \"Seabed\"], shadow=True, fancybox=True,\n",
    "        numpoints=5, loc=3)\n",
    "    \n",
    "    figtext(0.45,0.3,\n",
    "        \"Water Depth  : %.2f m\\n\"\n",
    "        \"Wind Velocity: %.2f m/s\\n\"\n",
    "        \"Bed Slope    : %f\\n\"\n",
    "        \"Storm Surge  : %.2f m\" % (h0, u10, m, eta[-1]),\n",
    "        horizontalalignment='left', verticalalignment='center', fontsize='large',\n",
    "        family='monospace',\n",
    "        color='black', weight='normal', bbox=dict(boxstyle=\"round,pad=0.5\", ec='black', fill=False)\n",
    "    )\n",
    "    ax.set_xlabel('Distance from Shoreline (km)')\n",
    "    ax.set_ylabel('Elevation above Mean Sea Level (m)')\n",
    "    ax.grid()\n",
    "    \n",
    "    # Save figure using 90 dots per inch\n",
    "    savefig(\"stormsurge.png\", dpi=80)\n",
    "    # Show result on screen\n",
    "    plt.show()\n",
    "    \n",
    "\n",
    "\n",
    "\n",
    "def plotBtn_clicked(a):\n",
    "    #% h0=40; % deep water depth, It was 42 m for Katrina\n",
    "    #% u10=40; % wind velocity 10 meter above the ground, It was 40 m/s for Katrina\n",
    "    #% m=0.00084; % bed slope = h0/l;\n",
    "    h0 = float(depthText.value)\n",
    "    u10 = float(windVelText.value)\n",
    "    m = float(bedSloText.value)\n",
    "    n = 1.3\n",
    "    Row = 1000\n",
    "    Roa = 1.204\n",
    "    if bedSloText.value == 0:\n",
    "        l = 50000\n",
    "    else:\n",
    "        l = h0 / m\n",
    "        \n",
    "    x = linspace(0, l, 1000)\n",
    "    if u10 >= 40:\n",
    "        k = (0.8 + 0.065 * 40) / 1000\n",
    "    else:\n",
    "        k = (0.80 + 0.065 * u10) / 1000   \n",
    "    Tauwind = Roa * k * u10 ** 2\n",
    "    A = n * Tauwind * l / (Row * 9.81 * h0 ** 2)\n",
    "    eta = array([0.0 for i in range(len(x))])\n",
    "    \n",
    "    if m == 0:\n",
    "    # calculate eta for bed without slope\n",
    "        eta = h0 * (sqrt(1 + 2 * A * x / l) - 1)\n",
    "    else:\n",
    "    # calculate eta for bed with slope\n",
    "        h = -m * x + h0\n",
    "        eta[0] = 0.0\n",
    "    \n",
    "   \n",
    "    \n",
    "    fileX = open('eta.txt','w')\n",
    "\n",
    "    for i in range(1, len(x)):\n",
    "    # initial value for eta from previous step\n",
    "        def f(eta1):\n",
    "            return x[i] / l - ((1.0 - (h[i] + eta1) / h0) - A * log(((h[i] + eta1) / h0 - A) / (1 - A)))\n",
    "        etaini = eta[i - 1]\n",
    "        eta[i] = scipy.optimize.fsolve(f, etaini)[0]\n",
    "        fileX.write(str(eta[i])+'\\n')\n",
    "    fileX.close()\n",
    "    \n",
    "    plot_stormheight(x, h, eta, h0, u10, m)\n",
    "    \n",
    "plotBtn.on_click(plotBtn_clicked)\n",
    "\n",
    "\n",
    "inputBox = Box(\n",
    "    [Box([Label(value='Offshore Water Depth (m) : ',layout = label_layout), depthText], layout = text_layout),\n",
    "    Box([Label(value='Wind Velocity (m/s) : ',layout = label_layout), windVelText], layout = text_layout),\n",
    "    Box([Label(value='Bed Slope : ',layout = label_layout), bedSloText], layout = text_layout), \n",
    "    Box([plotBtn], layout= Layout(\n",
    "    display = 'flex',\n",
    "    flex_flow = 'row',\n",
    "    justify_content = 'flex-end',\n",
    "    width = '468px',\n",
    "    disabled=False))], \n",
    "    layout = input_layout)\n",
    "\n",
    "inputBox"
   ]
  },
  {
   "cell_type": "code",
   "execution_count": null,
   "metadata": {
    "collapsed": true
   },
   "outputs": [],
   "source": []
  },
  {
   "cell_type": "code",
   "execution_count": null,
   "metadata": {
    "collapsed": true
   },
   "outputs": [],
   "source": []
  }
 ],
 "metadata": {
  "kernelspec": {
   "display_name": "Python 3",
   "language": "python",
   "name": "python3"
  },
  "language_info": {
   "codemirror_mode": {
    "name": "ipython",
    "version": 3
   },
   "file_extension": ".py",
   "mimetype": "text/x-python",
   "name": "python",
   "nbconvert_exporter": "python",
   "pygments_lexer": "ipython3",
   "version": "3.5.2"
  },
  "widgets": {
   "application/vnd.jupyter.widget-state+json": {
    "state": {
     "003f0e4af2dd43b78795d5bd1c1cc601": {
      "model_module": "@jupyter-widgets/base",
      "model_module_version": "1.0.0",
      "model_name": "LayoutModel",
      "state": {}
     },
     "013bae47bc9c4d0db3269c10a2ed960c": {
      "model_module": "@jupyter-widgets/base",
      "model_module_version": "1.0.0",
      "model_name": "LayoutModel",
      "state": {
       "width": "130px"
      }
     },
     "01578e0abbd64b1489ddb563581e8508": {
      "model_module": "@jupyter-widgets/controls",
      "model_module_version": "1.0.0",
      "model_name": "ButtonModel",
      "state": {
       "description": "Show Plot",
       "layout": "IPY_MODEL_74d0ee56db52441c8295f4b5828493e7",
       "style": "IPY_MODEL_e00a26004bf04a938a3e51e548006058"
      }
     },
     "01cce0d034a04f279d61ea5f421a31ef": {
      "model_module": "@jupyter-widgets/controls",
      "model_module_version": "1.0.0",
      "model_name": "BoxModel",
      "state": {
       "children": [
        "IPY_MODEL_091eac7912ad43cd823c226d8c0698a8",
        "IPY_MODEL_5699bedc4f494d54b079da0ac0cb5395"
       ],
       "layout": "IPY_MODEL_2d914eb9565848baaa5af38c9830c20d"
      }
     },
     "01e9200eb516422899e2e2a9f32f2bae": {
      "model_module": "@jupyter-widgets/base",
      "model_module_version": "1.0.0",
      "model_name": "LayoutModel",
      "state": {}
     },
     "01f8d48f82d141489ea6246bbcb58ffb": {
      "model_module": "@jupyter-widgets/controls",
      "model_module_version": "1.0.0",
      "model_name": "BoxModel",
      "state": {
       "children": [
        "IPY_MODEL_950714e6e7b1445ba0b9ec28eec1b162",
        "IPY_MODEL_1b424dccd72e4f40aece231141b0f95b"
       ],
       "layout": "IPY_MODEL_f48114520d024f8a87271046669d8bda"
      }
     },
     "0291c668348645d49bb6df8e06eac0c1": {
      "model_module": "@jupyter-widgets/controls",
      "model_module_version": "1.0.0",
      "model_name": "LabelModel",
      "state": {
       "layout": "IPY_MODEL_365f41417c804f499a67b272b48da607",
       "style": "IPY_MODEL_34c994e0e1264ef4a8ee76bba4ebdeb3",
       "value": "Deep Water Depth: "
      }
     },
     "02ffc0349ba7449a960269f45c5bae17": {
      "model_module": "@jupyter-widgets/base",
      "model_module_version": "1.0.0",
      "model_name": "LayoutModel",
      "state": {}
     },
     "031dc4f3156b4e08b7674c50849df8e8": {
      "model_module": "@jupyter-widgets/controls",
      "model_module_version": "1.0.0",
      "model_name": "BoxModel",
      "state": {
       "children": [
        "IPY_MODEL_05b2cb915ba34d3491c00ac363a0e9fd",
        "IPY_MODEL_01f8d48f82d141489ea6246bbcb58ffb",
        "IPY_MODEL_731a3701051d402a9ed06881e7678565",
        "IPY_MODEL_1d5f7bd92d08469099460feb6ce87d0d"
       ],
       "layout": "IPY_MODEL_0bb68e21f7fe4f2ea83d5c0adcad085e"
      }
     },
     "03c6c2f811644275ae27151d12201c2d": {
      "model_module": "@jupyter-widgets/controls",
      "model_module_version": "1.0.0",
      "model_name": "BoxModel",
      "state": {
       "children": [
        "IPY_MODEL_0291c668348645d49bb6df8e06eac0c1",
        "IPY_MODEL_1ecf2adebba1450aa9686a303f000ab8"
       ],
       "layout": "IPY_MODEL_37d117e8c9f24e58ac1e3ac9fe4d3f35"
      }
     },
     "03de8a2fb6104e4bb8ab68fd8a4f01a7": {
      "model_module": "@jupyter-widgets/controls",
      "model_module_version": "1.0.0",
      "model_name": "BoxModel",
      "state": {
       "children": [
        "IPY_MODEL_24d751227db1481bb8f1109737c0a108",
        "IPY_MODEL_08ee461f51f54e1da405618998f46c97"
       ],
       "layout": "IPY_MODEL_1baf2fa1f5514a63a94c332f9ba6e5a0"
      }
     },
     "042b549cb9a44f3b8696c878e6b098f5": {
      "model_module": "@jupyter-widgets/controls",
      "model_module_version": "1.0.0",
      "model_name": "LabelModel",
      "state": {
       "layout": "IPY_MODEL_013bae47bc9c4d0db3269c10a2ed960c",
       "style": "IPY_MODEL_57825ec5cc3c44ea8fd0ba3434ab8050",
       "value": "Deep Water Depth: "
      }
     },
     "043d24356c4b4e3681889da89072858a": {
      "model_module": "@jupyter-widgets/controls",
      "model_module_version": "1.0.0",
      "model_name": "DescriptionStyleModel",
      "state": {
       "description_width": ""
      }
     },
     "04e27be6870c404ab1c73aa8e1cac4d6": {
      "model_module": "@jupyter-widgets/controls",
      "model_module_version": "1.0.0",
      "model_name": "ButtonModel",
      "state": {
       "description": "Clear Plot",
       "layout": "IPY_MODEL_2402b2cf3b7f49edbda271238f8ccfa1",
       "style": "IPY_MODEL_156d27c876904bf695d692738c77e81d"
      }
     },
     "052e6b9c079b4d6492781f9d2faf243b": {
      "model_module": "@jupyter-widgets/controls",
      "model_module_version": "1.0.0",
      "model_name": "BoxModel",
      "state": {
       "children": [
        "IPY_MODEL_eae8b9fb156e4f1980c9c1ca7842779a",
        "IPY_MODEL_cf81ee966d884a81bd393bddcec6560c"
       ],
       "layout": "IPY_MODEL_f89aa793ff6e4a4c8942a03e82baa2ce"
      }
     },
     "05a40e14f85846dc8b86d248084db12b": {
      "model_module": "@jupyter-widgets/controls",
      "model_module_version": "1.0.0",
      "model_name": "DescriptionStyleModel",
      "state": {
       "description_width": ""
      }
     },
     "05b2cb915ba34d3491c00ac363a0e9fd": {
      "model_module": "@jupyter-widgets/controls",
      "model_module_version": "1.0.0",
      "model_name": "BoxModel",
      "state": {
       "children": [
        "IPY_MODEL_042b549cb9a44f3b8696c878e6b098f5",
        "IPY_MODEL_87b797e4ee5c4330b5939ef86784b956"
       ],
       "layout": "IPY_MODEL_f48114520d024f8a87271046669d8bda"
      }
     },
     "05be6db5293848b28758b8794b6fe00e": {
      "model_module": "@jupyter-widgets/controls",
      "model_module_version": "1.0.0",
      "model_name": "BoxModel",
      "state": {
       "children": [
        "IPY_MODEL_6de2f92bf6b84f218aa8ccd80207105b",
        "IPY_MODEL_ac869bd5045741f4819d32bb467ab90f"
       ],
       "layout": "IPY_MODEL_b0c705e5203a4f33816b996166fd9a99"
      }
     },
     "05ffdb76f8104e2d851fce7031470525": {
      "model_module": "@jupyter-widgets/controls",
      "model_module_version": "1.0.0",
      "model_name": "LabelModel",
      "state": {
       "layout": "IPY_MODEL_7579fe2c2da54cd8bcdf4566e5f8f4c0",
       "style": "IPY_MODEL_d48f2a48198c419aad009eadc378d09e",
       "value": "Deep Water Depth: "
      }
     },
     "067acd5b76bb458c937ae5e04c44ff2f": {
      "model_module": "@jupyter-widgets/controls",
      "model_module_version": "1.0.0",
      "model_name": "TextModel",
      "state": {
       "layout": "IPY_MODEL_45c1f1bbac464e16ab0e3b362086f1fa",
       "style": "IPY_MODEL_8bdaafc79b304239bb412cbd18a4d371"
      }
     },
     "06f546bf3ded449bb223d907a9f525fd": {
      "model_module": "@jupyter-widgets/controls",
      "model_module_version": "1.0.0",
      "model_name": "ButtonModel",
      "state": {
       "description": "Clear Plot",
       "layout": "IPY_MODEL_951292125fbc4724b73129c0c2effa46",
       "style": "IPY_MODEL_36ae9c06ce6d4a50aff6b43cd4e7b89b"
      }
     },
     "070520afa4b0406da75cac742c9f8c14": {
      "model_module": "@jupyter-widgets/controls",
      "model_module_version": "1.0.0",
      "model_name": "ButtonStyleModel",
      "state": {}
     },
     "07749e6d0494451c8cb23e0ca405a292": {
      "model_module": "@jupyter-widgets/controls",
      "model_module_version": "1.0.0",
      "model_name": "TextModel",
      "state": {
       "layout": "IPY_MODEL_a0f047bc6da84b4d8fdc955d90290aac",
       "style": "IPY_MODEL_54c0cb87507043eea8d3449c8ddb60d4"
      }
     },
     "0876f770dd5546b086031fce68f55fab": {
      "model_module": "@jupyter-widgets/base",
      "model_module_version": "1.0.0",
      "model_name": "LayoutModel",
      "state": {}
     },
     "08c313d734ad41ac906999bb3317e7cd": {
      "model_module": "@jupyter-widgets/base",
      "model_module_version": "1.0.0",
      "model_name": "LayoutModel",
      "state": {}
     },
     "08ee461f51f54e1da405618998f46c97": {
      "model_module": "@jupyter-widgets/controls",
      "model_module_version": "1.0.0",
      "model_name": "ButtonModel",
      "state": {
       "description": "Clear Plot",
       "layout": "IPY_MODEL_c9d8115dd334439bb7c449629dbb3e34",
       "style": "IPY_MODEL_7f19f1bc8cc64c1bba14f03c07a1ba5a"
      }
     },
     "091eac7912ad43cd823c226d8c0698a8": {
      "model_module": "@jupyter-widgets/controls",
      "model_module_version": "1.0.0",
      "model_name": "LabelModel",
      "state": {
       "layout": "IPY_MODEL_a2d8e26fa5d740b9b83acc4ebf91df22",
       "style": "IPY_MODEL_96863d2bc3154b349a4f4dff735d8ba0",
       "value": "Wind Velocity: "
      }
     },
     "0983499027a9488ca91e2c5a3533fa53": {
      "model_module": "@jupyter-widgets/base",
      "model_module_version": "1.0.0",
      "model_name": "LayoutModel",
      "state": {
       "display": "flex",
       "flex_flow": "row",
       "justify_content": "flex-start",
       "width": "50%"
      }
     },
     "0a2b847fbc284bcf8fa24ca908f93422": {
      "model_module": "@jupyter-widgets/controls",
      "model_module_version": "1.0.0",
      "model_name": "ButtonModel",
      "state": {
       "description": "Show result and plot",
       "layout": "IPY_MODEL_62bad711fb7e4823894e45e109afcc56",
       "style": "IPY_MODEL_cf6f9da0f58b4a92acf2cda24b49f80f"
      }
     },
     "0a88629de636434c8cdc663756fdce35": {
      "model_module": "@jupyter-widgets/controls",
      "model_module_version": "1.0.0",
      "model_name": "DescriptionStyleModel",
      "state": {
       "description_width": ""
      }
     },
     "0ac0f28d409d42f1a87096f226f1b8a4": {
      "model_module": "@jupyter-widgets/controls",
      "model_module_version": "1.0.0",
      "model_name": "DescriptionStyleModel",
      "state": {
       "description_width": ""
      }
     },
     "0adbdc9f74e64783bf6da1aac9565cb7": {
      "model_module": "@jupyter-widgets/controls",
      "model_module_version": "1.0.0",
      "model_name": "BoxModel",
      "state": {
       "children": [
        "IPY_MODEL_b7ff09630d084ea1963b18a14636454b",
        "IPY_MODEL_65321c3067534af79c355eed69ef7479"
       ],
       "layout": "IPY_MODEL_2d914eb9565848baaa5af38c9830c20d"
      }
     },
     "0b89242ea50f40489027ca203e284c64": {
      "model_module": "@jupyter-widgets/controls",
      "model_module_version": "1.0.0",
      "model_name": "ButtonModel",
      "state": {
       "description": "Clear Plot",
       "layout": "IPY_MODEL_532635069deb4f1c898f35082cd9f587",
       "style": "IPY_MODEL_8680bbee9119438c848a719fc6ef20ed"
      }
     },
     "0bb68e21f7fe4f2ea83d5c0adcad085e": {
      "model_module": "@jupyter-widgets/base",
      "model_module_version": "1.0.0",
      "model_name": "LayoutModel",
      "state": {
       "align_items": "stretch",
       "flex_flow": "column"
      }
     },
     "0c107b6ed5294e2f9c029cd2919535cb": {
      "model_module": "@jupyter-widgets/controls",
      "model_module_version": "1.0.0",
      "model_name": "TextModel",
      "state": {
       "layout": "IPY_MODEL_412b2c4d5aef47ad8e92a17e3e576ed5",
       "style": "IPY_MODEL_b884831b339447c7b2bc477f67d4e1d4"
      }
     },
     "0c123889a2c549c7a739efe334991bb3": {
      "model_module": "@jupyter-widgets/controls",
      "model_module_version": "1.0.0",
      "model_name": "BoxModel",
      "state": {
       "children": [
        "IPY_MODEL_fc0c214067d4430aaf956eb0e90ef6a6",
        "IPY_MODEL_f2c7db448ad64f4b8401ee97508a3493",
        "IPY_MODEL_a41c9f4e7b07498682f2dbefdf7766dc",
        "IPY_MODEL_a8a57a914151477981059dadd9987134"
       ],
       "layout": "IPY_MODEL_dc2ea2b22243492bac7614f1d63b87d2"
      }
     },
     "0c725546cf8f412d8aa32f50c9c858bc": {
      "model_module": "@jupyter-widgets/controls",
      "model_module_version": "1.0.0",
      "model_name": "DescriptionStyleModel",
      "state": {
       "description_width": ""
      }
     },
     "0c9b38d3d271449c88a3600db4715912": {
      "model_module": "@jupyter-widgets/base",
      "model_module_version": "1.0.0",
      "model_name": "LayoutModel",
      "state": {}
     },
     "0ca9e30305144d9e95fedeb2d275ae60": {
      "model_module": "@jupyter-widgets/controls",
      "model_module_version": "1.0.0",
      "model_name": "BoxModel",
      "state": {
       "children": [
        "IPY_MODEL_c5ed869c4a3741e687266f10e3eb31b0",
        "IPY_MODEL_5a17b0d9648b431c995cc1ecba45fbff"
       ],
       "layout": "IPY_MODEL_c6d9c567cd9048e583640a5f54294015"
      }
     },
     "0ccaad0d119849b1a0379356fc8e057f": {
      "model_module": "@jupyter-widgets/controls",
      "model_module_version": "1.0.0",
      "model_name": "DescriptionStyleModel",
      "state": {
       "description_width": ""
      }
     },
     "0d1ef0b0773047238cfecdf3e7bb3e43": {
      "model_module": "@jupyter-widgets/base",
      "model_module_version": "1.0.0",
      "model_name": "LayoutModel",
      "state": {}
     },
     "0d97a1c715b94c738a7e155b134414ca": {
      "model_module": "@jupyter-widgets/base",
      "model_module_version": "1.0.0",
      "model_name": "LayoutModel",
      "state": {}
     },
     "0e079d1b02ad43ea8b9c80258a4a9518": {
      "model_module": "@jupyter-widgets/controls",
      "model_module_version": "1.0.0",
      "model_name": "DescriptionStyleModel",
      "state": {
       "description_width": ""
      }
     },
     "0e20d345d5d5451bae1c994e1893f883": {
      "model_module": "@jupyter-widgets/base",
      "model_module_version": "1.0.0",
      "model_name": "LayoutModel",
      "state": {}
     },
     "0e2b1fd78d8440f68d5df7ea5d7bb0ff": {
      "model_module": "@jupyter-widgets/controls",
      "model_module_version": "1.0.0",
      "model_name": "BoxModel",
      "state": {
       "children": [
        "IPY_MODEL_66eec9e8ef3b4584b8a27f05dc45a3e9",
        "IPY_MODEL_ce689590a2c74f229a6d75cf45133bef"
       ],
       "layout": "IPY_MODEL_98338be136a2450793a230acd49bd15f"
      }
     },
     "0e66b93ccd6b44b0a58ff3d7f5913c73": {
      "model_module": "@jupyter-widgets/base",
      "model_module_version": "1.0.0",
      "model_name": "LayoutModel",
      "state": {}
     },
     "0ea82912d715493589c3899c685fd269": {
      "model_module": "@jupyter-widgets/controls",
      "model_module_version": "1.0.0",
      "model_name": "TextModel",
      "state": {
       "layout": "IPY_MODEL_e6b255133cd14add9fe04f39e4ed3edb",
       "style": "IPY_MODEL_f5847fa714fb425e9ae4be68e88f8035",
       "value": "0.00084"
      }
     },
     "0ea9914669974dd8b94babc98e1a6839": {
      "model_module": "@jupyter-widgets/base",
      "model_module_version": "1.0.0",
      "model_name": "LayoutModel",
      "state": {
       "width": "130px"
      }
     },
     "0f3285d87c764486899cb1e2872d19d0": {
      "model_module": "@jupyter-widgets/controls",
      "model_module_version": "1.0.0",
      "model_name": "TextModel",
      "state": {
       "layout": "IPY_MODEL_a5d7860b213c4e28ad9b548dbfcc96bf",
       "style": "IPY_MODEL_a70567d2a2184e6282bace3be80e9f46",
       "value": "0.000001"
      }
     },
     "0f8daf1e48f741ef8f746c5fc367144e": {
      "model_module": "@jupyter-widgets/controls",
      "model_module_version": "1.0.0",
      "model_name": "BoxModel",
      "state": {
       "children": [
        "IPY_MODEL_0a2b847fbc284bcf8fa24ca908f93422"
       ],
       "layout": "IPY_MODEL_3148c28ac3fe4ecab6d888e7429013b1"
      }
     },
     "0fd4452dcf1542a993ea33da5b9d2bbb": {
      "model_module": "@jupyter-widgets/base",
      "model_module_version": "1.0.0",
      "model_name": "LayoutModel",
      "state": {}
     },
     "102b41e5fe9d4f018d85f162503ba5f8": {
      "model_module": "@jupyter-widgets/controls",
      "model_module_version": "1.0.0",
      "model_name": "TextModel",
      "state": {
       "layout": "IPY_MODEL_bcb0da7d3e174f6c98d49c267df0ebb6",
       "style": "IPY_MODEL_4b24bfe596734fc28c041db00344f103",
       "value": "400"
      }
     },
     "112c98ee3e964db2ae886bc203bf0d5f": {
      "model_module": "@jupyter-widgets/controls",
      "model_module_version": "1.0.0",
      "model_name": "DescriptionStyleModel",
      "state": {
       "description_width": ""
      }
     },
     "11369bfa44ff45b184d619770aa5c4f4": {
      "model_module": "@jupyter-widgets/controls",
      "model_module_version": "1.0.0",
      "model_name": "LabelModel",
      "state": {
       "layout": "IPY_MODEL_62ddc8cf835444329a604a825b35dbfd",
       "style": "IPY_MODEL_ed0d48e422d241aaa0d1a815b77a75f6",
       "value": "Deep Water Depth: "
      }
     },
     "120194f5ea7045edaffd5cc39dedddd9": {
      "model_module": "@jupyter-widgets/base",
      "model_module_version": "1.0.0",
      "model_name": "LayoutModel",
      "state": {
       "width": "130px"
      }
     },
     "12f2dc3faa1a42d6ba82d167009b40d8": {
      "model_module": "@jupyter-widgets/base",
      "model_module_version": "1.0.0",
      "model_name": "LayoutModel",
      "state": {}
     },
     "1306f20e7fc546a7b7d672440c1c2e85": {
      "model_module": "@jupyter-widgets/controls",
      "model_module_version": "1.0.0",
      "model_name": "BoxModel",
      "state": {
       "children": [
        "IPY_MODEL_ab39c46c02474c4ca7403f2623467b7d",
        "IPY_MODEL_bceaeb6b218044af87aad58f5340b967"
       ],
       "layout": "IPY_MODEL_b0c705e5203a4f33816b996166fd9a99"
      }
     },
     "144e3a7a95b94c4ab26578a146ba76c0": {
      "model_module": "@jupyter-widgets/controls",
      "model_module_version": "1.0.0",
      "model_name": "BoxModel",
      "state": {
       "children": [
        "IPY_MODEL_46c4c06d9f284b2081c89cec38a8832d",
        "IPY_MODEL_f416cc82523b4c0498f3bda3c32f1c62"
       ],
       "layout": "IPY_MODEL_2d914eb9565848baaa5af38c9830c20d"
      }
     },
     "1482c4aa4d7e49d88444e72c8739a557": {
      "model_module": "@jupyter-widgets/base",
      "model_module_version": "1.0.0",
      "model_name": "LayoutModel",
      "state": {}
     },
     "14a31ec6b1554a1caf09d4dd4787fac0": {
      "model_module": "@jupyter-widgets/controls",
      "model_module_version": "1.0.0",
      "model_name": "TextModel",
      "state": {
       "layout": "IPY_MODEL_95bc12a721b64e08bf6be0003024bcdd",
       "style": "IPY_MODEL_eee73d90df6547c6bd962900779a0c98",
       "value": "40"
      }
     },
     "1552e98a45214ba38302361a91ccb9e1": {
      "model_module": "@jupyter-widgets/base",
      "model_module_version": "1.0.0",
      "model_name": "LayoutModel",
      "state": {}
     },
     "155697e621c34e6bb20d6fcf6ed6c87c": {
      "model_module": "@jupyter-widgets/base",
      "model_module_version": "1.0.0",
      "model_name": "LayoutModel",
      "state": {
       "align_items": "stretch",
       "flex_flow": "column"
      }
     },
     "156d27c876904bf695d692738c77e81d": {
      "model_module": "@jupyter-widgets/controls",
      "model_module_version": "1.0.0",
      "model_name": "ButtonStyleModel",
      "state": {}
     },
     "1575c88d8d254a549534753223b3b76f": {
      "model_module": "@jupyter-widgets/controls",
      "model_module_version": "1.0.0",
      "model_name": "TextModel",
      "state": {
       "layout": "IPY_MODEL_87676a05f0b44ce08e86aef55a733dfb",
       "style": "IPY_MODEL_6fb8ac4b98444330a6b49a2268fe55a7"
      }
     },
     "15d0437dd93f48168b0e56598f9993de": {
      "model_module": "@jupyter-widgets/base",
      "model_module_version": "1.0.0",
      "model_name": "LayoutModel",
      "state": {
       "width": "130px"
      }
     },
     "1624a41d6db94c628da34c78abcc2d1b": {
      "model_module": "@jupyter-widgets/controls",
      "model_module_version": "1.0.0",
      "model_name": "DescriptionStyleModel",
      "state": {
       "description_width": ""
      }
     },
     "1a024d8cf414465f8a1fe3cbbbccdd7e": {
      "model_module": "@jupyter-widgets/controls",
      "model_module_version": "1.0.0",
      "model_name": "BoxModel",
      "state": {
       "children": [
        "IPY_MODEL_fa0f35dc2b614345b2623683a7c73989",
        "IPY_MODEL_85ad6efc4b2246cdb6080a88709695d9"
       ],
       "layout": "IPY_MODEL_614c17c367654e34a0266fb78c40cb53"
      }
     },
     "1a3ec965afba485183b06905bf4adc87": {
      "model_module": "@jupyter-widgets/controls",
      "model_module_version": "1.0.0",
      "model_name": "DescriptionStyleModel",
      "state": {
       "description_width": ""
      }
     },
     "1a6e9c024f614c5fa0f3deee2abcb7a0": {
      "model_module": "@jupyter-widgets/controls",
      "model_module_version": "1.0.0",
      "model_name": "DescriptionStyleModel",
      "state": {
       "description_width": ""
      }
     },
     "1a8a7d91c0714e22aabbe5827a134120": {
      "model_module": "@jupyter-widgets/base",
      "model_module_version": "1.0.0",
      "model_name": "LayoutModel",
      "state": {}
     },
     "1b0c36f3d7a74ea7abae377d744e5563": {
      "model_module": "@jupyter-widgets/base",
      "model_module_version": "1.0.0",
      "model_name": "LayoutModel",
      "state": {
       "align_items": "stretch",
       "flex_flow": "column"
      }
     },
     "1b424dccd72e4f40aece231141b0f95b": {
      "model_module": "@jupyter-widgets/controls",
      "model_module_version": "1.0.0",
      "model_name": "TextModel",
      "state": {
       "layout": "IPY_MODEL_3669e6a62a5f485298083c3e498136fd",
       "style": "IPY_MODEL_d0e7e688bc1747049c914d50a2ec55d8",
       "value": "40"
      }
     },
     "1b78c6607ab841c69910dfe517660222": {
      "model_module": "@jupyter-widgets/base",
      "model_module_version": "1.0.0",
      "model_name": "LayoutModel",
      "state": {}
     },
     "1baf2fa1f5514a63a94c332f9ba6e5a0": {
      "model_module": "@jupyter-widgets/base",
      "model_module_version": "1.0.0",
      "model_name": "LayoutModel",
      "state": {
       "display": "flex",
       "flex_flow": "row",
       "justify_content": "flex-start",
       "width": "50%"
      }
     },
     "1bcb4d7060d847378940906ed088288a": {
      "model_module": "@jupyter-widgets/controls",
      "model_module_version": "1.0.0",
      "model_name": "ButtonModel",
      "state": {
       "description": "Clear Plot",
       "layout": "IPY_MODEL_e28666c9c79143aab8219b123da62009",
       "style": "IPY_MODEL_29b56aad1a504aaaa8505cabc344d2a2"
      }
     },
     "1c406981768e4e50b4dc751725c1947a": {
      "model_module": "@jupyter-widgets/controls",
      "model_module_version": "1.0.0",
      "model_name": "TextModel",
      "state": {
       "layout": "IPY_MODEL_d1d4ad9f1c864c719ad0d0febf143861",
       "style": "IPY_MODEL_1a3ec965afba485183b06905bf4adc87",
       "value": "0.001"
      }
     },
     "1c7847d27ab54004b906b38d8dcf4810": {
      "model_module": "@jupyter-widgets/controls",
      "model_module_version": "1.0.0",
      "model_name": "LabelModel",
      "state": {
       "layout": "IPY_MODEL_339d919513154e1fa61658228fe7c0dc",
       "style": "IPY_MODEL_4bb37bfbaf024c1db0dc3d7606e3899a",
       "value": "Wind Velocity: "
      }
     },
     "1d5f7bd92d08469099460feb6ce87d0d": {
      "model_module": "@jupyter-widgets/controls",
      "model_module_version": "1.0.0",
      "model_name": "BoxModel",
      "state": {
       "children": [
        "IPY_MODEL_01578e0abbd64b1489ddb563581e8508"
       ],
       "layout": "IPY_MODEL_f48114520d024f8a87271046669d8bda"
      }
     },
     "1d7ff75c223e48c28314f0363dce1b10": {
      "model_module": "@jupyter-widgets/controls",
      "model_module_version": "1.0.0",
      "model_name": "DescriptionStyleModel",
      "state": {
       "description_width": ""
      }
     },
     "1d8aac794f854eebbf041a2146f14e70": {
      "model_module": "@jupyter-widgets/base",
      "model_module_version": "1.0.0",
      "model_name": "LayoutModel",
      "state": {
       "align_items": "stretch",
       "flex_flow": "column"
      }
     },
     "1d982a3bdb61460cae847af98a714876": {
      "model_module": "@jupyter-widgets/controls",
      "model_module_version": "1.0.0",
      "model_name": "BoxModel",
      "state": {
       "children": [
        "IPY_MODEL_945f0aeb4262432db3d5490cf25b9182",
        "IPY_MODEL_50ae159e2177406b886bc703d74dd61d",
        "IPY_MODEL_c60991306f18467e980fc955f048c1a7",
        "IPY_MODEL_54ca77ac3f61425094e4d6e4140606de"
       ],
       "layout": "IPY_MODEL_ba9c249a89b04bf5b0975c95a062dff4"
      }
     },
     "1e88f2f105d74c978467658ca172ce6d": {
      "model_module": "@jupyter-widgets/controls",
      "model_module_version": "1.0.0",
      "model_name": "BoxModel",
      "state": {
       "children": [
        "IPY_MODEL_240a299c761d47629af248aaff588fbe",
        "IPY_MODEL_4576ab0251cf4c48a5565878e3c21a93",
        "IPY_MODEL_ff6f1722d5c144c290d163f25812360c",
        "IPY_MODEL_da1a6b95e9694176aa863b7b1a2aac16"
       ],
       "layout": "IPY_MODEL_37b0e610db6143e0b9c1d68964f556ae"
      }
     },
     "1ecf2adebba1450aa9686a303f000ab8": {
      "model_module": "@jupyter-widgets/controls",
      "model_module_version": "1.0.0",
      "model_name": "TextModel",
      "state": {
       "layout": "IPY_MODEL_a5200a460efe467a864cf09cc736a58c",
       "style": "IPY_MODEL_e7a502d9be774ad583d412c236d06ea9"
      }
     },
     "1f05ac050e8248178d842d7748723df2": {
      "model_module": "@jupyter-widgets/controls",
      "model_module_version": "1.0.0",
      "model_name": "DescriptionStyleModel",
      "state": {
       "description_width": ""
      }
     },
     "1f26e7892ac941eca11fd1a63275cb08": {
      "model_module": "@jupyter-widgets/controls",
      "model_module_version": "1.0.0",
      "model_name": "TextModel",
      "state": {
       "layout": "IPY_MODEL_8ba5f2613ca341fab88e997463fae593",
       "style": "IPY_MODEL_5653fbc27abf411e84cb66eaee4dcddc"
      }
     },
     "1fd9802d5d86433181d73251ec8701a8": {
      "model_module": "@jupyter-widgets/controls",
      "model_module_version": "1.0.0",
      "model_name": "LabelModel",
      "state": {
       "layout": "IPY_MODEL_a9e5a32f095549848c954fc133ecb960",
       "style": "IPY_MODEL_9dd36cf08ffb431e872d3b2aa5ee36df",
       "value": "Wind Velocity: "
      }
     },
     "2088c44bde864d64bbd4c86fd73c4676": {
      "model_module": "@jupyter-widgets/controls",
      "model_module_version": "1.0.0",
      "model_name": "ButtonStyleModel",
      "state": {}
     },
     "20de18cd8a104dd48c50f5487f166734": {
      "model_module": "@jupyter-widgets/controls",
      "model_module_version": "1.0.0",
      "model_name": "DescriptionStyleModel",
      "state": {
       "description_width": ""
      }
     },
     "20e87ff6784545608686ea2e5ae27272": {
      "model_module": "@jupyter-widgets/controls",
      "model_module_version": "1.0.0",
      "model_name": "BoxModel",
      "state": {
       "children": [
        "IPY_MODEL_4891645375304574b9dc0907838647dd",
        "IPY_MODEL_5bcc174a0a874db8b7962de3fcc8932f"
       ],
       "layout": "IPY_MODEL_cede2715862c432eaf499fa0865c1ab0"
      }
     },
     "2169de6d9c96408aa0df928de347207b": {
      "model_module": "@jupyter-widgets/base",
      "model_module_version": "1.0.0",
      "model_name": "LayoutModel",
      "state": {}
     },
     "2180f603459e43efa2cdf66f74cbf52c": {
      "model_module": "@jupyter-widgets/base",
      "model_module_version": "1.0.0",
      "model_name": "LayoutModel",
      "state": {
       "display": "flex",
       "flex_flow": "row",
       "justify_content": "flex-start",
       "width": "50%"
      }
     },
     "21b54590d18c4f17bc711bddf92a19a6": {
      "model_module": "@jupyter-widgets/controls",
      "model_module_version": "1.0.0",
      "model_name": "LabelModel",
      "state": {
       "layout": "IPY_MODEL_ad275c398eb44c969d01eb76eabb7a87",
       "style": "IPY_MODEL_429eacc19ccc47259d36364896bf0dfd",
       "value": "Deep Water Depth: "
      }
     },
     "21d70df9eff74e46ab68a91c2b537f8c": {
      "model_module": "@jupyter-widgets/controls",
      "model_module_version": "1.0.0",
      "model_name": "LabelModel",
      "state": {
       "layout": "IPY_MODEL_365f41417c804f499a67b272b48da607",
       "style": "IPY_MODEL_6dbfeb0296bd467eb054038106beca44",
       "value": "Bed Slope: "
      }
     },
     "21e10d2a8ec34f0b9d447b67c36ed3b5": {
      "model_module": "@jupyter-widgets/controls",
      "model_module_version": "1.0.0",
      "model_name": "TextModel",
      "state": {
       "layout": "IPY_MODEL_7f435a3a2fbf4bee8658680b24c55e96",
       "style": "IPY_MODEL_ebdbd2d568b041c583ace28d4c732f0b",
       "value": "40"
      }
     },
     "22af089287e448ec907a3b47761b23c9": {
      "model_module": "@jupyter-widgets/controls",
      "model_module_version": "1.0.0",
      "model_name": "BoxModel",
      "state": {
       "children": [
        "IPY_MODEL_d163f706cb3e4b54b6c3b13e187a8ab1"
       ],
       "layout": "IPY_MODEL_e55df6df85224104a71142e5fba692cb"
      }
     },
     "22f47f149f6642de8c32f3cd55dbe7cd": {
      "model_module": "@jupyter-widgets/controls",
      "model_module_version": "1.0.0",
      "model_name": "DescriptionStyleModel",
      "state": {
       "description_width": ""
      }
     },
     "237f606a6cbb41e2a6489b079e5166e6": {
      "model_module": "@jupyter-widgets/controls",
      "model_module_version": "1.0.0",
      "model_name": "DescriptionStyleModel",
      "state": {
       "description_width": ""
      }
     },
     "23d45d3df70c45c18f2abdc61b9650c1": {
      "model_module": "@jupyter-widgets/base",
      "model_module_version": "1.0.0",
      "model_name": "LayoutModel",
      "state": {
       "display": "flex",
       "flex_flow": "row",
       "justify_content": "flex-start",
       "width": "50%"
      }
     },
     "2402b2cf3b7f49edbda271238f8ccfa1": {
      "model_module": "@jupyter-widgets/base",
      "model_module_version": "1.0.0",
      "model_name": "LayoutModel",
      "state": {}
     },
     "240a299c761d47629af248aaff588fbe": {
      "model_module": "@jupyter-widgets/controls",
      "model_module_version": "1.0.0",
      "model_name": "BoxModel",
      "state": {
       "children": [
        "IPY_MODEL_11369bfa44ff45b184d619770aa5c4f4",
        "IPY_MODEL_c48eecaec93c42f5a7509634ccaa3aa1"
       ],
       "layout": "IPY_MODEL_23d45d3df70c45c18f2abdc61b9650c1"
      }
     },
     "242252b88f544e2da56f73074f5d5cff": {
      "model_module": "@jupyter-widgets/controls",
      "model_module_version": "1.0.0",
      "model_name": "BoxModel",
      "state": {
       "children": [
        "IPY_MODEL_c1d333594272472195d24a788c48afa1",
        "IPY_MODEL_4814564b1039483daca5da186fa2adf0",
        "IPY_MODEL_0ca9e30305144d9e95fedeb2d275ae60",
        "IPY_MODEL_c4c883ea7ddd426cb17ff839c024da45"
       ],
       "layout": "IPY_MODEL_e9e5d8967db34da5b9a8bcd217fdbf37"
      }
     },
     "24d751227db1481bb8f1109737c0a108": {
      "model_module": "@jupyter-widgets/controls",
      "model_module_version": "1.0.0",
      "model_name": "ButtonModel",
      "state": {
       "description": "Show result and plot",
       "layout": "IPY_MODEL_ea3ddb53e3654f63882ce7c3e034e6bb",
       "style": "IPY_MODEL_7bca46c62ebd4154a3438934c43e25a1"
      }
     },
     "254c56171a2f470c862cd570c3ddfe52": {
      "model_module": "@jupyter-widgets/controls",
      "model_module_version": "1.0.0",
      "model_name": "DescriptionStyleModel",
      "state": {
       "description_width": ""
      }
     },
     "2598fe0fa95e4974962bf703b1f8b9ab": {
      "model_module": "@jupyter-widgets/controls",
      "model_module_version": "1.0.0",
      "model_name": "BoxModel",
      "state": {
       "children": [
        "IPY_MODEL_444448a6a6b148fc89e9753b78ccb0ba",
        "IPY_MODEL_b2413c234f5242ad87e151497f83df02"
       ],
       "layout": "IPY_MODEL_e55df6df85224104a71142e5fba692cb"
      }
     },
     "262ad7f43a354d4eac6a3bc9d8b06e6b": {
      "model_module": "@jupyter-widgets/controls",
      "model_module_version": "1.0.0",
      "model_name": "TextModel",
      "state": {
       "layout": "IPY_MODEL_d48de085a7c54e0d88147fc8a3619024",
       "style": "IPY_MODEL_22f47f149f6642de8c32f3cd55dbe7cd",
       "value": "0.00084"
      }
     },
     "2637472610034804a105a1b5bbdff45f": {
      "model_module": "@jupyter-widgets/controls",
      "model_module_version": "1.0.0",
      "model_name": "BoxModel",
      "state": {
       "children": [
        "IPY_MODEL_cb26b8dbc455459ea25c030c914412e7",
        "IPY_MODEL_713a43e4fdda42cd94f878b4ebd56c37"
       ],
       "layout": "IPY_MODEL_cb25c51b0722414aa82172e6567ecdfe"
      }
     },
     "26c7ca0e5de648449fb36f2f4da5fbd1": {
      "model_module": "@jupyter-widgets/controls",
      "model_module_version": "1.0.0",
      "model_name": "LabelModel",
      "state": {
       "layout": "IPY_MODEL_a6bd450d148c4c81958bc812992f3fc7",
       "style": "IPY_MODEL_796149525a714dc9aa0c882463b9b919",
       "value": "Deep Water Depth: "
      }
     },
     "274d9feb48cc4b8bbee711e862719bce": {
      "model_module": "@jupyter-widgets/controls",
      "model_module_version": "1.0.0",
      "model_name": "ButtonModel",
      "state": {
       "description": "Show result and plot",
       "layout": "IPY_MODEL_a59ef87102df45b4a52d2e7dc844e8f1",
       "style": "IPY_MODEL_df78996dc2574b52bd1006430f8e3b9a"
      }
     },
     "27ac42d2b6264667af2e27ea0b6955ad": {
      "model_module": "@jupyter-widgets/controls",
      "model_module_version": "1.0.0",
      "model_name": "DescriptionStyleModel",
      "state": {
       "description_width": ""
      }
     },
     "27f94ab8e0c8469d9b5514daec64db2c": {
      "model_module": "@jupyter-widgets/controls",
      "model_module_version": "1.0.0",
      "model_name": "BoxModel",
      "state": {
       "children": [
        "IPY_MODEL_deb3c3a84a0c4c0d9fe754b3c1e49594",
        "IPY_MODEL_db43b592707e431f8b1f74a145e885d6",
        "IPY_MODEL_6df74d401e334c4db015917424aa0858",
        "IPY_MODEL_5242ca7eb3e14e80bf7a17e955f2a1e7"
       ],
       "layout": "IPY_MODEL_3b243fd09e7b4b4c86f6b7c306c5d0a6"
      }
     },
     "28a891c1880a438981a919c8b6f95e61": {
      "model_module": "@jupyter-widgets/base",
      "model_module_version": "1.0.0",
      "model_name": "LayoutModel",
      "state": {}
     },
     "28d273c5d75c4fc1bcc3db3d84f6397b": {
      "model_module": "@jupyter-widgets/controls",
      "model_module_version": "1.0.0",
      "model_name": "DescriptionStyleModel",
      "state": {
       "description_width": ""
      }
     },
     "28dfbce3c2134276b96adb68b8a3fae4": {
      "model_module": "@jupyter-widgets/controls",
      "model_module_version": "1.0.0",
      "model_name": "LabelModel",
      "state": {
       "layout": "IPY_MODEL_ef54e4cb53964060b3c31b2e86f7ec50",
       "style": "IPY_MODEL_3822e90a6c044cbf983e77a45a9e9764",
       "value": "Deep Water Depth: "
      }
     },
     "2908381495524712b24bb5159887da05": {
      "model_module": "@jupyter-widgets/base",
      "model_module_version": "1.0.0",
      "model_name": "LayoutModel",
      "state": {}
     },
     "29b56aad1a504aaaa8505cabc344d2a2": {
      "model_module": "@jupyter-widgets/controls",
      "model_module_version": "1.0.0",
      "model_name": "ButtonStyleModel",
      "state": {}
     },
     "29e82ae57c3148f181356bf73401c2fe": {
      "model_module": "@jupyter-widgets/controls",
      "model_module_version": "1.0.0",
      "model_name": "BoxModel",
      "state": {
       "children": [
        "IPY_MODEL_e030abe7f0864a108581eee13e6ad624"
       ],
       "layout": "IPY_MODEL_7565528870954ea69266890aa7618cc1"
      }
     },
     "2a01477e14b44462a65cae3892337a1c": {
      "model_module": "@jupyter-widgets/base",
      "model_module_version": "1.0.0",
      "model_name": "LayoutModel",
      "state": {}
     },
     "2a30d41d4690477b9fc93da8675dbd3e": {
      "model_module": "@jupyter-widgets/controls",
      "model_module_version": "1.0.0",
      "model_name": "LabelModel",
      "state": {
       "layout": "IPY_MODEL_fe505902dd9c4911a55cadda4596d571",
       "style": "IPY_MODEL_67e6952fbb0a437b8bc9c1489137392d",
       "value": "Deep Water Depth: "
      }
     },
     "2a3138b3cfc2427280b75affbf4ed711": {
      "model_module": "@jupyter-widgets/controls",
      "model_module_version": "1.0.0",
      "model_name": "BoxModel",
      "state": {
       "children": [
        "IPY_MODEL_866faeb048184c50ae85120577b70764",
        "IPY_MODEL_a08f97df6cf5498b97117db325ae495b"
       ],
       "layout": "IPY_MODEL_cede2715862c432eaf499fa0865c1ab0"
      }
     },
     "2a933f72168d45068d48d1ef5320d728": {
      "model_module": "@jupyter-widgets/controls",
      "model_module_version": "1.0.0",
      "model_name": "BoxModel",
      "state": {
       "children": [
        "IPY_MODEL_c71001ba3c084250a3aa52d7fefae960",
        "IPY_MODEL_0f3285d87c764486899cb1e2872d19d0"
       ],
       "layout": "IPY_MODEL_0983499027a9488ca91e2c5a3533fa53"
      }
     },
     "2af060c005104c97b5777049ed986dc0": {
      "model_module": "@jupyter-widgets/controls",
      "model_module_version": "1.0.0",
      "model_name": "DescriptionStyleModel",
      "state": {
       "description_width": ""
      }
     },
     "2b7ea5a145d7423daa7ae554cbcc6953": {
      "model_module": "@jupyter-widgets/controls",
      "model_module_version": "1.0.0",
      "model_name": "DescriptionStyleModel",
      "state": {
       "description_width": ""
      }
     },
     "2bf97e6aa8a84c2782200e4a9ab42fab": {
      "model_module": "@jupyter-widgets/controls",
      "model_module_version": "1.0.0",
      "model_name": "LabelModel",
      "state": {
       "layout": "IPY_MODEL_fe505902dd9c4911a55cadda4596d571",
       "style": "IPY_MODEL_8561f1caf87e4ec28551b74daba5be33",
       "value": "Wind Velocity: "
      }
     },
     "2c1414fd1aae48998e1fe704784916e7": {
      "model_module": "@jupyter-widgets/controls",
      "model_module_version": "1.0.0",
      "model_name": "LabelModel",
      "state": {
       "layout": "IPY_MODEL_ef54e4cb53964060b3c31b2e86f7ec50",
       "style": "IPY_MODEL_ba3d3ae3e8f345beb8bff7b6f28a47b2",
       "value": "Bed Slope: "
      }
     },
     "2d79998c63a64355be098367484961d0": {
      "model_module": "@jupyter-widgets/controls",
      "model_module_version": "1.0.0",
      "model_name": "BoxModel",
      "state": {
       "children": [
        "IPY_MODEL_7b84395c61204ae4b01d181183c33af2",
        "IPY_MODEL_e9db2c57854347838177d789dd2be113",
        "IPY_MODEL_2a933f72168d45068d48d1ef5320d728",
        "IPY_MODEL_765224f7fd134152b9857fd8d6349355"
       ],
       "layout": "IPY_MODEL_c24c5365909d4f219ef3f8772e3d25ff"
      }
     },
     "2d914eb9565848baaa5af38c9830c20d": {
      "model_module": "@jupyter-widgets/base",
      "model_module_version": "1.0.0",
      "model_name": "LayoutModel",
      "state": {
       "display": "flex",
       "flex_flow": "row",
       "justify_content": "flex-start",
       "width": "50%"
      }
     },
     "2dd24d2660834de4b373e119494520a1": {
      "model_module": "@jupyter-widgets/controls",
      "model_module_version": "1.0.0",
      "model_name": "BoxModel",
      "state": {
       "children": [
        "IPY_MODEL_dc88df1591a4480fa65e06108d018fff",
        "IPY_MODEL_b28998f2f8324a8ebb92e600808a4948"
       ],
       "layout": "IPY_MODEL_885c3dfa976f499e974f26d2f93dd4d0"
      }
     },
     "2e7dbf7b9f494485ae161a910f3226a7": {
      "model_module": "@jupyter-widgets/base",
      "model_module_version": "1.0.0",
      "model_name": "LayoutModel",
      "state": {}
     },
     "2f9fe11cf1524d15a41ba7c23464e1f3": {
      "model_module": "@jupyter-widgets/base",
      "model_module_version": "1.0.0",
      "model_name": "LayoutModel",
      "state": {}
     },
     "2fac41268cb34f528455fe527cccf449": {
      "model_module": "@jupyter-widgets/controls",
      "model_module_version": "1.0.0",
      "model_name": "DescriptionStyleModel",
      "state": {
       "description_width": ""
      }
     },
     "30b777aa6c8a43f6a28fc60d6eacab5f": {
      "model_module": "@jupyter-widgets/controls",
      "model_module_version": "1.0.0",
      "model_name": "DescriptionStyleModel",
      "state": {
       "description_width": ""
      }
     },
     "30c28594561f40388526065eefb7a7dd": {
      "model_module": "@jupyter-widgets/controls",
      "model_module_version": "1.0.0",
      "model_name": "BoxModel",
      "state": {
       "children": [
        "IPY_MODEL_8aaca4a356214cb580260625d35cff0b"
       ],
       "layout": "IPY_MODEL_f66f0ab492c04b669f902a504288196e"
      }
     },
     "3119092a1aa14eeea912ee733279eed0": {
      "model_module": "@jupyter-widgets/controls",
      "model_module_version": "1.0.0",
      "model_name": "ButtonModel",
      "state": {
       "description": "Show Plot",
       "layout": "IPY_MODEL_8302c56043f14d7481f7f7dbab036152",
       "style": "IPY_MODEL_478d0c3db3bc41bda86465c2a84491b1"
      }
     },
     "3148c28ac3fe4ecab6d888e7429013b1": {
      "model_module": "@jupyter-widgets/base",
      "model_module_version": "1.0.0",
      "model_name": "LayoutModel",
      "state": {
       "display": "flex",
       "flex_flow": "row",
       "justify_content": "flex-start",
       "width": "50%"
      }
     },
     "31c63a2fa38e4e8480660c37cbe8eb0d": {
      "model_module": "@jupyter-widgets/controls",
      "model_module_version": "1.0.0",
      "model_name": "BoxModel",
      "state": {
       "children": [
        "IPY_MODEL_e2f312324a624aceac365dbaa705416b",
        "IPY_MODEL_7410d50017ab43c9a2599e7ce009ce9a",
        "IPY_MODEL_d7b95b96fa7a429e92aca364c5b0334d",
        "IPY_MODEL_03de8a2fb6104e4bb8ab68fd8a4f01a7"
       ],
       "layout": "IPY_MODEL_b949d40406824f10807eb0a78a6ad692"
      }
     },
     "31ecb7550cb34e5f88c6c03d2bbbcf23": {
      "model_module": "@jupyter-widgets/controls",
      "model_module_version": "1.0.0",
      "model_name": "DescriptionStyleModel",
      "state": {
       "description_width": ""
      }
     },
     "32122ca0049b4c6aa78a13759c9eb39f": {
      "model_module": "@jupyter-widgets/controls",
      "model_module_version": "1.0.0",
      "model_name": "BoxModel",
      "state": {
       "children": [
        "IPY_MODEL_6b0362d284c84a1ebfa047e923c342e5"
       ],
       "layout": "IPY_MODEL_b0c705e5203a4f33816b996166fd9a99"
      }
     },
     "322bf7cac5544329a48e778609aa8ddb": {
      "model_module": "@jupyter-widgets/controls",
      "model_module_version": "1.0.0",
      "model_name": "DescriptionStyleModel",
      "state": {
       "description_width": ""
      }
     },
     "325594ec6a654563ab39c0c09245069b": {
      "model_module": "@jupyter-widgets/controls",
      "model_module_version": "1.0.0",
      "model_name": "DescriptionStyleModel",
      "state": {
       "description_width": ""
      }
     },
     "334ce2ec218a41eeb235f1f78bbd554c": {
      "model_module": "@jupyter-widgets/controls",
      "model_module_version": "1.0.0",
      "model_name": "LabelModel",
      "state": {
       "layout": "IPY_MODEL_68317adaaebc45d79c5079b4acf99361",
       "style": "IPY_MODEL_bc03ddebd53e4dd5a619cb815a0a6f56",
       "value": "Bed Slope: "
      }
     },
     "339d919513154e1fa61658228fe7c0dc": {
      "model_module": "@jupyter-widgets/base",
      "model_module_version": "1.0.0",
      "model_name": "LayoutModel",
      "state": {
       "width": "130px"
      }
     },
     "33af5760933e43338705f33367159dcb": {
      "model_module": "@jupyter-widgets/controls",
      "model_module_version": "1.0.0",
      "model_name": "BoxModel",
      "state": {
       "children": [
        "IPY_MODEL_2637472610034804a105a1b5bbdff45f",
        "IPY_MODEL_4223d155a6364b548c8d7eb0e5f42c50",
        "IPY_MODEL_8329d44397774fcab690e223f7037820",
        "IPY_MODEL_e5b61897b50541308367a29f4472aaa1"
       ],
       "layout": "IPY_MODEL_46fa297c6bfe49d4a72ff71a5095524b"
      }
     },
     "3433b341fc9e44adbe071c9636a6ad51": {
      "model_module": "@jupyter-widgets/controls",
      "model_module_version": "1.0.0",
      "model_name": "DescriptionStyleModel",
      "state": {
       "description_width": ""
      }
     },
     "343c3dd7f60948f7af6c0588adaadb8a": {
      "model_module": "@jupyter-widgets/controls",
      "model_module_version": "1.0.0",
      "model_name": "BoxModel",
      "state": {
       "children": [
        "IPY_MODEL_b6db0ff8f2504d439ad39bdd5a0603d3",
        "IPY_MODEL_daf103fa11e54dab9e3541c352907905"
       ],
       "layout": "IPY_MODEL_614c17c367654e34a0266fb78c40cb53"
      }
     },
     "34c994e0e1264ef4a8ee76bba4ebdeb3": {
      "model_module": "@jupyter-widgets/controls",
      "model_module_version": "1.0.0",
      "model_name": "DescriptionStyleModel",
      "state": {
       "description_width": ""
      }
     },
     "35a46e602d4f4c45a0293151203401b2": {
      "model_module": "@jupyter-widgets/base",
      "model_module_version": "1.0.0",
      "model_name": "LayoutModel",
      "state": {
       "align_items": "stretch",
       "flex_flow": "column"
      }
     },
     "35d238e6785e464d8214361a7ef9e4c4": {
      "model_module": "@jupyter-widgets/controls",
      "model_module_version": "1.0.0",
      "model_name": "DescriptionStyleModel",
      "state": {
       "description_width": ""
      }
     },
     "365f41417c804f499a67b272b48da607": {
      "model_module": "@jupyter-widgets/base",
      "model_module_version": "1.0.0",
      "model_name": "LayoutModel",
      "state": {
       "width": "130px"
      }
     },
     "3669e6a62a5f485298083c3e498136fd": {
      "model_module": "@jupyter-widgets/base",
      "model_module_version": "1.0.0",
      "model_name": "LayoutModel",
      "state": {}
     },
     "36ae9c06ce6d4a50aff6b43cd4e7b89b": {
      "model_module": "@jupyter-widgets/controls",
      "model_module_version": "1.0.0",
      "model_name": "ButtonStyleModel",
      "state": {}
     },
     "374ad737b8e143abae4c57ab333b3304": {
      "model_module": "@jupyter-widgets/base",
      "model_module_version": "1.0.0",
      "model_name": "LayoutModel",
      "state": {}
     },
     "37b0e610db6143e0b9c1d68964f556ae": {
      "model_module": "@jupyter-widgets/base",
      "model_module_version": "1.0.0",
      "model_name": "LayoutModel",
      "state": {
       "align_items": "stretch",
       "flex_flow": "column"
      }
     },
     "37d117e8c9f24e58ac1e3ac9fe4d3f35": {
      "model_module": "@jupyter-widgets/base",
      "model_module_version": "1.0.0",
      "model_name": "LayoutModel",
      "state": {
       "display": "flex",
       "flex_flow": "row",
       "justify_content": "flex-start",
       "width": "50%"
      }
     },
     "3822e90a6c044cbf983e77a45a9e9764": {
      "model_module": "@jupyter-widgets/controls",
      "model_module_version": "1.0.0",
      "model_name": "DescriptionStyleModel",
      "state": {
       "description_width": ""
      }
     },
     "3997f97bfa464030950290b10989f95a": {
      "model_module": "@jupyter-widgets/controls",
      "model_module_version": "1.0.0",
      "model_name": "BoxModel",
      "state": {
       "children": [
        "IPY_MODEL_46b13fbc904044fb8abcfd009ddeaf91",
        "IPY_MODEL_7f9e4e6d520d4dc18b757074a6448765",
        "IPY_MODEL_2598fe0fa95e4974962bf703b1f8b9ab",
        "IPY_MODEL_22af089287e448ec907a3b47761b23c9"
       ],
       "layout": "IPY_MODEL_cccf4a78a83442fea424fa16732457ea"
      }
     },
     "3a3aab9506dc4a2cae17f020f028dc98": {
      "model_module": "@jupyter-widgets/controls",
      "model_module_version": "1.0.0",
      "model_name": "DescriptionStyleModel",
      "state": {
       "description_width": ""
      }
     },
     "3aa0cf97249847d5a1197c4aa406ae77": {
      "model_module": "@jupyter-widgets/controls",
      "model_module_version": "1.0.0",
      "model_name": "LabelModel",
      "state": {
       "layout": "IPY_MODEL_7579fe2c2da54cd8bcdf4566e5f8f4c0",
       "style": "IPY_MODEL_ea781e46dd0b476f9c740691c55d749d",
       "value": "Bed Slope: "
      }
     },
     "3b243fd09e7b4b4c86f6b7c306c5d0a6": {
      "model_module": "@jupyter-widgets/base",
      "model_module_version": "1.0.0",
      "model_name": "LayoutModel",
      "state": {
       "align_items": "stretch",
       "flex_flow": "column"
      }
     },
     "3b3478898ded45d4a8d13d19e0fdb4ed": {
      "model_module": "@jupyter-widgets/base",
      "model_module_version": "1.0.0",
      "model_name": "LayoutModel",
      "state": {}
     },
     "3be5eadf492a4587a63478996ed14e41": {
      "model_module": "@jupyter-widgets/controls",
      "model_module_version": "1.0.0",
      "model_name": "TextModel",
      "state": {
       "layout": "IPY_MODEL_6dc6a810ee4e4f0987e1c54a7406e885",
       "style": "IPY_MODEL_30b777aa6c8a43f6a28fc60d6eacab5f",
       "value": "40"
      }
     },
     "3cd58d917afa4f99852110e2aa7faaba": {
      "model_module": "@jupyter-widgets/controls",
      "model_module_version": "1.0.0",
      "model_name": "LabelModel",
      "state": {
       "layout": "IPY_MODEL_b6be5e0f7c924da397e18b1f57bfb332",
       "style": "IPY_MODEL_7f8ea74f03b04b7cac6a83ca28dc8efc",
       "value": "Bed Slope: "
      }
     },
     "3d3b6260d2af4202a3bbedc3a3831755": {
      "model_module": "@jupyter-widgets/controls",
      "model_module_version": "1.0.0",
      "model_name": "ButtonStyleModel",
      "state": {}
     },
     "3d74cca6db4b47ddb0b9cbc8bea43eaf": {
      "model_module": "@jupyter-widgets/controls",
      "model_module_version": "1.0.0",
      "model_name": "DescriptionStyleModel",
      "state": {
       "description_width": ""
      }
     },
     "3db8ddf6eae34fa3877b89b4258c01d8": {
      "model_module": "@jupyter-widgets/controls",
      "model_module_version": "1.0.0",
      "model_name": "TextModel",
      "state": {
       "layout": "IPY_MODEL_8ba0b8e075f24e0dae390d651b7c0a94",
       "style": "IPY_MODEL_8c56509ec88749919646c03d18810eb8"
      }
     },
     "3e319b2e6c994a0f808313351b65d1a8": {
      "model_module": "@jupyter-widgets/base",
      "model_module_version": "1.0.0",
      "model_name": "LayoutModel",
      "state": {}
     },
     "3ef2ef82031d44e0a9d1ea04afd81ba6": {
      "model_module": "@jupyter-widgets/base",
      "model_module_version": "1.0.0",
      "model_name": "LayoutModel",
      "state": {
       "align_items": "stretch",
       "flex_flow": "column"
      }
     },
     "3f36a7d51b154de8a60509aa053c2a44": {
      "model_module": "@jupyter-widgets/controls",
      "model_module_version": "1.0.0",
      "model_name": "BoxModel",
      "state": {
       "children": [
        "IPY_MODEL_be6c4a6c16bf4024b97d7819607b8cf6",
        "IPY_MODEL_94337198e9854b34af133ade5c99abad"
       ],
       "layout": "IPY_MODEL_cede2715862c432eaf499fa0865c1ab0"
      }
     },
     "3f7f01b48cd7429bb747d654a78a3345": {
      "model_module": "@jupyter-widgets/controls",
      "model_module_version": "1.0.0",
      "model_name": "LabelModel",
      "state": {
       "layout": "IPY_MODEL_b422fd5a0c9f4c28b34ae6755216edf2",
       "style": "IPY_MODEL_72db9957f5f048c39045c0d9e290dc4c",
       "value": "Deep Water Depth: "
      }
     },
     "3fb0c9ac2c114fc3b57449036dec3076": {
      "model_module": "@jupyter-widgets/base",
      "model_module_version": "1.0.0",
      "model_name": "LayoutModel",
      "state": {
       "align_items": "stretch",
       "flex_flow": "column"
      }
     },
     "40032647f35d4cae8a9fbd96650533fb": {
      "model_module": "@jupyter-widgets/controls",
      "model_module_version": "1.0.0",
      "model_name": "LabelModel",
      "state": {
       "layout": "IPY_MODEL_db2fc8f304534094ab60411f84e25d0e",
       "style": "IPY_MODEL_b424217d40ae4179bab3e0ef29186fe5",
       "value": "Deep Water Depth: "
      }
     },
     "412973542470416bb0c5634e59e552ca": {
      "model_module": "@jupyter-widgets/base",
      "model_module_version": "1.0.0",
      "model_name": "LayoutModel",
      "state": {}
     },
     "412b2c4d5aef47ad8e92a17e3e576ed5": {
      "model_module": "@jupyter-widgets/base",
      "model_module_version": "1.0.0",
      "model_name": "LayoutModel",
      "state": {}
     },
     "4223d155a6364b548c8d7eb0e5f42c50": {
      "model_module": "@jupyter-widgets/controls",
      "model_module_version": "1.0.0",
      "model_name": "BoxModel",
      "state": {
       "children": [
        "IPY_MODEL_fbd7870955a042a6a318f44d1e05d849",
        "IPY_MODEL_69cea5bda6be40b4ad32d3b2434061cc"
       ],
       "layout": "IPY_MODEL_cb25c51b0722414aa82172e6567ecdfe"
      }
     },
     "429eacc19ccc47259d36364896bf0dfd": {
      "model_module": "@jupyter-widgets/controls",
      "model_module_version": "1.0.0",
      "model_name": "DescriptionStyleModel",
      "state": {
       "description_width": ""
      }
     },
     "43543eda2ff24eb18ae38bcfb9f81c49": {
      "model_module": "@jupyter-widgets/controls",
      "model_module_version": "1.0.0",
      "model_name": "LabelModel",
      "state": {
       "layout": "IPY_MODEL_8644be3b1d4c4fb5994335948ab0aab1",
       "style": "IPY_MODEL_ac636a83eaa34404a4635fbc12df84ee",
       "value": "Wind Velocity: "
      }
     },
     "43cb8a85965840d1a608c8abfbe753bc": {
      "model_module": "@jupyter-widgets/controls",
      "model_module_version": "1.0.0",
      "model_name": "DescriptionStyleModel",
      "state": {
       "description_width": ""
      }
     },
     "43cf2dbbbdac4f6a8549b549f51dabdd": {
      "model_module": "@jupyter-widgets/controls",
      "model_module_version": "1.0.0",
      "model_name": "ButtonStyleModel",
      "state": {}
     },
     "444448a6a6b148fc89e9753b78ccb0ba": {
      "model_module": "@jupyter-widgets/controls",
      "model_module_version": "1.0.0",
      "model_name": "LabelModel",
      "state": {
       "layout": "IPY_MODEL_15d0437dd93f48168b0e56598f9993de",
       "style": "IPY_MODEL_76f0efa3d7644d92899e9b3cfbfb421b",
       "value": "Bed Slope: "
      }
     },
     "4576ab0251cf4c48a5565878e3c21a93": {
      "model_module": "@jupyter-widgets/controls",
      "model_module_version": "1.0.0",
      "model_name": "BoxModel",
      "state": {
       "children": [
        "IPY_MODEL_7efb383bd659402bb2b5e10c04ff39f3",
        "IPY_MODEL_48691c631731486db9a53b5209806eae"
       ],
       "layout": "IPY_MODEL_23d45d3df70c45c18f2abdc61b9650c1"
      }
     },
     "45942de7f74945859b66abcab4239f13": {
      "model_module": "@jupyter-widgets/base",
      "model_module_version": "1.0.0",
      "model_name": "LayoutModel",
      "state": {}
     },
     "4595bd10d9144f64a0962c3df2a76464": {
      "model_module": "@jupyter-widgets/base",
      "model_module_version": "1.0.0",
      "model_name": "LayoutModel",
      "state": {
       "display": "flex",
       "flex_flow": "row",
       "justify_content": "flex-start",
       "width": "50%"
      }
     },
     "45c1f1bbac464e16ab0e3b362086f1fa": {
      "model_module": "@jupyter-widgets/base",
      "model_module_version": "1.0.0",
      "model_name": "LayoutModel",
      "state": {}
     },
     "45e3118e877a44dd9b968b0347c445a6": {
      "model_module": "@jupyter-widgets/controls",
      "model_module_version": "1.0.0",
      "model_name": "LabelModel",
      "state": {
       "layout": "IPY_MODEL_8644be3b1d4c4fb5994335948ab0aab1",
       "style": "IPY_MODEL_c98d2c6a80c84925924f39c93f7067bf",
       "value": "Bed Slope: "
      }
     },
     "46b13fbc904044fb8abcfd009ddeaf91": {
      "model_module": "@jupyter-widgets/controls",
      "model_module_version": "1.0.0",
      "model_name": "BoxModel",
      "state": {
       "children": [
        "IPY_MODEL_5209584d889043299f33c8e988f34ed2",
        "IPY_MODEL_81a899db083644b4bc8515951e9a0da5"
       ],
       "layout": "IPY_MODEL_e55df6df85224104a71142e5fba692cb"
      }
     },
     "46c4c06d9f284b2081c89cec38a8832d": {
      "model_module": "@jupyter-widgets/controls",
      "model_module_version": "1.0.0",
      "model_name": "LabelModel",
      "state": {
       "layout": "IPY_MODEL_a2d8e26fa5d740b9b83acc4ebf91df22",
       "style": "IPY_MODEL_43cb8a85965840d1a608c8abfbe753bc",
       "value": "Bed Slope: "
      }
     },
     "46fa297c6bfe49d4a72ff71a5095524b": {
      "model_module": "@jupyter-widgets/base",
      "model_module_version": "1.0.0",
      "model_name": "LayoutModel",
      "state": {
       "align_items": "stretch",
       "flex_flow": "column"
      }
     },
     "472faf52b743437dbdf7b7422f58cd88": {
      "model_module": "@jupyter-widgets/base",
      "model_module_version": "1.0.0",
      "model_name": "LayoutModel",
      "state": {}
     },
     "474ea64bcdfe439f9037420e90373071": {
      "model_module": "@jupyter-widgets/controls",
      "model_module_version": "1.0.0",
      "model_name": "ButtonStyleModel",
      "state": {}
     },
     "478d0c3db3bc41bda86465c2a84491b1": {
      "model_module": "@jupyter-widgets/controls",
      "model_module_version": "1.0.0",
      "model_name": "ButtonStyleModel",
      "state": {}
     },
     "4814564b1039483daca5da186fa2adf0": {
      "model_module": "@jupyter-widgets/controls",
      "model_module_version": "1.0.0",
      "model_name": "BoxModel",
      "state": {
       "children": [
        "IPY_MODEL_1c7847d27ab54004b906b38d8dcf4810",
        "IPY_MODEL_74941bd21db94593910e177157da71ee"
       ],
       "layout": "IPY_MODEL_c6d9c567cd9048e583640a5f54294015"
      }
     },
     "4839482926f44aa4af109d893a2d9be5": {
      "model_module": "@jupyter-widgets/base",
      "model_module_version": "1.0.0",
      "model_name": "LayoutModel",
      "state": {
       "align_items": "stretch",
       "flex_flow": "column"
      }
     },
     "48691c631731486db9a53b5209806eae": {
      "model_module": "@jupyter-widgets/controls",
      "model_module_version": "1.0.0",
      "model_name": "TextModel",
      "state": {
       "layout": "IPY_MODEL_003f0e4af2dd43b78795d5bd1c1cc601",
       "style": "IPY_MODEL_569a320090e9410da499916ce0a2c3d4"
      }
     },
     "4891645375304574b9dc0907838647dd": {
      "model_module": "@jupyter-widgets/controls",
      "model_module_version": "1.0.0",
      "model_name": "LabelModel",
      "state": {
       "layout": "IPY_MODEL_d304d0abc2834dd088cd94e9ab924159",
       "style": "IPY_MODEL_6f00603383ae448aba2bd033a737b46a",
       "value": "Wind Velocity: "
      }
     },
     "49bfa8f0179448a2aba7eb70ef57c697": {
      "model_module": "@jupyter-widgets/controls",
      "model_module_version": "1.0.0",
      "model_name": "TextModel",
      "state": {
       "layout": "IPY_MODEL_2a01477e14b44462a65cae3892337a1c",
       "style": "IPY_MODEL_dd8c9fcc0cf94ee2a68d01f883245f33"
      }
     },
     "4a58dd0b6bb54e95b4ed2f9ac8e48830": {
      "model_module": "@jupyter-widgets/base",
      "model_module_version": "1.0.0",
      "model_name": "LayoutModel",
      "state": {}
     },
     "4ae14e107ed74358a8a111782431bb08": {
      "model_module": "@jupyter-widgets/base",
      "model_module_version": "1.0.0",
      "model_name": "LayoutModel",
      "state": {}
     },
     "4ae7b9b61c7d4a73b093ffb89ef4bd88": {
      "model_module": "@jupyter-widgets/base",
      "model_module_version": "1.0.0",
      "model_name": "LayoutModel",
      "state": {
       "align_items": "stretch",
       "flex_flow": "column"
      }
     },
     "4b030dbd8100465fa897c1bdf9e85b1d": {
      "model_module": "@jupyter-widgets/controls",
      "model_module_version": "1.0.0",
      "model_name": "DescriptionStyleModel",
      "state": {
       "description_width": ""
      }
     },
     "4b24bfe596734fc28c041db00344f103": {
      "model_module": "@jupyter-widgets/controls",
      "model_module_version": "1.0.0",
      "model_name": "DescriptionStyleModel",
      "state": {
       "description_width": ""
      }
     },
     "4b5569ac53b44ae48903f780f26e8d04": {
      "model_module": "@jupyter-widgets/base",
      "model_module_version": "1.0.0",
      "model_name": "LayoutModel",
      "state": {}
     },
     "4b84a64e912743b4ab118f36b86e6ebd": {
      "model_module": "@jupyter-widgets/controls",
      "model_module_version": "1.0.0",
      "model_name": "ButtonModel",
      "state": {
       "description": "Show result and plot",
       "layout": "IPY_MODEL_61d787f77ac34deca35716c85ee32b87",
       "style": "IPY_MODEL_8cd1250781dc4730b665d06031496ac1"
      }
     },
     "4bb37bfbaf024c1db0dc3d7606e3899a": {
      "model_module": "@jupyter-widgets/controls",
      "model_module_version": "1.0.0",
      "model_name": "DescriptionStyleModel",
      "state": {
       "description_width": ""
      }
     },
     "4bfb2de7592c438fa3290a3a3901dff4": {
      "model_module": "@jupyter-widgets/controls",
      "model_module_version": "1.0.0",
      "model_name": "ButtonStyleModel",
      "state": {}
     },
     "4d2a29be37704abf81a7d2194020d2e3": {
      "model_module": "@jupyter-widgets/base",
      "model_module_version": "1.0.0",
      "model_name": "LayoutModel",
      "state": {}
     },
     "4d30c37a9ebf40509860461b4c07bd4b": {
      "model_module": "@jupyter-widgets/controls",
      "model_module_version": "1.0.0",
      "model_name": "TextModel",
      "state": {
       "layout": "IPY_MODEL_0fd4452dcf1542a993ea33da5b9d2bbb",
       "style": "IPY_MODEL_887a930d791d494abf19fabce64aa30a",
       "value": "0.00084"
      }
     },
     "4d91937f98e5419caebe32e261b5a61a": {
      "model_module": "@jupyter-widgets/controls",
      "model_module_version": "1.0.0",
      "model_name": "ButtonModel",
      "state": {
       "description": "Show result and plot",
       "layout": "IPY_MODEL_79d02f7b8308464d90aa2231fa29dfd9",
       "style": "IPY_MODEL_d88519a052e645438a847e6bf3849330"
      }
     },
     "4ec011a5c64b499dbfe2a7e3cc8534a3": {
      "model_module": "@jupyter-widgets/base",
      "model_module_version": "1.0.0",
      "model_name": "LayoutModel",
      "state": {}
     },
     "4f0887a5a8d6480594afb13d111a2d48": {
      "model_module": "@jupyter-widgets/base",
      "model_module_version": "1.0.0",
      "model_name": "LayoutModel",
      "state": {}
     },
     "5029d336257648499e5fd65cc8e511d3": {
      "model_module": "@jupyter-widgets/controls",
      "model_module_version": "1.0.0",
      "model_name": "BoxModel",
      "state": {
       "children": [
        "IPY_MODEL_a02e3bc2e75d4118b20f54bfebf8ff45",
        "IPY_MODEL_90f6075ebe8245c5b2da60092978e28c",
        "IPY_MODEL_052e6b9c079b4d6492781f9d2faf243b",
        "IPY_MODEL_93b5c4ee81ee4bb78f9f00e5046f6fa8"
       ],
       "layout": "IPY_MODEL_6112c23e65564f4a9e02f3cf531396dc"
      }
     },
     "50ae159e2177406b886bc703d74dd61d": {
      "model_module": "@jupyter-widgets/controls",
      "model_module_version": "1.0.0",
      "model_name": "BoxModel",
      "state": {
       "children": [
        "IPY_MODEL_59b408f2685d40a682005aef0f1eb64d",
        "IPY_MODEL_1f26e7892ac941eca11fd1a63275cb08"
       ],
       "layout": "IPY_MODEL_6473fdb5121941afa5bcff50ebcaba4d"
      }
     },
     "50b6bd187c8b4481a54029e534fc15b8": {
      "model_module": "@jupyter-widgets/controls",
      "model_module_version": "1.0.0",
      "model_name": "DescriptionStyleModel",
      "state": {
       "description_width": ""
      }
     },
     "510ce1d2cce440d0ac58fc51aa94273e": {
      "model_module": "@jupyter-widgets/controls",
      "model_module_version": "1.0.0",
      "model_name": "TextModel",
      "state": {
       "layout": "IPY_MODEL_8b932a1d6b03471d9168de0b55841f61",
       "style": "IPY_MODEL_87161877309b4338b718ea8fb09e671b"
      }
     },
     "51dab7f389994cb3a56cba81e59825c6": {
      "model_module": "@jupyter-widgets/controls",
      "model_module_version": "1.0.0",
      "model_name": "DescriptionStyleModel",
      "state": {
       "description_width": ""
      }
     },
     "51df1e55e0024e3f9a80ddf2f31a71a3": {
      "model_module": "@jupyter-widgets/controls",
      "model_module_version": "1.0.0",
      "model_name": "DescriptionStyleModel",
      "state": {
       "description_width": ""
      }
     },
     "5209584d889043299f33c8e988f34ed2": {
      "model_module": "@jupyter-widgets/controls",
      "model_module_version": "1.0.0",
      "model_name": "LabelModel",
      "state": {
       "layout": "IPY_MODEL_15d0437dd93f48168b0e56598f9993de",
       "style": "IPY_MODEL_112c98ee3e964db2ae886bc203bf0d5f",
       "value": "Deep Water Depth: "
      }
     },
     "5242ca7eb3e14e80bf7a17e955f2a1e7": {
      "model_module": "@jupyter-widgets/controls",
      "model_module_version": "1.0.0",
      "model_name": "BoxModel",
      "state": {
       "children": [
        "IPY_MODEL_c1f89dd168244089b4b490b3fc142af9",
        "IPY_MODEL_1bcb4d7060d847378940906ed088288a"
       ],
       "layout": "IPY_MODEL_2180f603459e43efa2cdf66f74cbf52c"
      }
     },
     "52871ad5aef34b1998a21b1d2bb42296": {
      "model_module": "@jupyter-widgets/base",
      "model_module_version": "1.0.0",
      "model_name": "LayoutModel",
      "state": {}
     },
     "53154a79df5a45af880a268568bd0cf0": {
      "model_module": "@jupyter-widgets/controls",
      "model_module_version": "1.0.0",
      "model_name": "ButtonStyleModel",
      "state": {}
     },
     "531c65fe54244f14acc85b40067d3e6b": {
      "model_module": "@jupyter-widgets/controls",
      "model_module_version": "1.0.0",
      "model_name": "BoxModel",
      "state": {
       "children": [
        "IPY_MODEL_60c3995af0874fe5b914d65cddc324fb",
        "IPY_MODEL_faac9f90a9c44636933103a41287f1bc",
        "IPY_MODEL_6493cf769e3a44c69c3591053d76d2ca",
        "IPY_MODEL_29e82ae57c3148f181356bf73401c2fe"
       ],
       "layout": "IPY_MODEL_35a46e602d4f4c45a0293151203401b2"
      }
     },
     "532635069deb4f1c898f35082cd9f587": {
      "model_module": "@jupyter-widgets/base",
      "model_module_version": "1.0.0",
      "model_name": "LayoutModel",
      "state": {}
     },
     "5339cc83083c4a9ead4a65374fd7a85c": {
      "model_module": "@jupyter-widgets/base",
      "model_module_version": "1.0.0",
      "model_name": "LayoutModel",
      "state": {}
     },
     "536357af7cae4e918327410f4b2f769c": {
      "model_module": "@jupyter-widgets/controls",
      "model_module_version": "1.0.0",
      "model_name": "TextModel",
      "state": {
       "layout": "IPY_MODEL_8a0380671e5b4f8daf1844decec73903",
       "style": "IPY_MODEL_b724712f61d448a6bf0f63c3ab103b74",
       "value": "0.00082"
      }
     },
     "54ba922294b8431ea9118e7b1d1ef1e7": {
      "model_module": "@jupyter-widgets/controls",
      "model_module_version": "1.0.0",
      "model_name": "ButtonModel",
      "state": {
       "description": "Show result and plot",
       "layout": "IPY_MODEL_c1c35cc6031b4ceaa011ae8075bb69e4",
       "style": "IPY_MODEL_2088c44bde864d64bbd4c86fd73c4676"
      }
     },
     "54c0cb87507043eea8d3449c8ddb60d4": {
      "model_module": "@jupyter-widgets/controls",
      "model_module_version": "1.0.0",
      "model_name": "DescriptionStyleModel",
      "state": {
       "description_width": ""
      }
     },
     "54ca77ac3f61425094e4d6e4140606de": {
      "model_module": "@jupyter-widgets/controls",
      "model_module_version": "1.0.0",
      "model_name": "BoxModel",
      "state": {
       "children": [
        "IPY_MODEL_631d9d70046c419ab27e5d0a3f10f342",
        "IPY_MODEL_7e92a7dfa53e40e8a3c14fef82c4d4bd"
       ],
       "layout": "IPY_MODEL_6473fdb5121941afa5bcff50ebcaba4d"
      }
     },
     "5565cdd28549482580561d0106ef3e0a": {
      "model_module": "@jupyter-widgets/controls",
      "model_module_version": "1.0.0",
      "model_name": "ButtonModel",
      "state": {
       "description": "Show result and plot",
       "layout": "IPY_MODEL_1552e98a45214ba38302361a91ccb9e1",
       "style": "IPY_MODEL_b9f22b9e55854619a690d5a448ed766b"
      }
     },
     "5653fbc27abf411e84cb66eaee4dcddc": {
      "model_module": "@jupyter-widgets/controls",
      "model_module_version": "1.0.0",
      "model_name": "DescriptionStyleModel",
      "state": {
       "description_width": ""
      }
     },
     "565e9fc73c8240a9bc8c1980729482ab": {
      "model_module": "@jupyter-widgets/controls",
      "model_module_version": "1.0.0",
      "model_name": "DescriptionStyleModel",
      "state": {
       "description_width": ""
      }
     },
     "5699bedc4f494d54b079da0ac0cb5395": {
      "model_module": "@jupyter-widgets/controls",
      "model_module_version": "1.0.0",
      "model_name": "TextModel",
      "state": {
       "layout": "IPY_MODEL_02ffc0349ba7449a960269f45c5bae17",
       "style": "IPY_MODEL_ec800a802154459cbfdf142b73dc6fd6",
       "value": "40"
      }
     },
     "569a320090e9410da499916ce0a2c3d4": {
      "model_module": "@jupyter-widgets/controls",
      "model_module_version": "1.0.0",
      "model_name": "DescriptionStyleModel",
      "state": {
       "description_width": ""
      }
     },
     "56f75ef87661487ba4f173af95d01cb1": {
      "model_module": "@jupyter-widgets/controls",
      "model_module_version": "1.0.0",
      "model_name": "LabelModel",
      "state": {
       "layout": "IPY_MODEL_b422fd5a0c9f4c28b34ae6755216edf2",
       "style": "IPY_MODEL_fbfe8d7084e54d82bd2fd72aecdc6c76",
       "value": "Bed Slope: "
      }
     },
     "57825ec5cc3c44ea8fd0ba3434ab8050": {
      "model_module": "@jupyter-widgets/controls",
      "model_module_version": "1.0.0",
      "model_name": "DescriptionStyleModel",
      "state": {
       "description_width": ""
      }
     },
     "57e25cb797394a7da32ce8ce8d68e413": {
      "model_module": "@jupyter-widgets/controls",
      "model_module_version": "1.0.0",
      "model_name": "LabelModel",
      "state": {
       "layout": "IPY_MODEL_db2fc8f304534094ab60411f84e25d0e",
       "style": "IPY_MODEL_817260a8e0c245d2b7d21f0b08ee2038",
       "value": "Bed Slope: "
      }
     },
     "593d65df1df44909b4b7c62f87a2b175": {
      "model_module": "@jupyter-widgets/controls",
      "model_module_version": "1.0.0",
      "model_name": "TextModel",
      "state": {
       "layout": "IPY_MODEL_aedcf29b78904692a5da422687f75b85",
       "style": "IPY_MODEL_bb68eff0767140c9acecfe8e641fb75d"
      }
     },
     "59b408f2685d40a682005aef0f1eb64d": {
      "model_module": "@jupyter-widgets/controls",
      "model_module_version": "1.0.0",
      "model_name": "LabelModel",
      "state": {
       "layout": "IPY_MODEL_a6bd450d148c4c81958bc812992f3fc7",
       "style": "IPY_MODEL_51df1e55e0024e3f9a80ddf2f31a71a3",
       "value": "Wind Velocity: "
      }
     },
     "5a17b0d9648b431c995cc1ecba45fbff": {
      "model_module": "@jupyter-widgets/controls",
      "model_module_version": "1.0.0",
      "model_name": "TextModel",
      "state": {
       "layout": "IPY_MODEL_90ca5792328944b3bc784bae390302f1",
       "style": "IPY_MODEL_5ab7facb3f094f299338997e3bcab6f1"
      }
     },
     "5a23cb72ed8743f1bf1bf8848cbbc9bd": {
      "model_module": "@jupyter-widgets/controls",
      "model_module_version": "1.0.0",
      "model_name": "DescriptionStyleModel",
      "state": {
       "description_width": ""
      }
     },
     "5ab7facb3f094f299338997e3bcab6f1": {
      "model_module": "@jupyter-widgets/controls",
      "model_module_version": "1.0.0",
      "model_name": "DescriptionStyleModel",
      "state": {
       "description_width": ""
      }
     },
     "5b28a3c91dc04bbfb140c32712e9bf03": {
      "model_module": "@jupyter-widgets/base",
      "model_module_version": "1.0.0",
      "model_name": "LayoutModel",
      "state": {}
     },
     "5bcc174a0a874db8b7962de3fcc8932f": {
      "model_module": "@jupyter-widgets/controls",
      "model_module_version": "1.0.0",
      "model_name": "TextModel",
      "state": {
       "layout": "IPY_MODEL_c79548a6d6af4a38863f9347db645717",
       "style": "IPY_MODEL_4b030dbd8100465fa897c1bdf9e85b1d"
      }
     },
     "5c6d27e390b24e929e2a596786002490": {
      "model_module": "@jupyter-widgets/controls",
      "model_module_version": "1.0.0",
      "model_name": "LabelModel",
      "state": {
       "layout": "IPY_MODEL_a6bd450d148c4c81958bc812992f3fc7",
       "style": "IPY_MODEL_3433b341fc9e44adbe071c9636a6ad51",
       "value": "Bed Slope: "
      }
     },
     "5c89eeef1e4640e58eace55197b6dc98": {
      "model_module": "@jupyter-widgets/base",
      "model_module_version": "1.0.0",
      "model_name": "LayoutModel",
      "state": {
       "align_items": "stretch",
       "flex_flow": "column"
      }
     },
     "5d426b4f1e26497f919048d56ffbfeff": {
      "model_module": "@jupyter-widgets/controls",
      "model_module_version": "1.0.0",
      "model_name": "DescriptionStyleModel",
      "state": {
       "description_width": ""
      }
     },
     "5dbd8c4e40a9445baa715fac1cba831d": {
      "model_module": "@jupyter-widgets/controls",
      "model_module_version": "1.0.0",
      "model_name": "ButtonStyleModel",
      "state": {}
     },
     "5dbfcc8c5e6c4bc89573e464716d3be5": {
      "model_module": "@jupyter-widgets/controls",
      "model_module_version": "1.0.0",
      "model_name": "LabelModel",
      "state": {
       "layout": "IPY_MODEL_a2d8e26fa5d740b9b83acc4ebf91df22",
       "style": "IPY_MODEL_5deb8524444043d2ad7dd5886bb92d11",
       "value": "Deep Water Depth: "
      }
     },
     "5deb8524444043d2ad7dd5886bb92d11": {
      "model_module": "@jupyter-widgets/controls",
      "model_module_version": "1.0.0",
      "model_name": "DescriptionStyleModel",
      "state": {
       "description_width": ""
      }
     },
     "5e44169ae5d54df89a121c12ac174403": {
      "model_module": "@jupyter-widgets/controls",
      "model_module_version": "1.0.0",
      "model_name": "DescriptionStyleModel",
      "state": {
       "description_width": ""
      }
     },
     "5eb3be4c38da45138dfd857af1a2b300": {
      "model_module": "@jupyter-widgets/controls",
      "model_module_version": "1.0.0",
      "model_name": "LabelModel",
      "state": {
       "layout": "IPY_MODEL_db2fc8f304534094ab60411f84e25d0e",
       "style": "IPY_MODEL_9ba6e0297847473f90e160d1ee37ff52",
       "value": "Wind Velocity: "
      }
     },
     "6099d15740764b37b191123bdf2ab516": {
      "model_module": "@jupyter-widgets/controls",
      "model_module_version": "1.0.0",
      "model_name": "LabelModel",
      "state": {
       "layout": "IPY_MODEL_339d919513154e1fa61658228fe7c0dc",
       "style": "IPY_MODEL_b75968bae21f43fbb664ce65848c34dd",
       "value": "Deep Water Depth: "
      }
     },
     "60c3995af0874fe5b914d65cddc324fb": {
      "model_module": "@jupyter-widgets/controls",
      "model_module_version": "1.0.0",
      "model_name": "BoxModel",
      "state": {
       "children": [
        "IPY_MODEL_28dfbce3c2134276b96adb68b8a3fae4",
        "IPY_MODEL_6a23ec21a9de46e5a852b1793e679114"
       ],
       "layout": "IPY_MODEL_7565528870954ea69266890aa7618cc1"
      }
     },
     "6112c23e65564f4a9e02f3cf531396dc": {
      "model_module": "@jupyter-widgets/base",
      "model_module_version": "1.0.0",
      "model_name": "LayoutModel",
      "state": {
       "align_items": "stretch",
       "flex_flow": "column"
      }
     },
     "614c17c367654e34a0266fb78c40cb53": {
      "model_module": "@jupyter-widgets/base",
      "model_module_version": "1.0.0",
      "model_name": "LayoutModel",
      "state": {
       "display": "flex",
       "flex_flow": "row",
       "justify_content": "flex-start",
       "width": "50%"
      }
     },
     "61d787f77ac34deca35716c85ee32b87": {
      "model_module": "@jupyter-widgets/base",
      "model_module_version": "1.0.0",
      "model_name": "LayoutModel",
      "state": {}
     },
     "6239500c4c984065ba30ce65c4c42a1f": {
      "model_module": "@jupyter-widgets/controls",
      "model_module_version": "1.0.0",
      "model_name": "DescriptionStyleModel",
      "state": {
       "description_width": ""
      }
     },
     "6252a36dc0fc4cb08d9c011af54a8371": {
      "model_module": "@jupyter-widgets/controls",
      "model_module_version": "1.0.0",
      "model_name": "TextModel",
      "state": {
       "layout": "IPY_MODEL_412973542470416bb0c5634e59e552ca",
       "style": "IPY_MODEL_ac1ebd1491c543078d6b8373fdf33720"
      }
     },
     "62bad711fb7e4823894e45e109afcc56": {
      "model_module": "@jupyter-widgets/base",
      "model_module_version": "1.0.0",
      "model_name": "LayoutModel",
      "state": {}
     },
     "62c5c20c4a5b448dbe549c825f8dcace": {
      "model_module": "@jupyter-widgets/controls",
      "model_module_version": "1.0.0",
      "model_name": "DescriptionStyleModel",
      "state": {
       "description_width": ""
      }
     },
     "62ddc8cf835444329a604a825b35dbfd": {
      "model_module": "@jupyter-widgets/base",
      "model_module_version": "1.0.0",
      "model_name": "LayoutModel",
      "state": {
       "width": "130px"
      }
     },
     "62fce7a5dc4043f88b5a30f4565d1eb7": {
      "model_module": "@jupyter-widgets/controls",
      "model_module_version": "1.0.0",
      "model_name": "BoxModel",
      "state": {
       "children": [
        "IPY_MODEL_fb917111501a47229fdca4a3214ba30f",
        "IPY_MODEL_0e2b1fd78d8440f68d5df7ea5d7bb0ff",
        "IPY_MODEL_a571a145d507453ba74edf6ce143e8a9",
        "IPY_MODEL_a22edb8b638843d28765d1f21ba10854"
       ],
       "layout": "IPY_MODEL_4ae7b9b61c7d4a73b093ffb89ef4bd88"
      }
     },
     "631d9d70046c419ab27e5d0a3f10f342": {
      "model_module": "@jupyter-widgets/controls",
      "model_module_version": "1.0.0",
      "model_name": "ButtonModel",
      "state": {
       "description": "Show Plot",
       "layout": "IPY_MODEL_1b78c6607ab841c69910dfe517660222",
       "style": "IPY_MODEL_adcd727c2f004e7b990f09d6077ee463"
      }
     },
     "63bd680989b54bba8a90441262f30162": {
      "model_module": "@jupyter-widgets/controls",
      "model_module_version": "1.0.0",
      "model_name": "DescriptionStyleModel",
      "state": {
       "description_width": ""
      }
     },
     "63c0304a4f104a45a16db8e156251075": {
      "model_module": "@jupyter-widgets/controls",
      "model_module_version": "1.0.0",
      "model_name": "DescriptionStyleModel",
      "state": {
       "description_width": ""
      }
     },
     "64631227205645649628d4d255caadc9": {
      "model_module": "@jupyter-widgets/controls",
      "model_module_version": "1.0.0",
      "model_name": "BoxModel",
      "state": {
       "children": [
        "IPY_MODEL_f9d1ecad0aab45fe83707ae6b9b35dc2",
        "IPY_MODEL_01cce0d034a04f279d61ea5f421a31ef",
        "IPY_MODEL_144e3a7a95b94c4ab26578a146ba76c0",
        "IPY_MODEL_0adbdc9f74e64783bf6da1aac9565cb7"
       ],
       "layout": "IPY_MODEL_d99c47330350463aa769fcfc82ddf42a"
      }
     },
     "6473fdb5121941afa5bcff50ebcaba4d": {
      "model_module": "@jupyter-widgets/base",
      "model_module_version": "1.0.0",
      "model_name": "LayoutModel",
      "state": {
       "display": "flex",
       "flex_flow": "row",
       "justify_content": "flex-start",
       "width": "50%"
      }
     },
     "6493cf769e3a44c69c3591053d76d2ca": {
      "model_module": "@jupyter-widgets/controls",
      "model_module_version": "1.0.0",
      "model_name": "BoxModel",
      "state": {
       "children": [
        "IPY_MODEL_2c1414fd1aae48998e1fe704784916e7",
        "IPY_MODEL_7c9f98519eb64677979f08bcd8f908f8"
       ],
       "layout": "IPY_MODEL_7565528870954ea69266890aa7618cc1"
      }
     },
     "65321c3067534af79c355eed69ef7479": {
      "model_module": "@jupyter-widgets/controls",
      "model_module_version": "1.0.0",
      "model_name": "ButtonModel",
      "state": {
       "description": "Clear Plot",
       "layout": "IPY_MODEL_472faf52b743437dbdf7b7422f58cd88",
       "style": "IPY_MODEL_53154a79df5a45af880a268568bd0cf0"
      }
     },
     "661cc73fd76c472aa292127d16ff62a4": {
      "model_module": "@jupyter-widgets/base",
      "model_module_version": "1.0.0",
      "model_name": "LayoutModel",
      "state": {}
     },
     "664ceed010f94b6990fdf5a3961e2259": {
      "model_module": "@jupyter-widgets/controls",
      "model_module_version": "1.0.0",
      "model_name": "DescriptionStyleModel",
      "state": {
       "description_width": ""
      }
     },
     "669545045e1844bda198b685c4c7ffb6": {
      "model_module": "@jupyter-widgets/base",
      "model_module_version": "1.0.0",
      "model_name": "LayoutModel",
      "state": {
       "align_items": "stretch",
       "flex_flow": "column"
      }
     },
     "66eec9e8ef3b4584b8a27f05dc45a3e9": {
      "model_module": "@jupyter-widgets/controls",
      "model_module_version": "1.0.0",
      "model_name": "LabelModel",
      "state": {
       "layout": "IPY_MODEL_b422fd5a0c9f4c28b34ae6755216edf2",
       "style": "IPY_MODEL_cecd3415b6b6405a8f6e131606e2212f",
       "value": "Wind Velocity: "
      }
     },
     "6716deb41ad04c7ebc98b9c2db2f977d": {
      "model_module": "@jupyter-widgets/controls",
      "model_module_version": "1.0.0",
      "model_name": "TextModel",
      "state": {
       "layout": "IPY_MODEL_4ae14e107ed74358a8a111782431bb08",
       "style": "IPY_MODEL_0c725546cf8f412d8aa32f50c9c858bc",
       "value": "40"
      }
     },
     "672609f9b63a4bf197971cbdd61d1ff9": {
      "model_module": "@jupyter-widgets/controls",
      "model_module_version": "1.0.0",
      "model_name": "ButtonModel",
      "state": {
       "description": "Show result and plot",
       "layout": "IPY_MODEL_01e9200eb516422899e2e2a9f32f2bae",
       "style": "IPY_MODEL_3d3b6260d2af4202a3bbedc3a3831755"
      }
     },
     "67322b2331204555bbb68fb19a8ef3fd": {
      "model_module": "@jupyter-widgets/controls",
      "model_module_version": "1.0.0",
      "model_name": "BoxModel",
      "state": {
       "children": [
        "IPY_MODEL_fcbffbff462d4082a7eaa916c98c20dd",
        "IPY_MODEL_536357af7cae4e918327410f4b2f769c"
       ],
       "layout": "IPY_MODEL_885c3dfa976f499e974f26d2f93dd4d0"
      }
     },
     "675cb44d651b4ac2b24141ecdc4ae02b": {
      "model_module": "@jupyter-widgets/controls",
      "model_module_version": "1.0.0",
      "model_name": "DescriptionStyleModel",
      "state": {
       "description_width": ""
      }
     },
     "67b3025415bb453cac98a03da04dbe8c": {
      "model_module": "@jupyter-widgets/controls",
      "model_module_version": "1.0.0",
      "model_name": "BoxModel",
      "state": {
       "children": [
        "IPY_MODEL_d7af0a8be0cc4ab794f4bc3dea73e8d5",
        "IPY_MODEL_102b41e5fe9d4f018d85f162503ba5f8"
       ],
       "layout": "IPY_MODEL_f66f0ab492c04b669f902a504288196e"
      }
     },
     "67e6952fbb0a437b8bc9c1489137392d": {
      "model_module": "@jupyter-widgets/controls",
      "model_module_version": "1.0.0",
      "model_name": "DescriptionStyleModel",
      "state": {
       "description_width": ""
      }
     },
     "68317adaaebc45d79c5079b4acf99361": {
      "model_module": "@jupyter-widgets/base",
      "model_module_version": "1.0.0",
      "model_name": "LayoutModel",
      "state": {
       "width": "130px"
      }
     },
     "6926b1bea0dd49ad910bb09c9c76ebb6": {
      "model_module": "@jupyter-widgets/controls",
      "model_module_version": "1.0.0",
      "model_name": "BoxModel",
      "state": {
       "children": [
        "IPY_MODEL_40032647f35d4cae8a9fbd96650533fb",
        "IPY_MODEL_3be5eadf492a4587a63478996ed14e41"
       ],
       "layout": "IPY_MODEL_f90e8d6ebcb84208ac2a1e5ca808c519"
      }
     },
     "69471b3f8c7248899acd76678d672fd4": {
      "model_module": "@jupyter-widgets/controls",
      "model_module_version": "1.0.0",
      "model_name": "DescriptionStyleModel",
      "state": {
       "description_width": ""
      }
     },
     "695227a7f9ba4f229f63941aadc23d54": {
      "model_module": "@jupyter-widgets/controls",
      "model_module_version": "1.0.0",
      "model_name": "LabelModel",
      "state": {
       "layout": "IPY_MODEL_62ddc8cf835444329a604a825b35dbfd",
       "style": "IPY_MODEL_b8becdf9c67f4e2098e3aba66397390f",
       "value": "Bed Slope: "
      }
     },
     "69bf577d33ed40b5a8e14db84d43caba": {
      "model_module": "@jupyter-widgets/controls",
      "model_module_version": "1.0.0",
      "model_name": "DescriptionStyleModel",
      "state": {
       "description_width": ""
      }
     },
     "69cea5bda6be40b4ad32d3b2434061cc": {
      "model_module": "@jupyter-widgets/controls",
      "model_module_version": "1.0.0",
      "model_name": "TextModel",
      "state": {
       "layout": "IPY_MODEL_4f0887a5a8d6480594afb13d111a2d48",
       "style": "IPY_MODEL_bae0922e8ee740099cdc93e88303b0e6"
      }
     },
     "6a23ec21a9de46e5a852b1793e679114": {
      "model_module": "@jupyter-widgets/controls",
      "model_module_version": "1.0.0",
      "model_name": "TextModel",
      "state": {
       "layout": "IPY_MODEL_45942de7f74945859b66abcab4239f13",
       "style": "IPY_MODEL_6b0aa2105287484b9a791a080e07bb5d"
      }
     },
     "6a6daf88c5c74a06a6e47e5b73ebc40d": {
      "model_module": "@jupyter-widgets/controls",
      "model_module_version": "1.0.0",
      "model_name": "ButtonModel",
      "state": {
       "description": "Clear Plot",
       "layout": "IPY_MODEL_b98c563afc1b416c95c22e592c0ea298",
       "style": "IPY_MODEL_ddfcb02bb11f4d83a110b993bcfb2cf0"
      }
     },
     "6a74977a43204a90a7f835d153f0aa56": {
      "model_module": "@jupyter-widgets/base",
      "model_module_version": "1.0.0",
      "model_name": "LayoutModel",
      "state": {}
     },
     "6b0362d284c84a1ebfa047e923c342e5": {
      "model_module": "@jupyter-widgets/controls",
      "model_module_version": "1.0.0",
      "model_name": "ButtonModel",
      "state": {
       "description": "Show result and plot",
       "layout": "IPY_MODEL_7ba9bec266cf4657840a545a5194670f",
       "style": "IPY_MODEL_eaa59ec1ef564f5980cd4c0e71bb2bac"
      }
     },
     "6b0aa2105287484b9a791a080e07bb5d": {
      "model_module": "@jupyter-widgets/controls",
      "model_module_version": "1.0.0",
      "model_name": "DescriptionStyleModel",
      "state": {
       "description_width": ""
      }
     },
     "6b98b5b726c04d51bd6ab9c58b3a1cd1": {
      "model_module": "@jupyter-widgets/controls",
      "model_module_version": "1.0.0",
      "model_name": "BoxModel",
      "state": {
       "children": [
        "IPY_MODEL_952757d590244a30900adfc8facb4443",
        "IPY_MODEL_ad2ce6997441407380949bef68f36332"
       ],
       "layout": "IPY_MODEL_614c17c367654e34a0266fb78c40cb53"
      }
     },
     "6bec6ae714734c519088c8309597e796": {
      "model_module": "@jupyter-widgets/controls",
      "model_module_version": "1.0.0",
      "model_name": "BoxModel",
      "state": {
       "children": [
        "IPY_MODEL_334ce2ec218a41eeb235f1f78bbd554c",
        "IPY_MODEL_fd01e02d2eba4c12a34a4942669fd7fe"
       ],
       "layout": "IPY_MODEL_4595bd10d9144f64a0962c3df2a76464"
      }
     },
     "6c715650f5f64fa3bb5715d51a95cb83": {
      "model_module": "@jupyter-widgets/controls",
      "model_module_version": "1.0.0",
      "model_name": "DescriptionStyleModel",
      "state": {
       "description_width": ""
      }
     },
     "6d88a2c165184a889f9f5ddfe3fcaf98": {
      "model_module": "@jupyter-widgets/controls",
      "model_module_version": "1.0.0",
      "model_name": "BoxModel",
      "state": {
       "children": [
        "IPY_MODEL_6926b1bea0dd49ad910bb09c9c76ebb6",
        "IPY_MODEL_ce8ac2f30f084d4392a499841a147140",
        "IPY_MODEL_fb22c4033b0a45ebae381b17e29fa32e",
        "IPY_MODEL_dbed700e1bcf4d188c2a3f39a66928eb"
       ],
       "layout": "IPY_MODEL_3ef2ef82031d44e0a9d1ea04afd81ba6"
      }
     },
     "6dbfeb0296bd467eb054038106beca44": {
      "model_module": "@jupyter-widgets/controls",
      "model_module_version": "1.0.0",
      "model_name": "DescriptionStyleModel",
      "state": {
       "description_width": ""
      }
     },
     "6dc6a810ee4e4f0987e1c54a7406e885": {
      "model_module": "@jupyter-widgets/base",
      "model_module_version": "1.0.0",
      "model_name": "LayoutModel",
      "state": {}
     },
     "6dc762579a664bdeaf9d598f84fb09c1": {
      "model_module": "@jupyter-widgets/controls",
      "model_module_version": "1.0.0",
      "model_name": "DescriptionStyleModel",
      "state": {
       "description_width": ""
      }
     },
     "6de2f92bf6b84f218aa8ccd80207105b": {
      "model_module": "@jupyter-widgets/controls",
      "model_module_version": "1.0.0",
      "model_name": "LabelModel",
      "state": {
       "layout": "IPY_MODEL_d15e90a6c2754ae5819ade8d686c2398",
       "style": "IPY_MODEL_254c56171a2f470c862cd570c3ddfe52",
       "value": "Deep Water Depth: "
      }
     },
     "6df74d401e334c4db015917424aa0858": {
      "model_module": "@jupyter-widgets/controls",
      "model_module_version": "1.0.0",
      "model_name": "BoxModel",
      "state": {
       "children": [
        "IPY_MODEL_3aa0cf97249847d5a1197c4aa406ae77",
        "IPY_MODEL_d3ddd281d5854470807ab0a71bc85197"
       ],
       "layout": "IPY_MODEL_2180f603459e43efa2cdf66f74cbf52c"
      }
     },
     "6f00603383ae448aba2bd033a737b46a": {
      "model_module": "@jupyter-widgets/controls",
      "model_module_version": "1.0.0",
      "model_name": "DescriptionStyleModel",
      "state": {
       "description_width": ""
      }
     },
     "6f44b14307a944b9b8d2a1c23a432abd": {
      "model_module": "@jupyter-widgets/controls",
      "model_module_version": "1.0.0",
      "model_name": "DescriptionStyleModel",
      "state": {
       "description_width": ""
      }
     },
     "6fb30801168841f3afef02ed81736ac4": {
      "model_module": "@jupyter-widgets/controls",
      "model_module_version": "1.0.0",
      "model_name": "TextModel",
      "state": {
       "layout": "IPY_MODEL_fcb3e6a8e1d84172914f73822808a0e2",
       "style": "IPY_MODEL_5a23cb72ed8743f1bf1bf8848cbbc9bd"
      }
     },
     "6fb8ac4b98444330a6b49a2268fe55a7": {
      "model_module": "@jupyter-widgets/controls",
      "model_module_version": "1.0.0",
      "model_name": "DescriptionStyleModel",
      "state": {
       "description_width": ""
      }
     },
     "713a43e4fdda42cd94f878b4ebd56c37": {
      "model_module": "@jupyter-widgets/controls",
      "model_module_version": "1.0.0",
      "model_name": "TextModel",
      "state": {
       "layout": "IPY_MODEL_b8d114a42fe145688f36ea1e7f9234d1",
       "style": "IPY_MODEL_5e44169ae5d54df89a121c12ac174403"
      }
     },
     "72db9957f5f048c39045c0d9e290dc4c": {
      "model_module": "@jupyter-widgets/controls",
      "model_module_version": "1.0.0",
      "model_name": "DescriptionStyleModel",
      "state": {
       "description_width": ""
      }
     },
     "72ec9d6cd6fa46f2a27621c2c210d6ee": {
      "model_module": "@jupyter-widgets/controls",
      "model_module_version": "1.0.0",
      "model_name": "DescriptionStyleModel",
      "state": {
       "description_width": ""
      }
     },
     "731a3701051d402a9ed06881e7678565": {
      "model_module": "@jupyter-widgets/controls",
      "model_module_version": "1.0.0",
      "model_name": "BoxModel",
      "state": {
       "children": [
        "IPY_MODEL_e7bb97e66bf747b1a051e8f941621948",
        "IPY_MODEL_262ad7f43a354d4eac6a3bc9d8b06e6b"
       ],
       "layout": "IPY_MODEL_f48114520d024f8a87271046669d8bda"
      }
     },
     "73740b3623654dd9923a00e7e7a9beab": {
      "model_module": "@jupyter-widgets/base",
      "model_module_version": "1.0.0",
      "model_name": "LayoutModel",
      "state": {}
     },
     "73e76855277642ca8dd4aff835dbf225": {
      "model_module": "@jupyter-widgets/controls",
      "model_module_version": "1.0.0",
      "model_name": "TextModel",
      "state": {
       "layout": "IPY_MODEL_a1b0fbe51c624d6596079fe062f0a718",
       "style": "IPY_MODEL_f24ef12cdcdc4014a5204863aa23b81c"
      }
     },
     "7410d50017ab43c9a2599e7ce009ce9a": {
      "model_module": "@jupyter-widgets/controls",
      "model_module_version": "1.0.0",
      "model_name": "BoxModel",
      "state": {
       "children": [
        "IPY_MODEL_946ea1177d3f4d87bdc672dbd28794f5",
        "IPY_MODEL_21e10d2a8ec34f0b9d447b67c36ed3b5"
       ],
       "layout": "IPY_MODEL_1baf2fa1f5514a63a94c332f9ba6e5a0"
      }
     },
     "745116487f2345c8aa66457186c13265": {
      "model_module": "@jupyter-widgets/controls",
      "model_module_version": "1.0.0",
      "model_name": "BoxModel",
      "state": {
       "children": [
        "IPY_MODEL_e36dff7be8634c9f8f679c7b76d5bcc4",
        "IPY_MODEL_f91a390feafe4bb5b0eb12665a403637"
       ],
       "layout": "IPY_MODEL_e7e3205c08f14b1f9c92f081d1694db9"
      }
     },
     "74941bd21db94593910e177157da71ee": {
      "model_module": "@jupyter-widgets/controls",
      "model_module_version": "1.0.0",
      "model_name": "TextModel",
      "state": {
       "layout": "IPY_MODEL_73740b3623654dd9923a00e7e7a9beab",
       "style": "IPY_MODEL_9db16199c49d4951ac3a48196181dd83"
      }
     },
     "74d0ee56db52441c8295f4b5828493e7": {
      "model_module": "@jupyter-widgets/base",
      "model_module_version": "1.0.0",
      "model_name": "LayoutModel",
      "state": {}
     },
     "7565528870954ea69266890aa7618cc1": {
      "model_module": "@jupyter-widgets/base",
      "model_module_version": "1.0.0",
      "model_name": "LayoutModel",
      "state": {
       "display": "flex",
       "flex_flow": "row",
       "justify_content": "flex-start",
       "width": "50%"
      }
     },
     "7579fe2c2da54cd8bcdf4566e5f8f4c0": {
      "model_module": "@jupyter-widgets/base",
      "model_module_version": "1.0.0",
      "model_name": "LayoutModel",
      "state": {
       "width": "130px"
      }
     },
     "75ad942e2d23409491748b2aa283249d": {
      "model_module": "@jupyter-widgets/controls",
      "model_module_version": "1.0.0",
      "model_name": "DescriptionStyleModel",
      "state": {
       "description_width": ""
      }
     },
     "765224f7fd134152b9857fd8d6349355": {
      "model_module": "@jupyter-widgets/controls",
      "model_module_version": "1.0.0",
      "model_name": "BoxModel",
      "state": {
       "children": [
        "IPY_MODEL_672609f9b63a4bf197971cbdd61d1ff9"
       ],
       "layout": "IPY_MODEL_0983499027a9488ca91e2c5a3533fa53"
      }
     },
     "76b7ed97c2444a7b8b8f05cdb624f461": {
      "model_module": "@jupyter-widgets/controls",
      "model_module_version": "1.0.0",
      "model_name": "ButtonModel",
      "state": {
       "description": "Show result and plot",
       "layout": "IPY_MODEL_0e20d345d5d5451bae1c994e1893f883",
       "style": "IPY_MODEL_f9c0d4cbe3f84280b3ba6b5be6c912d4"
      }
     },
     "76f0efa3d7644d92899e9b3cfbfb421b": {
      "model_module": "@jupyter-widgets/controls",
      "model_module_version": "1.0.0",
      "model_name": "DescriptionStyleModel",
      "state": {
       "description_width": ""
      }
     },
     "77e454bde3df46cbac5c555f327430b1": {
      "model_module": "@jupyter-widgets/controls",
      "model_module_version": "1.0.0",
      "model_name": "BoxModel",
      "state": {
       "children": [
        "IPY_MODEL_1fd9802d5d86433181d73251ec8701a8",
        "IPY_MODEL_b05476dfe5f84fe0b441642efde6fc94"
       ],
       "layout": "IPY_MODEL_e66088f6399747e2a686f2ba95125cc5"
      }
     },
     "78155483dc5f4c9eaa96dbca71e02a45": {
      "model_module": "@jupyter-widgets/controls",
      "model_module_version": "1.0.0",
      "model_name": "BoxModel",
      "state": {
       "children": [
        "IPY_MODEL_866521cf0b1c4f37bb3316c6f3c00375",
        "IPY_MODEL_6fb30801168841f3afef02ed81736ac4"
       ],
       "layout": "IPY_MODEL_37d117e8c9f24e58ac1e3ac9fe4d3f35"
      }
     },
     "78166357cf934432a73d3be379f34539": {
      "model_module": "@jupyter-widgets/controls",
      "model_module_version": "1.0.0",
      "model_name": "TextModel",
      "state": {
       "layout": "IPY_MODEL_845ecd17c4f74130a5253a33411180b4",
       "style": "IPY_MODEL_27ac42d2b6264667af2e27ea0b6955ad",
       "value": "40"
      }
     },
     "7867d269737e47a7b782cc061b50c1fa": {
      "model_module": "@jupyter-widgets/controls",
      "model_module_version": "1.0.0",
      "model_name": "BoxModel",
      "state": {
       "children": [
        "IPY_MODEL_a91fe14eb6ce472d8ea78c7a0e341017",
        "IPY_MODEL_d72765eb5ce3408d89db2f356a83b535"
       ],
       "layout": "IPY_MODEL_f66f0ab492c04b669f902a504288196e"
      }
     },
     "78b1c7067ab549adbccb7c3fc67910f5": {
      "model_module": "@jupyter-widgets/base",
      "model_module_version": "1.0.0",
      "model_name": "LayoutModel",
      "state": {}
     },
     "78ff100c944542fa868f019b040008e9": {
      "model_module": "@jupyter-widgets/base",
      "model_module_version": "1.0.0",
      "model_name": "LayoutModel",
      "state": {}
     },
     "796149525a714dc9aa0c882463b9b919": {
      "model_module": "@jupyter-widgets/controls",
      "model_module_version": "1.0.0",
      "model_name": "DescriptionStyleModel",
      "state": {
       "description_width": ""
      }
     },
     "79c1f54e711f405a8b85c43160fef66b": {
      "model_module": "@jupyter-widgets/controls",
      "model_module_version": "1.0.0",
      "model_name": "BoxModel",
      "state": {
       "children": [
        "IPY_MODEL_947092ed354e43749ee21d46e6ab1a40",
        "IPY_MODEL_06f546bf3ded449bb223d907a9f525fd"
       ],
       "layout": "IPY_MODEL_e66088f6399747e2a686f2ba95125cc5"
      }
     },
     "79d02f7b8308464d90aa2231fa29dfd9": {
      "model_module": "@jupyter-widgets/base",
      "model_module_version": "1.0.0",
      "model_name": "LayoutModel",
      "state": {}
     },
     "7b84395c61204ae4b01d181183c33af2": {
      "model_module": "@jupyter-widgets/controls",
      "model_module_version": "1.0.0",
      "model_name": "BoxModel",
      "state": {
       "children": [
        "IPY_MODEL_d60c05098c7541f1a8400eee326ec06f",
        "IPY_MODEL_e294359632094afa921af9192468d548"
       ],
       "layout": "IPY_MODEL_0983499027a9488ca91e2c5a3533fa53"
      }
     },
     "7ba9bec266cf4657840a545a5194670f": {
      "model_module": "@jupyter-widgets/base",
      "model_module_version": "1.0.0",
      "model_name": "LayoutModel",
      "state": {}
     },
     "7bca46c62ebd4154a3438934c43e25a1": {
      "model_module": "@jupyter-widgets/controls",
      "model_module_version": "1.0.0",
      "model_name": "ButtonStyleModel",
      "state": {}
     },
     "7c576005d0b0418a9b9cb32a6a143634": {
      "model_module": "@jupyter-widgets/base",
      "model_module_version": "1.0.0",
      "model_name": "LayoutModel",
      "state": {
       "width": "130px"
      }
     },
     "7c9f98519eb64677979f08bcd8f908f8": {
      "model_module": "@jupyter-widgets/controls",
      "model_module_version": "1.0.0",
      "model_name": "TextModel",
      "state": {
       "layout": "IPY_MODEL_9b9756e3409441a394366d9a11b5ff7e",
       "style": "IPY_MODEL_1f05ac050e8248178d842d7748723df2"
      }
     },
     "7ce445fc28304fa88677a73f7b76d870": {
      "model_module": "@jupyter-widgets/base",
      "model_module_version": "1.0.0",
      "model_name": "LayoutModel",
      "state": {}
     },
     "7cf7850ecefa410dbf45fc6760c469e7": {
      "model_module": "@jupyter-widgets/controls",
      "model_module_version": "1.0.0",
      "model_name": "TextModel",
      "state": {
       "layout": "IPY_MODEL_08c313d734ad41ac906999bb3317e7cd",
       "style": "IPY_MODEL_6239500c4c984065ba30ce65c4c42a1f"
      }
     },
     "7d7022aa6ffb48c585d831f92498a060": {
      "model_module": "@jupyter-widgets/controls",
      "model_module_version": "1.0.0",
      "model_name": "BoxModel",
      "state": {
       "children": [
        "IPY_MODEL_4d91937f98e5419caebe32e261b5a61a"
       ],
       "layout": "IPY_MODEL_4595bd10d9144f64a0962c3df2a76464"
      }
     },
     "7d70a271a6714ed9b209e8dd6fbff641": {
      "model_module": "@jupyter-widgets/controls",
      "model_module_version": "1.0.0",
      "model_name": "LabelModel",
      "state": {
       "layout": "IPY_MODEL_120194f5ea7045edaffd5cc39dedddd9",
       "style": "IPY_MODEL_f05bdc043ceb451a93c2c97260fcd19d",
       "value": "Wind Velocity: "
      }
     },
     "7e21bcb92de845a49699a01c0300632d": {
      "model_module": "@jupyter-widgets/controls",
      "model_module_version": "1.0.0",
      "model_name": "LabelModel",
      "state": {
       "layout": "IPY_MODEL_a586a971a21942aca777183472c48f0a",
       "style": "IPY_MODEL_9b1bdbe2e4274e2380943a2f300bfb04",
       "value": "Wind Velocity: "
      }
     },
     "7e754e0ec002453d80a608fb276ffc11": {
      "model_module": "@jupyter-widgets/controls",
      "model_module_version": "1.0.0",
      "model_name": "ButtonStyleModel",
      "state": {}
     },
     "7e7ceed74cb342c98950da04fb975cd2": {
      "model_module": "@jupyter-widgets/controls",
      "model_module_version": "1.0.0",
      "model_name": "BoxModel",
      "state": {
       "children": [
        "IPY_MODEL_a8209ce0094849d2bb759b73200f43ed",
        "IPY_MODEL_77e454bde3df46cbac5c555f327430b1",
        "IPY_MODEL_b872ae3acf9040058673e1a0aa09a683",
        "IPY_MODEL_79c1f54e711f405a8b85c43160fef66b"
       ],
       "layout": "IPY_MODEL_1d8aac794f854eebbf041a2146f14e70"
      }
     },
     "7e92a7dfa53e40e8a3c14fef82c4d4bd": {
      "model_module": "@jupyter-widgets/controls",
      "model_module_version": "1.0.0",
      "model_name": "ButtonModel",
      "state": {
       "description": "Clear Plot",
       "layout": "IPY_MODEL_0c9b38d3d271449c88a3600db4715912",
       "style": "IPY_MODEL_8c19483c802b43de943caf7dda03a794"
      }
     },
     "7efb383bd659402bb2b5e10c04ff39f3": {
      "model_module": "@jupyter-widgets/controls",
      "model_module_version": "1.0.0",
      "model_name": "LabelModel",
      "state": {
       "layout": "IPY_MODEL_62ddc8cf835444329a604a825b35dbfd",
       "style": "IPY_MODEL_2af060c005104c97b5777049ed986dc0",
       "value": "Wind Velocity: "
      }
     },
     "7f19f1bc8cc64c1bba14f03c07a1ba5a": {
      "model_module": "@jupyter-widgets/controls",
      "model_module_version": "1.0.0",
      "model_name": "ButtonStyleModel",
      "state": {}
     },
     "7f435a3a2fbf4bee8658680b24c55e96": {
      "model_module": "@jupyter-widgets/base",
      "model_module_version": "1.0.0",
      "model_name": "LayoutModel",
      "state": {}
     },
     "7f8ea74f03b04b7cac6a83ca28dc8efc": {
      "model_module": "@jupyter-widgets/controls",
      "model_module_version": "1.0.0",
      "model_name": "DescriptionStyleModel",
      "state": {
       "description_width": ""
      }
     },
     "7f9e4e6d520d4dc18b757074a6448765": {
      "model_module": "@jupyter-widgets/controls",
      "model_module_version": "1.0.0",
      "model_name": "BoxModel",
      "state": {
       "children": [
        "IPY_MODEL_95037643bacd48aeb8aa7c64247cba1e",
        "IPY_MODEL_c9d3c9a185dc4da5b526c83da1678f51"
       ],
       "layout": "IPY_MODEL_e55df6df85224104a71142e5fba692cb"
      }
     },
     "7fb6d509b62e449da3bc7abeb0ba6681": {
      "model_module": "@jupyter-widgets/base",
      "model_module_version": "1.0.0",
      "model_name": "LayoutModel",
      "state": {}
     },
     "805e7657bf66446699a3cdf2990dbdb3": {
      "model_module": "@jupyter-widgets/base",
      "model_module_version": "1.0.0",
      "model_name": "LayoutModel",
      "state": {}
     },
     "810803c7454f4bb5b6b9025cc10b8f4a": {
      "model_module": "@jupyter-widgets/controls",
      "model_module_version": "1.0.0",
      "model_name": "LabelModel",
      "state": {
       "layout": "IPY_MODEL_7c576005d0b0418a9b9cb32a6a143634",
       "style": "IPY_MODEL_b3b6e2359f714cb198a87e19266de686",
       "value": "Deep Water Depth: "
      }
     },
     "816a0d46f0244ba388859ef2cd6cb982": {
      "model_module": "@jupyter-widgets/controls",
      "model_module_version": "1.0.0",
      "model_name": "ButtonStyleModel",
      "state": {}
     },
     "817260a8e0c245d2b7d21f0b08ee2038": {
      "model_module": "@jupyter-widgets/controls",
      "model_module_version": "1.0.0",
      "model_name": "DescriptionStyleModel",
      "state": {
       "description_width": ""
      }
     },
     "81a899db083644b4bc8515951e9a0da5": {
      "model_module": "@jupyter-widgets/controls",
      "model_module_version": "1.0.0",
      "model_name": "TextModel",
      "state": {
       "layout": "IPY_MODEL_8538ca801deb4de2bf616583828ed8b3",
       "style": "IPY_MODEL_ce9c4c8c8f3342a3830060c66ac50550",
       "value": "40"
      }
     },
     "8302c56043f14d7481f7f7dbab036152": {
      "model_module": "@jupyter-widgets/base",
      "model_module_version": "1.0.0",
      "model_name": "LayoutModel",
      "state": {}
     },
     "8329d44397774fcab690e223f7037820": {
      "model_module": "@jupyter-widgets/controls",
      "model_module_version": "1.0.0",
      "model_name": "BoxModel",
      "state": {
       "children": [
        "IPY_MODEL_3cd58d917afa4f99852110e2aa7faaba",
        "IPY_MODEL_067acd5b76bb458c937ae5e04c44ff2f"
       ],
       "layout": "IPY_MODEL_cb25c51b0722414aa82172e6567ecdfe"
      }
     },
     "84232cb460eb4ecca6920b4f0f8c1279": {
      "model_module": "@jupyter-widgets/controls",
      "model_module_version": "1.0.0",
      "model_name": "LabelModel",
      "state": {
       "layout": "IPY_MODEL_ad275c398eb44c969d01eb76eabb7a87",
       "style": "IPY_MODEL_69bf577d33ed40b5a8e14db84d43caba",
       "value": "Bed Slope: "
      }
     },
     "84431ea5235e443fb755694f218f16f5": {
      "model_module": "@jupyter-widgets/base",
      "model_module_version": "1.0.0",
      "model_name": "LayoutModel",
      "state": {}
     },
     "845ecd17c4f74130a5253a33411180b4": {
      "model_module": "@jupyter-widgets/base",
      "model_module_version": "1.0.0",
      "model_name": "LayoutModel",
      "state": {}
     },
     "8538ca801deb4de2bf616583828ed8b3": {
      "model_module": "@jupyter-widgets/base",
      "model_module_version": "1.0.0",
      "model_name": "LayoutModel",
      "state": {}
     },
     "8561f1caf87e4ec28551b74daba5be33": {
      "model_module": "@jupyter-widgets/controls",
      "model_module_version": "1.0.0",
      "model_name": "DescriptionStyleModel",
      "state": {
       "description_width": ""
      }
     },
     "85ad6efc4b2246cdb6080a88709695d9": {
      "model_module": "@jupyter-widgets/controls",
      "model_module_version": "1.0.0",
      "model_name": "TextModel",
      "state": {
       "layout": "IPY_MODEL_b5286703d02e4fb69bb11346c9e10952",
       "style": "IPY_MODEL_e630f42f9ad04c4db17b7cf62c864c51",
       "value": "0.00084"
      }
     },
     "8644be3b1d4c4fb5994335948ab0aab1": {
      "model_module": "@jupyter-widgets/base",
      "model_module_version": "1.0.0",
      "model_name": "LayoutModel",
      "state": {
       "width": "130px"
      }
     },
     "866521cf0b1c4f37bb3316c6f3c00375": {
      "model_module": "@jupyter-widgets/controls",
      "model_module_version": "1.0.0",
      "model_name": "LabelModel",
      "state": {
       "layout": "IPY_MODEL_365f41417c804f499a67b272b48da607",
       "style": "IPY_MODEL_ef35eb47e69d43ba8cff4426e94dfb95",
       "value": "Wind Velocity: "
      }
     },
     "866faeb048184c50ae85120577b70764": {
      "model_module": "@jupyter-widgets/controls",
      "model_module_version": "1.0.0",
      "model_name": "LabelModel",
      "state": {
       "layout": "IPY_MODEL_d304d0abc2834dd088cd94e9ab924159",
       "style": "IPY_MODEL_d3f803495e0e499a90c9b83f10b0d597",
       "value": "Bed Slope: "
      }
     },
     "8680bbee9119438c848a719fc6ef20ed": {
      "model_module": "@jupyter-widgets/controls",
      "model_module_version": "1.0.0",
      "model_name": "ButtonStyleModel",
      "state": {}
     },
     "87161877309b4338b718ea8fb09e671b": {
      "model_module": "@jupyter-widgets/controls",
      "model_module_version": "1.0.0",
      "model_name": "DescriptionStyleModel",
      "state": {
       "description_width": ""
      }
     },
     "87676a05f0b44ce08e86aef55a733dfb": {
      "model_module": "@jupyter-widgets/base",
      "model_module_version": "1.0.0",
      "model_name": "LayoutModel",
      "state": {}
     },
     "87b797e4ee5c4330b5939ef86784b956": {
      "model_module": "@jupyter-widgets/controls",
      "model_module_version": "1.0.0",
      "model_name": "TextModel",
      "state": {
       "layout": "IPY_MODEL_2908381495524712b24bb5159887da05",
       "style": "IPY_MODEL_8bd7fd952d3740febc3c856bc2cd1863",
       "value": "40"
      }
     },
     "87f6c50a048a4d58a0e81f79e99f47fb": {
      "model_module": "@jupyter-widgets/controls",
      "model_module_version": "1.0.0",
      "model_name": "TextModel",
      "state": {
       "layout": "IPY_MODEL_2e7dbf7b9f494485ae161a910f3226a7",
       "style": "IPY_MODEL_98035f0aec1844039af081f0e5ecfaa4"
      }
     },
     "885c3dfa976f499e974f26d2f93dd4d0": {
      "model_module": "@jupyter-widgets/base",
      "model_module_version": "1.0.0",
      "model_name": "LayoutModel",
      "state": {
       "display": "flex",
       "flex_flow": "row",
       "justify_content": "flex-start",
       "width": "50%"
      }
     },
     "887a930d791d494abf19fabce64aa30a": {
      "model_module": "@jupyter-widgets/controls",
      "model_module_version": "1.0.0",
      "model_name": "DescriptionStyleModel",
      "state": {
       "description_width": ""
      }
     },
     "891411e63681453abb1ac64a4af61e2b": {
      "model_module": "@jupyter-widgets/controls",
      "model_module_version": "1.0.0",
      "model_name": "BoxModel",
      "state": {
       "children": [
        "IPY_MODEL_274d9feb48cc4b8bbee711e862719bce",
        "IPY_MODEL_f57764599712445b8abd04412fb054e3"
       ],
       "layout": "IPY_MODEL_885c3dfa976f499e974f26d2f93dd4d0"
      }
     },
     "8956034a54b04f669caca518b22195eb": {
      "model_module": "@jupyter-widgets/controls",
      "model_module_version": "1.0.0",
      "model_name": "ButtonModel",
      "state": {
       "description": "Show result and plot",
       "layout": "IPY_MODEL_805e7657bf66446699a3cdf2990dbdb3",
       "style": "IPY_MODEL_5dbd8c4e40a9445baa715fac1cba831d"
      }
     },
     "8a0380671e5b4f8daf1844decec73903": {
      "model_module": "@jupyter-widgets/base",
      "model_module_version": "1.0.0",
      "model_name": "LayoutModel",
      "state": {}
     },
     "8aaca4a356214cb580260625d35cff0b": {
      "model_module": "@jupyter-widgets/controls",
      "model_module_version": "1.0.0",
      "model_name": "ButtonModel",
      "state": {
       "description": "Show result and plot",
       "layout": "IPY_MODEL_e42e2cf6f6f549188f019a76a5f7cc86",
       "style": "IPY_MODEL_474ea64bcdfe439f9037420e90373071"
      }
     },
     "8b932a1d6b03471d9168de0b55841f61": {
      "model_module": "@jupyter-widgets/base",
      "model_module_version": "1.0.0",
      "model_name": "LayoutModel",
      "state": {}
     },
     "8ba0b8e075f24e0dae390d651b7c0a94": {
      "model_module": "@jupyter-widgets/base",
      "model_module_version": "1.0.0",
      "model_name": "LayoutModel",
      "state": {}
     },
     "8ba5f2613ca341fab88e997463fae593": {
      "model_module": "@jupyter-widgets/base",
      "model_module_version": "1.0.0",
      "model_name": "LayoutModel",
      "state": {}
     },
     "8bd5afcc111048cea451ae0c7e2441e3": {
      "model_module": "@jupyter-widgets/base",
      "model_module_version": "1.0.0",
      "model_name": "LayoutModel",
      "state": {}
     },
     "8bd7fd952d3740febc3c856bc2cd1863": {
      "model_module": "@jupyter-widgets/controls",
      "model_module_version": "1.0.0",
      "model_name": "DescriptionStyleModel",
      "state": {
       "description_width": ""
      }
     },
     "8bdaafc79b304239bb412cbd18a4d371": {
      "model_module": "@jupyter-widgets/controls",
      "model_module_version": "1.0.0",
      "model_name": "DescriptionStyleModel",
      "state": {
       "description_width": ""
      }
     },
     "8c19483c802b43de943caf7dda03a794": {
      "model_module": "@jupyter-widgets/controls",
      "model_module_version": "1.0.0",
      "model_name": "ButtonStyleModel",
      "state": {}
     },
     "8c33633eb1854cc7a59d8ae9fb467895": {
      "model_module": "@jupyter-widgets/controls",
      "model_module_version": "1.0.0",
      "model_name": "ButtonStyleModel",
      "state": {}
     },
     "8c56509ec88749919646c03d18810eb8": {
      "model_module": "@jupyter-widgets/controls",
      "model_module_version": "1.0.0",
      "model_name": "DescriptionStyleModel",
      "state": {
       "description_width": ""
      }
     },
     "8cd1250781dc4730b665d06031496ac1": {
      "model_module": "@jupyter-widgets/controls",
      "model_module_version": "1.0.0",
      "model_name": "ButtonStyleModel",
      "state": {}
     },
     "8d393b34a79c4ae49f5e9a1722c6fdeb": {
      "model_module": "@jupyter-widgets/controls",
      "model_module_version": "1.0.0",
      "model_name": "BoxModel",
      "state": {
       "children": [
        "IPY_MODEL_21d70df9eff74e46ab68a91c2b537f8c",
        "IPY_MODEL_510ce1d2cce440d0ac58fc51aa94273e"
       ],
       "layout": "IPY_MODEL_37d117e8c9f24e58ac1e3ac9fe4d3f35"
      }
     },
     "8ea24c1377a64991bd6512f9dd3d4893": {
      "model_module": "@jupyter-widgets/controls",
      "model_module_version": "1.0.0",
      "model_name": "ButtonModel",
      "state": {
       "description": "Clear Plot",
       "layout": "IPY_MODEL_661cc73fd76c472aa292127d16ff62a4",
       "style": "IPY_MODEL_9718511f604d415380a70f5244e9e35e"
      }
     },
     "8eca9e2beb7a47319095e9252b6e1b1c": {
      "model_module": "@jupyter-widgets/controls",
      "model_module_version": "1.0.0",
      "model_name": "DescriptionStyleModel",
      "state": {
       "description_width": ""
      }
     },
     "8efb68f59d8d4cfdb89e19478fe0dc14": {
      "model_module": "@jupyter-widgets/controls",
      "model_module_version": "1.0.0",
      "model_name": "TextModel",
      "state": {
       "layout": "IPY_MODEL_4a58dd0b6bb54e95b4ed2f9ac8e48830",
       "style": "IPY_MODEL_90b8133cfcf34e87b82cebcebeb52707"
      }
     },
     "8ff210ae27264fa090934c47e08bcc43": {
      "model_module": "@jupyter-widgets/controls",
      "model_module_version": "1.0.0",
      "model_name": "ButtonModel",
      "state": {
       "description": "Clear Plot",
       "layout": "IPY_MODEL_aecf8ab9ce064d52a035df84fde61a36",
       "style": "IPY_MODEL_816a0d46f0244ba388859ef2cd6cb982"
      }
     },
     "90b8133cfcf34e87b82cebcebeb52707": {
      "model_module": "@jupyter-widgets/controls",
      "model_module_version": "1.0.0",
      "model_name": "DescriptionStyleModel",
      "state": {
       "description_width": ""
      }
     },
     "90ca5792328944b3bc784bae390302f1": {
      "model_module": "@jupyter-widgets/base",
      "model_module_version": "1.0.0",
      "model_name": "LayoutModel",
      "state": {}
     },
     "90f6075ebe8245c5b2da60092978e28c": {
      "model_module": "@jupyter-widgets/controls",
      "model_module_version": "1.0.0",
      "model_name": "BoxModel",
      "state": {
       "children": [
        "IPY_MODEL_7e21bcb92de845a49699a01c0300632d",
        "IPY_MODEL_73e76855277642ca8dd4aff835dbf225"
       ],
       "layout": "IPY_MODEL_f89aa793ff6e4a4c8942a03e82baa2ce"
      }
     },
     "920d48d5066243da936e645c924ba9da": {
      "model_module": "@jupyter-widgets/controls",
      "model_module_version": "1.0.0",
      "model_name": "LabelModel",
      "state": {
       "layout": "IPY_MODEL_fe505902dd9c4911a55cadda4596d571",
       "style": "IPY_MODEL_cbb9f1a96f944415af4bb03abd8a89d8",
       "value": "Bed Slope: "
      }
     },
     "93b5c4ee81ee4bb78f9f00e5046f6fa8": {
      "model_module": "@jupyter-widgets/controls",
      "model_module_version": "1.0.0",
      "model_name": "BoxModel",
      "state": {
       "children": [
        "IPY_MODEL_76b7ed97c2444a7b8b8f05cdb624f461"
       ],
       "layout": "IPY_MODEL_f89aa793ff6e4a4c8942a03e82baa2ce"
      }
     },
     "94337198e9854b34af133ade5c99abad": {
      "model_module": "@jupyter-widgets/controls",
      "model_module_version": "1.0.0",
      "model_name": "ButtonModel",
      "state": {
       "description": "Clear Plot",
       "layout": "IPY_MODEL_cda9fd870478489499b974cdb1c0f1eb",
       "style": "IPY_MODEL_070520afa4b0406da75cac742c9f8c14"
      }
     },
     "945f0aeb4262432db3d5490cf25b9182": {
      "model_module": "@jupyter-widgets/controls",
      "model_module_version": "1.0.0",
      "model_name": "BoxModel",
      "state": {
       "children": [
        "IPY_MODEL_26c7ca0e5de648449fb36f2f4da5fbd1",
        "IPY_MODEL_f9cb38ff0fe24e888050f9481ce3a19a"
       ],
       "layout": "IPY_MODEL_6473fdb5121941afa5bcff50ebcaba4d"
      }
     },
     "946ea1177d3f4d87bdc672dbd28794f5": {
      "model_module": "@jupyter-widgets/controls",
      "model_module_version": "1.0.0",
      "model_name": "LabelModel",
      "state": {
       "layout": "IPY_MODEL_ad275c398eb44c969d01eb76eabb7a87",
       "style": "IPY_MODEL_b3b7004b97634a7e917d53956489a530",
       "value": "Wind Velocity: "
      }
     },
     "947092ed354e43749ee21d46e6ab1a40": {
      "model_module": "@jupyter-widgets/controls",
      "model_module_version": "1.0.0",
      "model_name": "ButtonModel",
      "state": {
       "description": "Show Plot",
       "layout": "IPY_MODEL_1a8a7d91c0714e22aabbe5827a134120",
       "style": "IPY_MODEL_c39595d9820a4a5193b5ee77839c268f"
      }
     },
     "94e972020548476cb1aba5cca7d8b175": {
      "model_module": "@jupyter-widgets/controls",
      "model_module_version": "1.0.0",
      "model_name": "BoxModel",
      "state": {
       "children": [
        "IPY_MODEL_ebcd7fca56f24be3a05e96eae19400fd",
        "IPY_MODEL_7cf7850ecefa410dbf45fc6760c469e7"
       ],
       "layout": "IPY_MODEL_4595bd10d9144f64a0962c3df2a76464"
      }
     },
     "95037643bacd48aeb8aa7c64247cba1e": {
      "model_module": "@jupyter-widgets/controls",
      "model_module_version": "1.0.0",
      "model_name": "LabelModel",
      "state": {
       "layout": "IPY_MODEL_15d0437dd93f48168b0e56598f9993de",
       "style": "IPY_MODEL_c2f9d332db0147719b73eac27ee21039",
       "value": "Wind Velocity: "
      }
     },
     "950714e6e7b1445ba0b9ec28eec1b162": {
      "model_module": "@jupyter-widgets/controls",
      "model_module_version": "1.0.0",
      "model_name": "LabelModel",
      "state": {
       "layout": "IPY_MODEL_013bae47bc9c4d0db3269c10a2ed960c",
       "style": "IPY_MODEL_bc766f5e822c4199a8994abfc356ff07",
       "value": "Wind Velocity: "
      }
     },
     "951292125fbc4724b73129c0c2effa46": {
      "model_module": "@jupyter-widgets/base",
      "model_module_version": "1.0.0",
      "model_name": "LayoutModel",
      "state": {}
     },
     "952757d590244a30900adfc8facb4443": {
      "model_module": "@jupyter-widgets/controls",
      "model_module_version": "1.0.0",
      "model_name": "LabelModel",
      "state": {
       "layout": "IPY_MODEL_0ea9914669974dd8b94babc98e1a6839",
       "style": "IPY_MODEL_ea9522ecc62e4c4094b52e91d362fbf8",
       "value": "Deep Water Depth: "
      }
     },
     "95bc12a721b64e08bf6be0003024bcdd": {
      "model_module": "@jupyter-widgets/base",
      "model_module_version": "1.0.0",
      "model_name": "LayoutModel",
      "state": {}
     },
     "9646b1e501214e5d8b3de3ff7f4f9fbd": {
      "model_module": "@jupyter-widgets/controls",
      "model_module_version": "1.0.0",
      "model_name": "DescriptionStyleModel",
      "state": {
       "description_width": ""
      }
     },
     "96863d2bc3154b349a4f4dff735d8ba0": {
      "model_module": "@jupyter-widgets/controls",
      "model_module_version": "1.0.0",
      "model_name": "DescriptionStyleModel",
      "state": {
       "description_width": ""
      }
     },
     "971550d8c6c841ac871890981bee2244": {
      "model_module": "@jupyter-widgets/base",
      "model_module_version": "1.0.0",
      "model_name": "LayoutModel",
      "state": {}
     },
     "9718511f604d415380a70f5244e9e35e": {
      "model_module": "@jupyter-widgets/controls",
      "model_module_version": "1.0.0",
      "model_name": "ButtonStyleModel",
      "state": {}
     },
     "97494d9c60634a0e9b5bdb610fd2b3b7": {
      "model_module": "@jupyter-widgets/base",
      "model_module_version": "1.0.0",
      "model_name": "LayoutModel",
      "state": {}
     },
     "98035f0aec1844039af081f0e5ecfaa4": {
      "model_module": "@jupyter-widgets/controls",
      "model_module_version": "1.0.0",
      "model_name": "DescriptionStyleModel",
      "state": {
       "description_width": ""
      }
     },
     "98338be136a2450793a230acd49bd15f": {
      "model_module": "@jupyter-widgets/base",
      "model_module_version": "1.0.0",
      "model_name": "LayoutModel",
      "state": {
       "display": "flex",
       "flex_flow": "row",
       "justify_content": "flex-start",
       "width": "50%"
      }
     },
     "98ac0b7b09fe4af8a597b58ec742f47d": {
      "model_module": "@jupyter-widgets/controls",
      "model_module_version": "1.0.0",
      "model_name": "BoxModel",
      "state": {
       "children": [
        "IPY_MODEL_03c6c2f811644275ae27151d12201c2d",
        "IPY_MODEL_78155483dc5f4c9eaa96dbca71e02a45",
        "IPY_MODEL_8d393b34a79c4ae49f5e9a1722c6fdeb",
        "IPY_MODEL_c1deb12e1db446978e433a9bcc039a33"
       ],
       "layout": "IPY_MODEL_4839482926f44aa4af109d893a2d9be5"
      }
     },
     "99264f45941f4554ab1c3c15d0b6a8b5": {
      "model_module": "@jupyter-widgets/controls",
      "model_module_version": "1.0.0",
      "model_name": "DescriptionStyleModel",
      "state": {
       "description_width": ""
      }
     },
     "992f5c604ff24eb1b9334d0061bf9bba": {
      "model_module": "@jupyter-widgets/controls",
      "model_module_version": "1.0.0",
      "model_name": "BoxModel",
      "state": {
       "children": [
        "IPY_MODEL_05be6db5293848b28758b8794b6fe00e",
        "IPY_MODEL_1306f20e7fc546a7b7d672440c1c2e85",
        "IPY_MODEL_ca297269d692433b98a39d53dd6057e5",
        "IPY_MODEL_32122ca0049b4c6aa78a13759c9eb39f"
       ],
       "layout": "IPY_MODEL_d7bea9b149224dbc8eef1d5a0cf61ba6"
      }
     },
     "99dd5145b4c641cd871d483f3b1ddd2b": {
      "model_module": "@jupyter-widgets/controls",
      "model_module_version": "1.0.0",
      "model_name": "BoxModel",
      "state": {
       "children": [
        "IPY_MODEL_ceca668d32ae450c8d41013a5d3984c9",
        "IPY_MODEL_b42c1e94d6e149fca72d29d3d1aea7ae"
       ],
       "layout": "IPY_MODEL_885c3dfa976f499e974f26d2f93dd4d0"
      }
     },
     "9b1bdbe2e4274e2380943a2f300bfb04": {
      "model_module": "@jupyter-widgets/controls",
      "model_module_version": "1.0.0",
      "model_name": "DescriptionStyleModel",
      "state": {
       "description_width": ""
      }
     },
     "9b1f70531f1f4c44929550c252fa2fb5": {
      "model_module": "@jupyter-widgets/base",
      "model_module_version": "1.0.0",
      "model_name": "LayoutModel",
      "state": {}
     },
     "9b358abc67af4b799a0fdfe95c21bfd6": {
      "model_module": "@jupyter-widgets/base",
      "model_module_version": "1.0.0",
      "model_name": "LayoutModel",
      "state": {}
     },
     "9b9756e3409441a394366d9a11b5ff7e": {
      "model_module": "@jupyter-widgets/base",
      "model_module_version": "1.0.0",
      "model_name": "LayoutModel",
      "state": {}
     },
     "9ba6e0297847473f90e160d1ee37ff52": {
      "model_module": "@jupyter-widgets/controls",
      "model_module_version": "1.0.0",
      "model_name": "DescriptionStyleModel",
      "state": {
       "description_width": ""
      }
     },
     "9d2d2899fea74bc1ab218a0c571e1b46": {
      "model_module": "@jupyter-widgets/controls",
      "model_module_version": "1.0.0",
      "model_name": "DescriptionStyleModel",
      "state": {
       "description_width": ""
      }
     },
     "9db16199c49d4951ac3a48196181dd83": {
      "model_module": "@jupyter-widgets/controls",
      "model_module_version": "1.0.0",
      "model_name": "DescriptionStyleModel",
      "state": {
       "description_width": ""
      }
     },
     "9dd36cf08ffb431e872d3b2aa5ee36df": {
      "model_module": "@jupyter-widgets/controls",
      "model_module_version": "1.0.0",
      "model_name": "DescriptionStyleModel",
      "state": {
       "description_width": ""
      }
     },
     "9e5adbd660cb49a690f06c71d529bdb0": {
      "model_module": "@jupyter-widgets/controls",
      "model_module_version": "1.0.0",
      "model_name": "BoxModel",
      "state": {
       "children": [
        "IPY_MODEL_4b84a64e912743b4ab118f36b86e6ebd",
        "IPY_MODEL_0b89242ea50f40489027ca203e284c64"
       ],
       "layout": "IPY_MODEL_614c17c367654e34a0266fb78c40cb53"
      }
     },
     "9eb3485f8f3243cb91ecff83553f4fdc": {
      "model_module": "@jupyter-widgets/base",
      "model_module_version": "1.0.0",
      "model_name": "LayoutModel",
      "state": {}
     },
     "9ffb9cfdfa0f4f25b06e30c94e529c83": {
      "model_module": "@jupyter-widgets/controls",
      "model_module_version": "1.0.0",
      "model_name": "LabelModel",
      "state": {
       "layout": "IPY_MODEL_a52b486c65574548ad49730fa26cad24",
       "style": "IPY_MODEL_c94a4199d73d4e8c88a54eaf84a4a2af",
       "value": "Bed Slope: "
      }
     },
     "a02e3bc2e75d4118b20f54bfebf8ff45": {
      "model_module": "@jupyter-widgets/controls",
      "model_module_version": "1.0.0",
      "model_name": "BoxModel",
      "state": {
       "children": [
        "IPY_MODEL_aacfc332e00d4f8a809d757ec417cbfa",
        "IPY_MODEL_c146b192e6664c829e6fadb66301485c"
       ],
       "layout": "IPY_MODEL_f89aa793ff6e4a4c8942a03e82baa2ce"
      }
     },
     "a08a05037ee849c19f74ae2915599513": {
      "model_module": "@jupyter-widgets/controls",
      "model_module_version": "1.0.0",
      "model_name": "LabelModel",
      "state": {
       "layout": "IPY_MODEL_d304d0abc2834dd088cd94e9ab924159",
       "style": "IPY_MODEL_69471b3f8c7248899acd76678d672fd4",
       "value": "Deep Water Depth: "
      }
     },
     "a08f97df6cf5498b97117db325ae495b": {
      "model_module": "@jupyter-widgets/controls",
      "model_module_version": "1.0.0",
      "model_name": "TextModel",
      "state": {
       "layout": "IPY_MODEL_28a891c1880a438981a919c8b6f95e61",
       "style": "IPY_MODEL_043d24356c4b4e3681889da89072858a"
      }
     },
     "a0f047bc6da84b4d8fdc955d90290aac": {
      "model_module": "@jupyter-widgets/base",
      "model_module_version": "1.0.0",
      "model_name": "LayoutModel",
      "state": {}
     },
     "a1b0fbe51c624d6596079fe062f0a718": {
      "model_module": "@jupyter-widgets/base",
      "model_module_version": "1.0.0",
      "model_name": "LayoutModel",
      "state": {}
     },
     "a21befe9d54240ddbb6ac2ae85a54a23": {
      "model_module": "@jupyter-widgets/controls",
      "model_module_version": "1.0.0",
      "model_name": "BoxModel",
      "state": {
       "children": [
        "IPY_MODEL_ec7c5c6901784781b310fd9a4a908fee",
        "IPY_MODEL_fe2cc2bc6d224b9e8a4c336b2115441c",
        "IPY_MODEL_f4801451044e44f699bfc3b65d6fdb28",
        "IPY_MODEL_0f8daf1e48f741ef8f746c5fc367144e"
       ],
       "layout": "IPY_MODEL_d0f1dd3e6a5b449da3231bc152264775"
      }
     },
     "a22edb8b638843d28765d1f21ba10854": {
      "model_module": "@jupyter-widgets/controls",
      "model_module_version": "1.0.0",
      "model_name": "BoxModel",
      "state": {
       "children": [
        "IPY_MODEL_3119092a1aa14eeea912ee733279eed0"
       ],
       "layout": "IPY_MODEL_98338be136a2450793a230acd49bd15f"
      }
     },
     "a2d8e26fa5d740b9b83acc4ebf91df22": {
      "model_module": "@jupyter-widgets/base",
      "model_module_version": "1.0.0",
      "model_name": "LayoutModel",
      "state": {
       "width": "130px"
      }
     },
     "a41c9f4e7b07498682f2dbefdf7766dc": {
      "model_module": "@jupyter-widgets/controls",
      "model_module_version": "1.0.0",
      "model_name": "BoxModel",
      "state": {
       "children": [
        "IPY_MODEL_920d48d5066243da936e645c924ba9da",
        "IPY_MODEL_593d65df1df44909b4b7c62f87a2b175"
       ],
       "layout": "IPY_MODEL_a60abcb41ac849109a6b1389f4a968b8"
      }
     },
     "a5200a460efe467a864cf09cc736a58c": {
      "model_module": "@jupyter-widgets/base",
      "model_module_version": "1.0.0",
      "model_name": "LayoutModel",
      "state": {}
     },
     "a52b486c65574548ad49730fa26cad24": {
      "model_module": "@jupyter-widgets/base",
      "model_module_version": "1.0.0",
      "model_name": "LayoutModel",
      "state": {
       "width": "130px"
      }
     },
     "a53bff79e32e41c88406a3416b3de85d": {
      "model_module": "@jupyter-widgets/controls",
      "model_module_version": "1.0.0",
      "model_name": "LabelModel",
      "state": {
       "layout": "IPY_MODEL_d15e90a6c2754ae5819ade8d686c2398",
       "style": "IPY_MODEL_237f606a6cbb41e2a6489b079e5166e6",
       "value": "Bed Slope: "
      }
     },
     "a571a145d507453ba74edf6ce143e8a9": {
      "model_module": "@jupyter-widgets/controls",
      "model_module_version": "1.0.0",
      "model_name": "BoxModel",
      "state": {
       "children": [
        "IPY_MODEL_56f75ef87661487ba4f173af95d01cb1",
        "IPY_MODEL_a7078d1b606744a9b059fa82c28ba0fa"
       ],
       "layout": "IPY_MODEL_98338be136a2450793a230acd49bd15f"
      }
     },
     "a586a971a21942aca777183472c48f0a": {
      "model_module": "@jupyter-widgets/base",
      "model_module_version": "1.0.0",
      "model_name": "LayoutModel",
      "state": {
       "width": "130px"
      }
     },
     "a59ef87102df45b4a52d2e7dc844e8f1": {
      "model_module": "@jupyter-widgets/base",
      "model_module_version": "1.0.0",
      "model_name": "LayoutModel",
      "state": {}
     },
     "a5d7860b213c4e28ad9b548dbfcc96bf": {
      "model_module": "@jupyter-widgets/base",
      "model_module_version": "1.0.0",
      "model_name": "LayoutModel",
      "state": {}
     },
     "a60abcb41ac849109a6b1389f4a968b8": {
      "model_module": "@jupyter-widgets/base",
      "model_module_version": "1.0.0",
      "model_name": "LayoutModel",
      "state": {
       "display": "flex",
       "flex_flow": "row",
       "justify_content": "flex-start",
       "width": "50%"
      }
     },
     "a6507cc1efdb404fb64b7464a64494c0": {
      "model_module": "@jupyter-widgets/controls",
      "model_module_version": "1.0.0",
      "model_name": "DescriptionStyleModel",
      "state": {
       "description_width": ""
      }
     },
     "a65ee85bdbc441b4933b0ea51e3a03c1": {
      "model_module": "@jupyter-widgets/controls",
      "model_module_version": "1.0.0",
      "model_name": "BoxModel",
      "state": {
       "children": [
        "IPY_MODEL_d2f0274d64df4a3ea0ebe74a817239dc"
       ],
       "layout": "IPY_MODEL_e7e3205c08f14b1f9c92f081d1694db9"
      }
     },
     "a6bd450d148c4c81958bc812992f3fc7": {
      "model_module": "@jupyter-widgets/base",
      "model_module_version": "1.0.0",
      "model_name": "LayoutModel",
      "state": {
       "width": "130px"
      }
     },
     "a70567d2a2184e6282bace3be80e9f46": {
      "model_module": "@jupyter-widgets/controls",
      "model_module_version": "1.0.0",
      "model_name": "DescriptionStyleModel",
      "state": {
       "description_width": ""
      }
     },
     "a7078d1b606744a9b059fa82c28ba0fa": {
      "model_module": "@jupyter-widgets/controls",
      "model_module_version": "1.0.0",
      "model_name": "TextModel",
      "state": {
       "layout": "IPY_MODEL_5b28a3c91dc04bbfb140c32712e9bf03",
       "style": "IPY_MODEL_f3c9e4b7bc29459a8b108eb9fc4283ab",
       "value": "0.00084"
      }
     },
     "a80dfa71a8c04a3cb581df12644b4b85": {
      "model_module": "@jupyter-widgets/controls",
      "model_module_version": "1.0.0",
      "model_name": "DescriptionStyleModel",
      "state": {
       "description_width": ""
      }
     },
     "a8209ce0094849d2bb759b73200f43ed": {
      "model_module": "@jupyter-widgets/controls",
      "model_module_version": "1.0.0",
      "model_name": "BoxModel",
      "state": {
       "children": [
        "IPY_MODEL_cd91ebac087242baaf9d1bf125d3bdd9",
        "IPY_MODEL_cbf042fbed7f4c759b45424fe3fe49a7"
       ],
       "layout": "IPY_MODEL_e66088f6399747e2a686f2ba95125cc5"
      }
     },
     "a86b16ead75e4b5daf60a4c3422ffaf8": {
      "model_module": "@jupyter-widgets/controls",
      "model_module_version": "1.0.0",
      "model_name": "ButtonStyleModel",
      "state": {}
     },
     "a8a57a914151477981059dadd9987134": {
      "model_module": "@jupyter-widgets/controls",
      "model_module_version": "1.0.0",
      "model_name": "BoxModel",
      "state": {
       "children": [
        "IPY_MODEL_54ba922294b8431ea9118e7b1d1ef1e7"
       ],
       "layout": "IPY_MODEL_a60abcb41ac849109a6b1389f4a968b8"
      }
     },
     "a91fe14eb6ce472d8ea78c7a0e341017": {
      "model_module": "@jupyter-widgets/controls",
      "model_module_version": "1.0.0",
      "model_name": "LabelModel",
      "state": {
       "layout": "IPY_MODEL_a52b486c65574548ad49730fa26cad24",
       "style": "IPY_MODEL_75ad942e2d23409491748b2aa283249d",
       "value": "Deep Water Depth: "
      }
     },
     "a9501dca62ea46c1a30508db2e764383": {
      "model_module": "@jupyter-widgets/controls",
      "model_module_version": "1.0.0",
      "model_name": "DescriptionStyleModel",
      "state": {
       "description_width": ""
      }
     },
     "a9dbb4377fb944f1935621c9f4ad4482": {
      "model_module": "@jupyter-widgets/controls",
      "model_module_version": "1.0.0",
      "model_name": "TextModel",
      "state": {
       "layout": "IPY_MODEL_8bd5afcc111048cea451ae0c7e2441e3",
       "style": "IPY_MODEL_0a88629de636434c8cdc663756fdce35",
       "value": "0.00084"
      }
     },
     "a9e5a32f095549848c954fc133ecb960": {
      "model_module": "@jupyter-widgets/base",
      "model_module_version": "1.0.0",
      "model_name": "LayoutModel",
      "state": {
       "width": "130px"
      }
     },
     "aa33f2a5951d45a2bb619ce453e6c8c1": {
      "model_module": "@jupyter-widgets/base",
      "model_module_version": "1.0.0",
      "model_name": "LayoutModel",
      "state": {}
     },
     "aa88f976dc04412c99e0a29eb791134b": {
      "model_module": "@jupyter-widgets/controls",
      "model_module_version": "1.0.0",
      "model_name": "LabelModel",
      "state": {
       "layout": "IPY_MODEL_68317adaaebc45d79c5079b4acf99361",
       "style": "IPY_MODEL_b5d1edb2889e4edd92f2e0361b931124",
       "value": "Deep Water Depth: "
      }
     },
     "aac2a49548bc4f2b85afacbf13e73f84": {
      "model_module": "@jupyter-widgets/controls",
      "model_module_version": "1.0.0",
      "model_name": "DescriptionStyleModel",
      "state": {
       "description_width": ""
      }
     },
     "aacfc332e00d4f8a809d757ec417cbfa": {
      "model_module": "@jupyter-widgets/controls",
      "model_module_version": "1.0.0",
      "model_name": "LabelModel",
      "state": {
       "layout": "IPY_MODEL_a586a971a21942aca777183472c48f0a",
       "style": "IPY_MODEL_ad913b0d46614d86bb7677acb2bcd3f3",
       "value": "Deep Water Depth: "
      }
     },
     "aad1394146d244399bf5fcc9b6ca54dd": {
      "model_module": "@jupyter-widgets/controls",
      "model_module_version": "1.0.0",
      "model_name": "ButtonStyleModel",
      "state": {}
     },
     "ab39c46c02474c4ca7403f2623467b7d": {
      "model_module": "@jupyter-widgets/controls",
      "model_module_version": "1.0.0",
      "model_name": "LabelModel",
      "state": {
       "layout": "IPY_MODEL_d15e90a6c2754ae5819ade8d686c2398",
       "style": "IPY_MODEL_50b6bd187c8b4481a54029e534fc15b8",
       "value": "Wind Velocity: "
      }
     },
     "ac1ebd1491c543078d6b8373fdf33720": {
      "model_module": "@jupyter-widgets/controls",
      "model_module_version": "1.0.0",
      "model_name": "DescriptionStyleModel",
      "state": {
       "description_width": ""
      }
     },
     "ac636a83eaa34404a4635fbc12df84ee": {
      "model_module": "@jupyter-widgets/controls",
      "model_module_version": "1.0.0",
      "model_name": "DescriptionStyleModel",
      "state": {
       "description_width": ""
      }
     },
     "ac869bd5045741f4819d32bb467ab90f": {
      "model_module": "@jupyter-widgets/controls",
      "model_module_version": "1.0.0",
      "model_name": "TextModel",
      "state": {
       "layout": "IPY_MODEL_2f9fe11cf1524d15a41ba7c23464e1f3",
       "style": "IPY_MODEL_565e9fc73c8240a9bc8c1980729482ab"
      }
     },
     "aca4c41c09054bbeb39dfd5812aa1a2d": {
      "model_module": "@jupyter-widgets/controls",
      "model_module_version": "1.0.0",
      "model_name": "LabelModel",
      "state": {
       "layout": "IPY_MODEL_7579fe2c2da54cd8bcdf4566e5f8f4c0",
       "style": "IPY_MODEL_28d273c5d75c4fc1bcc3db3d84f6397b",
       "value": "Wind Velocity: "
      }
     },
     "ad275c398eb44c969d01eb76eabb7a87": {
      "model_module": "@jupyter-widgets/base",
      "model_module_version": "1.0.0",
      "model_name": "LayoutModel",
      "state": {
       "width": "130px"
      }
     },
     "ad2ce6997441407380949bef68f36332": {
      "model_module": "@jupyter-widgets/controls",
      "model_module_version": "1.0.0",
      "model_name": "TextModel",
      "state": {
       "layout": "IPY_MODEL_84431ea5235e443fb755694f218f16f5",
       "style": "IPY_MODEL_f24d8beb24d04481850d564549995311",
       "value": "40"
      }
     },
     "ad913b0d46614d86bb7677acb2bcd3f3": {
      "model_module": "@jupyter-widgets/controls",
      "model_module_version": "1.0.0",
      "model_name": "DescriptionStyleModel",
      "state": {
       "description_width": ""
      }
     },
     "adcd727c2f004e7b990f09d6077ee463": {
      "model_module": "@jupyter-widgets/controls",
      "model_module_version": "1.0.0",
      "model_name": "ButtonStyleModel",
      "state": {}
     },
     "ae0d0c654470434098da5619cea23194": {
      "model_module": "@jupyter-widgets/controls",
      "model_module_version": "1.0.0",
      "model_name": "BoxModel",
      "state": {
       "children": [
        "IPY_MODEL_aa88f976dc04412c99e0a29eb791134b",
        "IPY_MODEL_07749e6d0494451c8cb23e0ca405a292"
       ],
       "layout": "IPY_MODEL_4595bd10d9144f64a0962c3df2a76464"
      }
     },
     "aecf8ab9ce064d52a035df84fde61a36": {
      "model_module": "@jupyter-widgets/base",
      "model_module_version": "1.0.0",
      "model_name": "LayoutModel",
      "state": {}
     },
     "aedcf29b78904692a5da422687f75b85": {
      "model_module": "@jupyter-widgets/base",
      "model_module_version": "1.0.0",
      "model_name": "LayoutModel",
      "state": {}
     },
     "af2ff7fb9f074d079f2905ade5d487cc": {
      "model_module": "@jupyter-widgets/controls",
      "model_module_version": "1.0.0",
      "model_name": "TextModel",
      "state": {
       "layout": "IPY_MODEL_d3b7404e500c4fa3a35d72708347cb14",
       "style": "IPY_MODEL_62c5c20c4a5b448dbe549c825f8dcace",
       "value": "40"
      }
     },
     "af43c6aa7b344577815ca3321f1b5438": {
      "model_module": "@jupyter-widgets/controls",
      "model_module_version": "1.0.0",
      "model_name": "DescriptionStyleModel",
      "state": {
       "description_width": ""
      }
     },
     "afd1839205174dd08444e4c680f59aea": {
      "model_module": "@jupyter-widgets/controls",
      "model_module_version": "1.0.0",
      "model_name": "BoxModel",
      "state": {
       "children": [
        "IPY_MODEL_ae0d0c654470434098da5619cea23194",
        "IPY_MODEL_94e972020548476cb1aba5cca7d8b175",
        "IPY_MODEL_6bec6ae714734c519088c8309597e796",
        "IPY_MODEL_7d7022aa6ffb48c585d831f92498a060"
       ],
       "layout": "IPY_MODEL_1b0c36f3d7a74ea7abae377d744e5563"
      }
     },
     "b05476dfe5f84fe0b441642efde6fc94": {
      "model_module": "@jupyter-widgets/controls",
      "model_module_version": "1.0.0",
      "model_name": "TextModel",
      "state": {
       "layout": "IPY_MODEL_ed087a068d3f4893b6088fce6bab0883",
       "style": "IPY_MODEL_af43c6aa7b344577815ca3321f1b5438",
       "value": "40"
      }
     },
     "b0c705e5203a4f33816b996166fd9a99": {
      "model_module": "@jupyter-widgets/base",
      "model_module_version": "1.0.0",
      "model_name": "LayoutModel",
      "state": {
       "display": "flex",
       "flex_flow": "row",
       "justify_content": "flex-start",
       "width": "50%"
      }
     },
     "b2413c234f5242ad87e151497f83df02": {
      "model_module": "@jupyter-widgets/controls",
      "model_module_version": "1.0.0",
      "model_name": "TextModel",
      "state": {
       "layout": "IPY_MODEL_d86256777e794779b09ee7b6aea6cdb6",
       "style": "IPY_MODEL_72ec9d6cd6fa46f2a27621c2c210d6ee",
       "value": "0.0084"
      }
     },
     "b28998f2f8324a8ebb92e600808a4948": {
      "model_module": "@jupyter-widgets/controls",
      "model_module_version": "1.0.0",
      "model_name": "TextModel",
      "state": {
       "layout": "IPY_MODEL_aa33f2a5951d45a2bb619ce453e6c8c1",
       "style": "IPY_MODEL_6f44b14307a944b9b8d2a1c23a432abd",
       "value": "40"
      }
     },
     "b3b6e2359f714cb198a87e19266de686": {
      "model_module": "@jupyter-widgets/controls",
      "model_module_version": "1.0.0",
      "model_name": "DescriptionStyleModel",
      "state": {
       "description_width": ""
      }
     },
     "b3b7004b97634a7e917d53956489a530": {
      "model_module": "@jupyter-widgets/controls",
      "model_module_version": "1.0.0",
      "model_name": "DescriptionStyleModel",
      "state": {
       "description_width": ""
      }
     },
     "b422fd5a0c9f4c28b34ae6755216edf2": {
      "model_module": "@jupyter-widgets/base",
      "model_module_version": "1.0.0",
      "model_name": "LayoutModel",
      "state": {
       "width": "130px"
      }
     },
     "b424217d40ae4179bab3e0ef29186fe5": {
      "model_module": "@jupyter-widgets/controls",
      "model_module_version": "1.0.0",
      "model_name": "DescriptionStyleModel",
      "state": {
       "description_width": ""
      }
     },
     "b42c1e94d6e149fca72d29d3d1aea7ae": {
      "model_module": "@jupyter-widgets/controls",
      "model_module_version": "1.0.0",
      "model_name": "TextModel",
      "state": {
       "layout": "IPY_MODEL_f9ff609454ad44a9b7f3c7563e3c57a3",
       "style": "IPY_MODEL_35d238e6785e464d8214361a7ef9e4c4",
       "value": "40"
      }
     },
     "b5286703d02e4fb69bb11346c9e10952": {
      "model_module": "@jupyter-widgets/base",
      "model_module_version": "1.0.0",
      "model_name": "LayoutModel",
      "state": {}
     },
     "b5d1edb2889e4edd92f2e0361b931124": {
      "model_module": "@jupyter-widgets/controls",
      "model_module_version": "1.0.0",
      "model_name": "DescriptionStyleModel",
      "state": {
       "description_width": ""
      }
     },
     "b690c7709d004564b262d0d590f857eb": {
      "model_module": "@jupyter-widgets/controls",
      "model_module_version": "1.0.0",
      "model_name": "TextModel",
      "state": {
       "layout": "IPY_MODEL_12f2dc3faa1a42d6ba82d167009b40d8",
       "style": "IPY_MODEL_5d426b4f1e26497f919048d56ffbfeff",
       "value": "40"
      }
     },
     "b6be5e0f7c924da397e18b1f57bfb332": {
      "model_module": "@jupyter-widgets/base",
      "model_module_version": "1.0.0",
      "model_name": "LayoutModel",
      "state": {
       "width": "130px"
      }
     },
     "b6db0ff8f2504d439ad39bdd5a0603d3": {
      "model_module": "@jupyter-widgets/controls",
      "model_module_version": "1.0.0",
      "model_name": "LabelModel",
      "state": {
       "layout": "IPY_MODEL_0ea9914669974dd8b94babc98e1a6839",
       "style": "IPY_MODEL_a9501dca62ea46c1a30508db2e764383",
       "value": "Wind Velocity: "
      }
     },
     "b724712f61d448a6bf0f63c3ab103b74": {
      "model_module": "@jupyter-widgets/controls",
      "model_module_version": "1.0.0",
      "model_name": "DescriptionStyleModel",
      "state": {
       "description_width": ""
      }
     },
     "b75968bae21f43fbb664ce65848c34dd": {
      "model_module": "@jupyter-widgets/controls",
      "model_module_version": "1.0.0",
      "model_name": "DescriptionStyleModel",
      "state": {
       "description_width": ""
      }
     },
     "b7f405e60d994fb6ad0f01ad0a05971e": {
      "model_module": "@jupyter-widgets/controls",
      "model_module_version": "1.0.0",
      "model_name": "DescriptionStyleModel",
      "state": {
       "description_width": ""
      }
     },
     "b7ff09630d084ea1963b18a14636454b": {
      "model_module": "@jupyter-widgets/controls",
      "model_module_version": "1.0.0",
      "model_name": "ButtonModel",
      "state": {
       "description": "Show result and plot",
       "layout": "IPY_MODEL_6a74977a43204a90a7f835d153f0aa56",
       "style": "IPY_MODEL_4bfb2de7592c438fa3290a3a3901dff4"
      }
     },
     "b8074db54deb45e1a63a8cdd894d7be7": {
      "model_module": "@jupyter-widgets/controls",
      "model_module_version": "1.0.0",
      "model_name": "BoxModel",
      "state": {
       "children": [
        "IPY_MODEL_cf8d253e295447379c44f33132c0caf7",
        "IPY_MODEL_20e87ff6784545608686ea2e5ae27272",
        "IPY_MODEL_2a3138b3cfc2427280b75affbf4ed711",
        "IPY_MODEL_3f36a7d51b154de8a60509aa053c2a44"
       ],
       "layout": "IPY_MODEL_f9219cfc786949ce9e5c88b855008641"
      }
     },
     "b872ae3acf9040058673e1a0aa09a683": {
      "model_module": "@jupyter-widgets/controls",
      "model_module_version": "1.0.0",
      "model_name": "BoxModel",
      "state": {
       "children": [
        "IPY_MODEL_df341303c48c4e4d8ad42afea96cabd5",
        "IPY_MODEL_4d30c37a9ebf40509860461b4c07bd4b"
       ],
       "layout": "IPY_MODEL_e66088f6399747e2a686f2ba95125cc5"
      }
     },
     "b884831b339447c7b2bc477f67d4e1d4": {
      "model_module": "@jupyter-widgets/controls",
      "model_module_version": "1.0.0",
      "model_name": "DescriptionStyleModel",
      "state": {
       "description_width": ""
      }
     },
     "b8b903815e6f4aa4b876f1f26b1c44d2": {
      "model_module": "@jupyter-widgets/controls",
      "model_module_version": "1.0.0",
      "model_name": "ButtonStyleModel",
      "state": {}
     },
     "b8becdf9c67f4e2098e3aba66397390f": {
      "model_module": "@jupyter-widgets/controls",
      "model_module_version": "1.0.0",
      "model_name": "DescriptionStyleModel",
      "state": {
       "description_width": ""
      }
     },
     "b8d114a42fe145688f36ea1e7f9234d1": {
      "model_module": "@jupyter-widgets/base",
      "model_module_version": "1.0.0",
      "model_name": "LayoutModel",
      "state": {}
     },
     "b9289fc48e7648249693f873067946e8": {
      "model_module": "@jupyter-widgets/controls",
      "model_module_version": "1.0.0",
      "model_name": "DescriptionStyleModel",
      "state": {
       "description_width": ""
      }
     },
     "b949d40406824f10807eb0a78a6ad692": {
      "model_module": "@jupyter-widgets/base",
      "model_module_version": "1.0.0",
      "model_name": "LayoutModel",
      "state": {
       "align_items": "stretch",
       "flex_flow": "column"
      }
     },
     "b98c563afc1b416c95c22e592c0ea298": {
      "model_module": "@jupyter-widgets/base",
      "model_module_version": "1.0.0",
      "model_name": "LayoutModel",
      "state": {}
     },
     "b9f22b9e55854619a690d5a448ed766b": {
      "model_module": "@jupyter-widgets/controls",
      "model_module_version": "1.0.0",
      "model_name": "ButtonStyleModel",
      "state": {}
     },
     "ba3d3ae3e8f345beb8bff7b6f28a47b2": {
      "model_module": "@jupyter-widgets/controls",
      "model_module_version": "1.0.0",
      "model_name": "DescriptionStyleModel",
      "state": {
       "description_width": ""
      }
     },
     "ba5bcf6e028f44e59486103a22248cd1": {
      "model_module": "@jupyter-widgets/controls",
      "model_module_version": "1.0.0",
      "model_name": "BoxModel",
      "state": {
       "children": [
        "IPY_MODEL_43543eda2ff24eb18ae38bcfb9f81c49",
        "IPY_MODEL_14a31ec6b1554a1caf09d4dd4787fac0"
       ],
       "layout": "IPY_MODEL_e7e3205c08f14b1f9c92f081d1694db9"
      }
     },
     "ba9c249a89b04bf5b0975c95a062dff4": {
      "model_module": "@jupyter-widgets/base",
      "model_module_version": "1.0.0",
      "model_name": "LayoutModel",
      "state": {
       "align_items": "stretch",
       "flex_flow": "column"
      }
     },
     "bae0922e8ee740099cdc93e88303b0e6": {
      "model_module": "@jupyter-widgets/controls",
      "model_module_version": "1.0.0",
      "model_name": "DescriptionStyleModel",
      "state": {
       "description_width": ""
      }
     },
     "bb68eff0767140c9acecfe8e641fb75d": {
      "model_module": "@jupyter-widgets/controls",
      "model_module_version": "1.0.0",
      "model_name": "DescriptionStyleModel",
      "state": {
       "description_width": ""
      }
     },
     "bc03ddebd53e4dd5a619cb815a0a6f56": {
      "model_module": "@jupyter-widgets/controls",
      "model_module_version": "1.0.0",
      "model_name": "DescriptionStyleModel",
      "state": {
       "description_width": ""
      }
     },
     "bc72259b39ad4f92b1362cbc0f955d34": {
      "model_module": "@jupyter-widgets/base",
      "model_module_version": "1.0.0",
      "model_name": "LayoutModel",
      "state": {}
     },
     "bc766f5e822c4199a8994abfc356ff07": {
      "model_module": "@jupyter-widgets/controls",
      "model_module_version": "1.0.0",
      "model_name": "DescriptionStyleModel",
      "state": {
       "description_width": ""
      }
     },
     "bcb0da7d3e174f6c98d49c267df0ebb6": {
      "model_module": "@jupyter-widgets/base",
      "model_module_version": "1.0.0",
      "model_name": "LayoutModel",
      "state": {}
     },
     "bceaeb6b218044af87aad58f5340b967": {
      "model_module": "@jupyter-widgets/controls",
      "model_module_version": "1.0.0",
      "model_name": "TextModel",
      "state": {
       "layout": "IPY_MODEL_ffd2340bcfc74ec8a970b9d5991ea16a",
       "style": "IPY_MODEL_2b7ea5a145d7423daa7ae554cbcc6953"
      }
     },
     "be6c4a6c16bf4024b97d7819607b8cf6": {
      "model_module": "@jupyter-widgets/controls",
      "model_module_version": "1.0.0",
      "model_name": "ButtonModel",
      "state": {
       "description": "Show Plot",
       "layout": "IPY_MODEL_374ad737b8e143abae4c57ab333b3304",
       "style": "IPY_MODEL_db9c2b9961c340959ac65b2fa3a0dcae"
      }
     },
     "c002d5df17ad4274b4d0d94388aff524": {
      "model_module": "@jupyter-widgets/base",
      "model_module_version": "1.0.0",
      "model_name": "LayoutModel",
      "state": {}
     },
     "c146b192e6664c829e6fadb66301485c": {
      "model_module": "@jupyter-widgets/controls",
      "model_module_version": "1.0.0",
      "model_name": "TextModel",
      "state": {
       "layout": "IPY_MODEL_e07ac44ae0f842328dea919aba87e557",
       "style": "IPY_MODEL_31ecb7550cb34e5f88c6c03d2bbbcf23"
      }
     },
     "c1c35cc6031b4ceaa011ae8075bb69e4": {
      "model_module": "@jupyter-widgets/base",
      "model_module_version": "1.0.0",
      "model_name": "LayoutModel",
      "state": {}
     },
     "c1d333594272472195d24a788c48afa1": {
      "model_module": "@jupyter-widgets/controls",
      "model_module_version": "1.0.0",
      "model_name": "BoxModel",
      "state": {
       "children": [
        "IPY_MODEL_6099d15740764b37b191123bdf2ab516",
        "IPY_MODEL_ec16ebbe28e34326b34194c888cdccc5"
       ],
       "layout": "IPY_MODEL_c6d9c567cd9048e583640a5f54294015"
      }
     },
     "c1deb12e1db446978e433a9bcc039a33": {
      "model_module": "@jupyter-widgets/controls",
      "model_module_version": "1.0.0",
      "model_name": "BoxModel",
      "state": {
       "children": [
        "IPY_MODEL_5565cdd28549482580561d0106ef3e0a"
       ],
       "layout": "IPY_MODEL_37d117e8c9f24e58ac1e3ac9fe4d3f35"
      }
     },
     "c1f89dd168244089b4b490b3fc142af9": {
      "model_module": "@jupyter-widgets/controls",
      "model_module_version": "1.0.0",
      "model_name": "ButtonModel",
      "state": {
       "description": "Show result and plot",
       "layout": "IPY_MODEL_dc0c0fd10df6416983d9af458bab00c4",
       "style": "IPY_MODEL_aad1394146d244399bf5fcc9b6ca54dd"
      }
     },
     "c24c5365909d4f219ef3f8772e3d25ff": {
      "model_module": "@jupyter-widgets/base",
      "model_module_version": "1.0.0",
      "model_name": "LayoutModel",
      "state": {
       "align_items": "stretch",
       "flex_flow": "column"
      }
     },
     "c2f9d332db0147719b73eac27ee21039": {
      "model_module": "@jupyter-widgets/controls",
      "model_module_version": "1.0.0",
      "model_name": "DescriptionStyleModel",
      "state": {
       "description_width": ""
      }
     },
     "c39595d9820a4a5193b5ee77839c268f": {
      "model_module": "@jupyter-widgets/controls",
      "model_module_version": "1.0.0",
      "model_name": "ButtonStyleModel",
      "state": {}
     },
     "c48eecaec93c42f5a7509634ccaa3aa1": {
      "model_module": "@jupyter-widgets/controls",
      "model_module_version": "1.0.0",
      "model_name": "TextModel",
      "state": {
       "layout": "IPY_MODEL_cb8e5c4dcdbf4f2eb37ba0d4998efa7b",
       "style": "IPY_MODEL_51dab7f389994cb3a56cba81e59825c6"
      }
     },
     "c4c883ea7ddd426cb17ff839c024da45": {
      "model_module": "@jupyter-widgets/controls",
      "model_module_version": "1.0.0",
      "model_name": "BoxModel",
      "state": {
       "children": [
        "IPY_MODEL_dc31aeb4125e4e408c47d6fe11c33b10"
       ],
       "layout": "IPY_MODEL_c6d9c567cd9048e583640a5f54294015"
      }
     },
     "c5ed869c4a3741e687266f10e3eb31b0": {
      "model_module": "@jupyter-widgets/controls",
      "model_module_version": "1.0.0",
      "model_name": "LabelModel",
      "state": {
       "layout": "IPY_MODEL_339d919513154e1fa61658228fe7c0dc",
       "style": "IPY_MODEL_0ac0f28d409d42f1a87096f226f1b8a4",
       "value": "Bed Slope: "
      }
     },
     "c60991306f18467e980fc955f048c1a7": {
      "model_module": "@jupyter-widgets/controls",
      "model_module_version": "1.0.0",
      "model_name": "BoxModel",
      "state": {
       "children": [
        "IPY_MODEL_5c6d27e390b24e929e2a596786002490",
        "IPY_MODEL_0c107b6ed5294e2f9c029cd2919535cb"
       ],
       "layout": "IPY_MODEL_6473fdb5121941afa5bcff50ebcaba4d"
      }
     },
     "c6d9c567cd9048e583640a5f54294015": {
      "model_module": "@jupyter-widgets/base",
      "model_module_version": "1.0.0",
      "model_name": "LayoutModel",
      "state": {
       "display": "flex",
       "flex_flow": "row",
       "justify_content": "flex-start",
       "width": "50%"
      }
     },
     "c71001ba3c084250a3aa52d7fefae960": {
      "model_module": "@jupyter-widgets/controls",
      "model_module_version": "1.0.0",
      "model_name": "LabelModel",
      "state": {
       "layout": "IPY_MODEL_120194f5ea7045edaffd5cc39dedddd9",
       "style": "IPY_MODEL_8eca9e2beb7a47319095e9252b6e1b1c",
       "value": "Bed Slope: "
      }
     },
     "c7351e73f66e42e9917b88b2069ec118": {
      "model_module": "@jupyter-widgets/controls",
      "model_module_version": "1.0.0",
      "model_name": "ButtonStyleModel",
      "state": {}
     },
     "c79548a6d6af4a38863f9347db645717": {
      "model_module": "@jupyter-widgets/base",
      "model_module_version": "1.0.0",
      "model_name": "LayoutModel",
      "state": {}
     },
     "c80ec018fa464650b8f3d608b19faeb4": {
      "model_module": "@jupyter-widgets/controls",
      "model_module_version": "1.0.0",
      "model_name": "BoxModel",
      "state": {
       "children": [
        "IPY_MODEL_9ffb9cfdfa0f4f25b06e30c94e529c83",
        "IPY_MODEL_1c406981768e4e50b4dc751725c1947a"
       ],
       "layout": "IPY_MODEL_f66f0ab492c04b669f902a504288196e"
      }
     },
     "c931293f85ba474384619af558786eb5": {
      "model_module": "@jupyter-widgets/controls",
      "model_module_version": "1.0.0",
      "model_name": "TextModel",
      "state": {
       "layout": "IPY_MODEL_7ce445fc28304fa88677a73f7b76d870",
       "style": "IPY_MODEL_a6507cc1efdb404fb64b7464a64494c0"
      }
     },
     "c94a4199d73d4e8c88a54eaf84a4a2af": {
      "model_module": "@jupyter-widgets/controls",
      "model_module_version": "1.0.0",
      "model_name": "DescriptionStyleModel",
      "state": {
       "description_width": ""
      }
     },
     "c98d2c6a80c84925924f39c93f7067bf": {
      "model_module": "@jupyter-widgets/controls",
      "model_module_version": "1.0.0",
      "model_name": "DescriptionStyleModel",
      "state": {
       "description_width": ""
      }
     },
     "c99027a7b5634144ae73a941b10fec8d": {
      "model_module": "@jupyter-widgets/controls",
      "model_module_version": "1.0.0",
      "model_name": "DescriptionStyleModel",
      "state": {
       "description_width": ""
      }
     },
     "c9d3c9a185dc4da5b526c83da1678f51": {
      "model_module": "@jupyter-widgets/controls",
      "model_module_version": "1.0.0",
      "model_name": "TextModel",
      "state": {
       "layout": "IPY_MODEL_9b1f70531f1f4c44929550c252fa2fb5",
       "style": "IPY_MODEL_dc6e0859e2be4b10b69aceef6ff5a766",
       "value": "40"
      }
     },
     "c9d8115dd334439bb7c449629dbb3e34": {
      "model_module": "@jupyter-widgets/base",
      "model_module_version": "1.0.0",
      "model_name": "LayoutModel",
      "state": {}
     },
     "ca297269d692433b98a39d53dd6057e5": {
      "model_module": "@jupyter-widgets/controls",
      "model_module_version": "1.0.0",
      "model_name": "BoxModel",
      "state": {
       "children": [
        "IPY_MODEL_a53bff79e32e41c88406a3416b3de85d",
        "IPY_MODEL_3db8ddf6eae34fa3877b89b4258c01d8"
       ],
       "layout": "IPY_MODEL_b0c705e5203a4f33816b996166fd9a99"
      }
     },
     "cb25c51b0722414aa82172e6567ecdfe": {
      "model_module": "@jupyter-widgets/base",
      "model_module_version": "1.0.0",
      "model_name": "LayoutModel",
      "state": {
       "display": "flex",
       "flex_flow": "row",
       "justify_content": "flex-start",
       "width": "50%"
      }
     },
     "cb26b8dbc455459ea25c030c914412e7": {
      "model_module": "@jupyter-widgets/controls",
      "model_module_version": "1.0.0",
      "model_name": "LabelModel",
      "state": {
       "layout": "IPY_MODEL_b6be5e0f7c924da397e18b1f57bfb332",
       "style": "IPY_MODEL_63bd680989b54bba8a90441262f30162",
       "value": "Deep Water Depth: "
      }
     },
     "cb8e5c4dcdbf4f2eb37ba0d4998efa7b": {
      "model_module": "@jupyter-widgets/base",
      "model_module_version": "1.0.0",
      "model_name": "LayoutModel",
      "state": {}
     },
     "cbb9f1a96f944415af4bb03abd8a89d8": {
      "model_module": "@jupyter-widgets/controls",
      "model_module_version": "1.0.0",
      "model_name": "DescriptionStyleModel",
      "state": {
       "description_width": ""
      }
     },
     "cbf042fbed7f4c759b45424fe3fe49a7": {
      "model_module": "@jupyter-widgets/controls",
      "model_module_version": "1.0.0",
      "model_name": "TextModel",
      "state": {
       "layout": "IPY_MODEL_78b1c7067ab549adbccb7c3fc67910f5",
       "style": "IPY_MODEL_f8f58ddd34184353accee41aa7fdb07c",
       "value": "40"
      }
     },
     "cc3b68ec80b4447bba8cfa6509f5f0db": {
      "model_module": "@jupyter-widgets/base",
      "model_module_version": "1.0.0",
      "model_name": "LayoutModel",
      "state": {}
     },
     "ccbc311f636046c48fc63aa338e341ee": {
      "model_module": "@jupyter-widgets/base",
      "model_module_version": "1.0.0",
      "model_name": "LayoutModel",
      "state": {}
     },
     "cccf4a78a83442fea424fa16732457ea": {
      "model_module": "@jupyter-widgets/base",
      "model_module_version": "1.0.0",
      "model_name": "LayoutModel",
      "state": {
       "align_items": "stretch",
       "flex_flow": "column"
      }
     },
     "cd91ebac087242baaf9d1bf125d3bdd9": {
      "model_module": "@jupyter-widgets/controls",
      "model_module_version": "1.0.0",
      "model_name": "LabelModel",
      "state": {
       "layout": "IPY_MODEL_a9e5a32f095549848c954fc133ecb960",
       "style": "IPY_MODEL_05a40e14f85846dc8b86d248084db12b",
       "value": "Deep Water Depth: "
      }
     },
     "cda9fd870478489499b974cdb1c0f1eb": {
      "model_module": "@jupyter-widgets/base",
      "model_module_version": "1.0.0",
      "model_name": "LayoutModel",
      "state": {}
     },
     "ce689590a2c74f229a6d75cf45133bef": {
      "model_module": "@jupyter-widgets/controls",
      "model_module_version": "1.0.0",
      "model_name": "TextModel",
      "state": {
       "layout": "IPY_MODEL_cc3b68ec80b4447bba8cfa6509f5f0db",
       "style": "IPY_MODEL_ebbe6961b31b466a902cb0f8800eeea6",
       "value": "40"
      }
     },
     "ce8ac2f30f084d4392a499841a147140": {
      "model_module": "@jupyter-widgets/controls",
      "model_module_version": "1.0.0",
      "model_name": "BoxModel",
      "state": {
       "children": [
        "IPY_MODEL_5eb3be4c38da45138dfd857af1a2b300",
        "IPY_MODEL_78166357cf934432a73d3be379f34539"
       ],
       "layout": "IPY_MODEL_f90e8d6ebcb84208ac2a1e5ca808c519"
      }
     },
     "ce9c4c8c8f3342a3830060c66ac50550": {
      "model_module": "@jupyter-widgets/controls",
      "model_module_version": "1.0.0",
      "model_name": "DescriptionStyleModel",
      "state": {
       "description_width": ""
      }
     },
     "ceb91ea8f6304c079d4d23c39440d940": {
      "model_module": "@jupyter-widgets/controls",
      "model_module_version": "1.0.0",
      "model_name": "DescriptionStyleModel",
      "state": {
       "description_width": ""
      }
     },
     "ceca668d32ae450c8d41013a5d3984c9": {
      "model_module": "@jupyter-widgets/controls",
      "model_module_version": "1.0.0",
      "model_name": "LabelModel",
      "state": {
       "layout": "IPY_MODEL_f055afdf03bb4e10bf6ecd7db7bbf4a8",
       "style": "IPY_MODEL_63c0304a4f104a45a16db8e156251075",
       "value": "Wind Velocity: "
      }
     },
     "cecd3415b6b6405a8f6e131606e2212f": {
      "model_module": "@jupyter-widgets/controls",
      "model_module_version": "1.0.0",
      "model_name": "DescriptionStyleModel",
      "state": {
       "description_width": ""
      }
     },
     "cede2715862c432eaf499fa0865c1ab0": {
      "model_module": "@jupyter-widgets/base",
      "model_module_version": "1.0.0",
      "model_name": "LayoutModel",
      "state": {
       "display": "flex",
       "flex_flow": "row",
       "justify_content": "flex-start",
       "width": "50%"
      }
     },
     "cf6f9da0f58b4a92acf2cda24b49f80f": {
      "model_module": "@jupyter-widgets/controls",
      "model_module_version": "1.0.0",
      "model_name": "ButtonStyleModel",
      "state": {}
     },
     "cf81ee966d884a81bd393bddcec6560c": {
      "model_module": "@jupyter-widgets/controls",
      "model_module_version": "1.0.0",
      "model_name": "TextModel",
      "state": {
       "layout": "IPY_MODEL_3b3478898ded45d4a8d13d19e0fdb4ed",
       "style": "IPY_MODEL_f3845d33d9b6495c8f2483c6023b825c"
      }
     },
     "cf8d253e295447379c44f33132c0caf7": {
      "model_module": "@jupyter-widgets/controls",
      "model_module_version": "1.0.0",
      "model_name": "BoxModel",
      "state": {
       "children": [
        "IPY_MODEL_a08a05037ee849c19f74ae2915599513",
        "IPY_MODEL_1575c88d8d254a549534753223b3b76f"
       ],
       "layout": "IPY_MODEL_cede2715862c432eaf499fa0865c1ab0"
      }
     },
     "d0e7e688bc1747049c914d50a2ec55d8": {
      "model_module": "@jupyter-widgets/controls",
      "model_module_version": "1.0.0",
      "model_name": "DescriptionStyleModel",
      "state": {
       "description_width": ""
      }
     },
     "d0f1dd3e6a5b449da3231bc152264775": {
      "model_module": "@jupyter-widgets/base",
      "model_module_version": "1.0.0",
      "model_name": "LayoutModel",
      "state": {
       "align_items": "stretch",
       "flex_flow": "column"
      }
     },
     "d15e90a6c2754ae5819ade8d686c2398": {
      "model_module": "@jupyter-widgets/base",
      "model_module_version": "1.0.0",
      "model_name": "LayoutModel",
      "state": {
       "width": "130px"
      }
     },
     "d163f706cb3e4b54b6c3b13e187a8ab1": {
      "model_module": "@jupyter-widgets/controls",
      "model_module_version": "1.0.0",
      "model_name": "ButtonModel",
      "state": {
       "description": "Show result and plot",
       "layout": "IPY_MODEL_971550d8c6c841ac871890981bee2244",
       "style": "IPY_MODEL_43cf2dbbbdac4f6a8549b549f51dabdd"
      }
     },
     "d1d4ad9f1c864c719ad0d0febf143861": {
      "model_module": "@jupyter-widgets/base",
      "model_module_version": "1.0.0",
      "model_name": "LayoutModel",
      "state": {}
     },
     "d2f0274d64df4a3ea0ebe74a817239dc": {
      "model_module": "@jupyter-widgets/controls",
      "model_module_version": "1.0.0",
      "model_name": "ButtonModel",
      "state": {
       "description": "Show result and plot",
       "layout": "IPY_MODEL_bc72259b39ad4f92b1362cbc0f955d34",
       "style": "IPY_MODEL_c7351e73f66e42e9917b88b2069ec118"
      }
     },
     "d304d0abc2834dd088cd94e9ab924159": {
      "model_module": "@jupyter-widgets/base",
      "model_module_version": "1.0.0",
      "model_name": "LayoutModel",
      "state": {
       "width": "130px"
      }
     },
     "d3b7404e500c4fa3a35d72708347cb14": {
      "model_module": "@jupyter-widgets/base",
      "model_module_version": "1.0.0",
      "model_name": "LayoutModel",
      "state": {}
     },
     "d3ddd281d5854470807ab0a71bc85197": {
      "model_module": "@jupyter-widgets/controls",
      "model_module_version": "1.0.0",
      "model_name": "TextModel",
      "state": {
       "layout": "IPY_MODEL_ecbce5e51c04405ea5a23f114b2a1fc3",
       "style": "IPY_MODEL_3d74cca6db4b47ddb0b9cbc8bea43eaf",
       "value": "0.00083"
      }
     },
     "d3f803495e0e499a90c9b83f10b0d597": {
      "model_module": "@jupyter-widgets/controls",
      "model_module_version": "1.0.0",
      "model_name": "DescriptionStyleModel",
      "state": {
       "description_width": ""
      }
     },
     "d48de085a7c54e0d88147fc8a3619024": {
      "model_module": "@jupyter-widgets/base",
      "model_module_version": "1.0.0",
      "model_name": "LayoutModel",
      "state": {}
     },
     "d48f2a48198c419aad009eadc378d09e": {
      "model_module": "@jupyter-widgets/controls",
      "model_module_version": "1.0.0",
      "model_name": "DescriptionStyleModel",
      "state": {
       "description_width": ""
      }
     },
     "d60c05098c7541f1a8400eee326ec06f": {
      "model_module": "@jupyter-widgets/controls",
      "model_module_version": "1.0.0",
      "model_name": "LabelModel",
      "state": {
       "layout": "IPY_MODEL_120194f5ea7045edaffd5cc39dedddd9",
       "style": "IPY_MODEL_2fac41268cb34f528455fe527cccf449",
       "value": "Deep Water Depth: "
      }
     },
     "d6c8f21906c8400da5c07d5d29bb0a9a": {
      "model_module": "@jupyter-widgets/controls",
      "model_module_version": "1.0.0",
      "model_name": "TextModel",
      "state": {
       "layout": "IPY_MODEL_52871ad5aef34b1998a21b1d2bb42296",
       "style": "IPY_MODEL_99264f45941f4554ab1c3c15d0b6a8b5"
      }
     },
     "d72765eb5ce3408d89db2f356a83b535": {
      "model_module": "@jupyter-widgets/controls",
      "model_module_version": "1.0.0",
      "model_name": "TextModel",
      "state": {
       "layout": "IPY_MODEL_ccbc311f636046c48fc63aa338e341ee",
       "style": "IPY_MODEL_1d7ff75c223e48c28314f0363dce1b10",
       "value": "40"
      }
     },
     "d7af0a8be0cc4ab794f4bc3dea73e8d5": {
      "model_module": "@jupyter-widgets/controls",
      "model_module_version": "1.0.0",
      "model_name": "LabelModel",
      "state": {
       "layout": "IPY_MODEL_a52b486c65574548ad49730fa26cad24",
       "style": "IPY_MODEL_3a3aab9506dc4a2cae17f020f028dc98",
       "value": "Wind Velocity: "
      }
     },
     "d7b95b96fa7a429e92aca364c5b0334d": {
      "model_module": "@jupyter-widgets/controls",
      "model_module_version": "1.0.0",
      "model_name": "BoxModel",
      "state": {
       "children": [
        "IPY_MODEL_84232cb460eb4ecca6920b4f0f8c1279",
        "IPY_MODEL_fb39d4247f8b4376ab3826b8ff2fbddb"
       ],
       "layout": "IPY_MODEL_1baf2fa1f5514a63a94c332f9ba6e5a0"
      }
     },
     "d7bea9b149224dbc8eef1d5a0cf61ba6": {
      "model_module": "@jupyter-widgets/base",
      "model_module_version": "1.0.0",
      "model_name": "LayoutModel",
      "state": {
       "align_items": "stretch",
       "flex_flow": "column"
      }
     },
     "d86256777e794779b09ee7b6aea6cdb6": {
      "model_module": "@jupyter-widgets/base",
      "model_module_version": "1.0.0",
      "model_name": "LayoutModel",
      "state": {}
     },
     "d88519a052e645438a847e6bf3849330": {
      "model_module": "@jupyter-widgets/controls",
      "model_module_version": "1.0.0",
      "model_name": "ButtonStyleModel",
      "state": {}
     },
     "d99c47330350463aa769fcfc82ddf42a": {
      "model_module": "@jupyter-widgets/base",
      "model_module_version": "1.0.0",
      "model_name": "LayoutModel",
      "state": {
       "align_items": "stretch",
       "flex_flow": "column"
      }
     },
     "d9f72f766251472d860672bce6d4f125": {
      "model_module": "@jupyter-widgets/controls",
      "model_module_version": "1.0.0",
      "model_name": "TextModel",
      "state": {
       "layout": "IPY_MODEL_0d1ef0b0773047238cfecdf3e7bb3e43",
       "style": "IPY_MODEL_f2ff0dece6ff4b5c90f9d607aee54e44",
       "value": "40"
      }
     },
     "da1a6b95e9694176aa863b7b1a2aac16": {
      "model_module": "@jupyter-widgets/controls",
      "model_module_version": "1.0.0",
      "model_name": "BoxModel",
      "state": {
       "children": [
        "IPY_MODEL_f4b2cc09da1341d7a52cf27546165228",
        "IPY_MODEL_8ff210ae27264fa090934c47e08bcc43"
       ],
       "layout": "IPY_MODEL_23d45d3df70c45c18f2abdc61b9650c1"
      }
     },
     "daf103fa11e54dab9e3541c352907905": {
      "model_module": "@jupyter-widgets/controls",
      "model_module_version": "1.0.0",
      "model_name": "TextModel",
      "state": {
       "layout": "IPY_MODEL_2169de6d9c96408aa0df928de347207b",
       "style": "IPY_MODEL_aac2a49548bc4f2b85afacbf13e73f84",
       "value": "40"
      }
     },
     "db2fc8f304534094ab60411f84e25d0e": {
      "model_module": "@jupyter-widgets/base",
      "model_module_version": "1.0.0",
      "model_name": "LayoutModel",
      "state": {
       "width": "130px"
      }
     },
     "db43b592707e431f8b1f74a145e885d6": {
      "model_module": "@jupyter-widgets/controls",
      "model_module_version": "1.0.0",
      "model_name": "BoxModel",
      "state": {
       "children": [
        "IPY_MODEL_aca4c41c09054bbeb39dfd5812aa1a2d",
        "IPY_MODEL_d9f72f766251472d860672bce6d4f125"
       ],
       "layout": "IPY_MODEL_2180f603459e43efa2cdf66f74cbf52c"
      }
     },
     "db9c2b9961c340959ac65b2fa3a0dcae": {
      "model_module": "@jupyter-widgets/controls",
      "model_module_version": "1.0.0",
      "model_name": "ButtonStyleModel",
      "state": {}
     },
     "dbed700e1bcf4d188c2a3f39a66928eb": {
      "model_module": "@jupyter-widgets/controls",
      "model_module_version": "1.0.0",
      "model_name": "BoxModel",
      "state": {
       "children": [
        "IPY_MODEL_f5671c50e56b4744871146cc1f690b4b"
       ],
       "layout": "IPY_MODEL_f90e8d6ebcb84208ac2a1e5ca808c519"
      }
     },
     "dc0c0fd10df6416983d9af458bab00c4": {
      "model_module": "@jupyter-widgets/base",
      "model_module_version": "1.0.0",
      "model_name": "LayoutModel",
      "state": {}
     },
     "dc2ea2b22243492bac7614f1d63b87d2": {
      "model_module": "@jupyter-widgets/base",
      "model_module_version": "1.0.0",
      "model_name": "LayoutModel",
      "state": {
       "align_items": "stretch",
       "flex_flow": "column"
      }
     },
     "dc31aeb4125e4e408c47d6fe11c33b10": {
      "model_module": "@jupyter-widgets/controls",
      "model_module_version": "1.0.0",
      "model_name": "ButtonModel",
      "state": {
       "description": "Show result and plot",
       "layout": "IPY_MODEL_7fb6d509b62e449da3bc7abeb0ba6681",
       "style": "IPY_MODEL_efa2d40a6284447e9e15730b7c05905f"
      }
     },
     "dc6e0859e2be4b10b69aceef6ff5a766": {
      "model_module": "@jupyter-widgets/controls",
      "model_module_version": "1.0.0",
      "model_name": "DescriptionStyleModel",
      "state": {
       "description_width": ""
      }
     },
     "dc88df1591a4480fa65e06108d018fff": {
      "model_module": "@jupyter-widgets/controls",
      "model_module_version": "1.0.0",
      "model_name": "LabelModel",
      "state": {
       "layout": "IPY_MODEL_f055afdf03bb4e10bf6ecd7db7bbf4a8",
       "style": "IPY_MODEL_e5b319f355b94acd96e6830fb7395ff7",
       "value": "Deep Water Depth: "
      }
     },
     "dd8c9fcc0cf94ee2a68d01f883245f33": {
      "model_module": "@jupyter-widgets/controls",
      "model_module_version": "1.0.0",
      "model_name": "DescriptionStyleModel",
      "state": {
       "description_width": ""
      }
     },
     "ddfcb02bb11f4d83a110b993bcfb2cf0": {
      "model_module": "@jupyter-widgets/controls",
      "model_module_version": "1.0.0",
      "model_name": "ButtonStyleModel",
      "state": {}
     },
     "deb3c3a84a0c4c0d9fe754b3c1e49594": {
      "model_module": "@jupyter-widgets/controls",
      "model_module_version": "1.0.0",
      "model_name": "BoxModel",
      "state": {
       "children": [
        "IPY_MODEL_05ffdb76f8104e2d851fce7031470525",
        "IPY_MODEL_b690c7709d004564b262d0d590f857eb"
       ],
       "layout": "IPY_MODEL_2180f603459e43efa2cdf66f74cbf52c"
      }
     },
     "df341303c48c4e4d8ad42afea96cabd5": {
      "model_module": "@jupyter-widgets/controls",
      "model_module_version": "1.0.0",
      "model_name": "LabelModel",
      "state": {
       "layout": "IPY_MODEL_a9e5a32f095549848c954fc133ecb960",
       "style": "IPY_MODEL_ceb91ea8f6304c079d4d23c39440d940",
       "value": "Bed Slope: "
      }
     },
     "df78996dc2574b52bd1006430f8e3b9a": {
      "model_module": "@jupyter-widgets/controls",
      "model_module_version": "1.0.0",
      "model_name": "ButtonStyleModel",
      "state": {}
     },
     "e00a26004bf04a938a3e51e548006058": {
      "model_module": "@jupyter-widgets/controls",
      "model_module_version": "1.0.0",
      "model_name": "ButtonStyleModel",
      "state": {}
     },
     "e030abe7f0864a108581eee13e6ad624": {
      "model_module": "@jupyter-widgets/controls",
      "model_module_version": "1.0.0",
      "model_name": "ButtonModel",
      "state": {
       "description": "Show Plot",
       "layout": "IPY_MODEL_c002d5df17ad4274b4d0d94388aff524",
       "style": "IPY_MODEL_a86b16ead75e4b5daf60a4c3422ffaf8"
      }
     },
     "e07ac44ae0f842328dea919aba87e557": {
      "model_module": "@jupyter-widgets/base",
      "model_module_version": "1.0.0",
      "model_name": "LayoutModel",
      "state": {}
     },
     "e0f5d7349ab24a5e94ca43d6d2e0535c": {
      "model_module": "@jupyter-widgets/controls",
      "model_module_version": "1.0.0",
      "model_name": "LabelModel",
      "state": {
       "layout": "IPY_MODEL_ef54e4cb53964060b3c31b2e86f7ec50",
       "style": "IPY_MODEL_b9289fc48e7648249693f873067946e8",
       "value": "Wind Velocity: "
      }
     },
     "e191602d72884b51ac96bf4d8f5e9e3c": {
      "model_module": "@jupyter-widgets/controls",
      "model_module_version": "1.0.0",
      "model_name": "BoxModel",
      "state": {
       "children": [
        "IPY_MODEL_7867d269737e47a7b782cc061b50c1fa",
        "IPY_MODEL_67b3025415bb453cac98a03da04dbe8c",
        "IPY_MODEL_c80ec018fa464650b8f3d608b19faeb4",
        "IPY_MODEL_30c28594561f40388526065eefb7a7dd"
       ],
       "layout": "IPY_MODEL_3fb0c9ac2c114fc3b57449036dec3076"
      }
     },
     "e1a438dcb41e4cc9898ba57fdd23030c": {
      "model_module": "@jupyter-widgets/controls",
      "model_module_version": "1.0.0",
      "model_name": "LabelModel",
      "state": {
       "layout": "IPY_MODEL_7c576005d0b0418a9b9cb32a6a143634",
       "style": "IPY_MODEL_6dc762579a664bdeaf9d598f84fb09c1",
       "value": "Wind Velocity: "
      }
     },
     "e28666c9c79143aab8219b123da62009": {
      "model_module": "@jupyter-widgets/base",
      "model_module_version": "1.0.0",
      "model_name": "LayoutModel",
      "state": {}
     },
     "e294359632094afa921af9192468d548": {
      "model_module": "@jupyter-widgets/controls",
      "model_module_version": "1.0.0",
      "model_name": "TextModel",
      "state": {
       "layout": "IPY_MODEL_4b5569ac53b44ae48903f780f26e8d04",
       "style": "IPY_MODEL_1a6e9c024f614c5fa0f3deee2abcb7a0",
       "value": "40"
      }
     },
     "e2f312324a624aceac365dbaa705416b": {
      "model_module": "@jupyter-widgets/controls",
      "model_module_version": "1.0.0",
      "model_name": "BoxModel",
      "state": {
       "children": [
        "IPY_MODEL_21b54590d18c4f17bc711bddf92a19a6",
        "IPY_MODEL_6716deb41ad04c7ebc98b9c2db2f977d"
       ],
       "layout": "IPY_MODEL_1baf2fa1f5514a63a94c332f9ba6e5a0"
      }
     },
     "e36dff7be8634c9f8f679c7b76d5bcc4": {
      "model_module": "@jupyter-widgets/controls",
      "model_module_version": "1.0.0",
      "model_name": "LabelModel",
      "state": {
       "layout": "IPY_MODEL_8644be3b1d4c4fb5994335948ab0aab1",
       "style": "IPY_MODEL_675cb44d651b4ac2b24141ecdc4ae02b",
       "value": "Deep Water Depth: "
      }
     },
     "e42e2cf6f6f549188f019a76a5f7cc86": {
      "model_module": "@jupyter-widgets/base",
      "model_module_version": "1.0.0",
      "model_name": "LayoutModel",
      "state": {}
     },
     "e448ec3eb9ad4062ab9e67a5ffa8d517": {
      "model_module": "@jupyter-widgets/controls",
      "model_module_version": "1.0.0",
      "model_name": "DescriptionStyleModel",
      "state": {
       "description_width": ""
      }
     },
     "e54becf62373478e93736ec2a074a2c5": {
      "model_module": "@jupyter-widgets/controls",
      "model_module_version": "1.0.0",
      "model_name": "BoxModel",
      "state": {
       "children": [
        "IPY_MODEL_45e3118e877a44dd9b968b0347c445a6",
        "IPY_MODEL_a9dbb4377fb944f1935621c9f4ad4482"
       ],
       "layout": "IPY_MODEL_e7e3205c08f14b1f9c92f081d1694db9"
      }
     },
     "e55df6df85224104a71142e5fba692cb": {
      "model_module": "@jupyter-widgets/base",
      "model_module_version": "1.0.0",
      "model_name": "LayoutModel",
      "state": {
       "display": "flex",
       "flex_flow": "row",
       "justify_content": "flex-start",
       "width": "50%"
      }
     },
     "e5b319f355b94acd96e6830fb7395ff7": {
      "model_module": "@jupyter-widgets/controls",
      "model_module_version": "1.0.0",
      "model_name": "DescriptionStyleModel",
      "state": {
       "description_width": ""
      }
     },
     "e5b61897b50541308367a29f4472aaa1": {
      "model_module": "@jupyter-widgets/controls",
      "model_module_version": "1.0.0",
      "model_name": "BoxModel",
      "state": {
       "children": [
        "IPY_MODEL_8956034a54b04f669caca518b22195eb"
       ],
       "layout": "IPY_MODEL_cb25c51b0722414aa82172e6567ecdfe"
      }
     },
     "e630f42f9ad04c4db17b7cf62c864c51": {
      "model_module": "@jupyter-widgets/controls",
      "model_module_version": "1.0.0",
      "model_name": "DescriptionStyleModel",
      "state": {
       "description_width": ""
      }
     },
     "e66088f6399747e2a686f2ba95125cc5": {
      "model_module": "@jupyter-widgets/base",
      "model_module_version": "1.0.0",
      "model_name": "LayoutModel",
      "state": {
       "display": "flex",
       "flex_flow": "row",
       "justify_content": "flex-start",
       "width": "50%"
      }
     },
     "e6b255133cd14add9fe04f39e4ed3edb": {
      "model_module": "@jupyter-widgets/base",
      "model_module_version": "1.0.0",
      "model_name": "LayoutModel",
      "state": {}
     },
     "e750478b52684aa3bc6b58b27655b0e6": {
      "model_module": "@jupyter-widgets/controls",
      "model_module_version": "1.0.0",
      "model_name": "ButtonStyleModel",
      "state": {}
     },
     "e7a502d9be774ad583d412c236d06ea9": {
      "model_module": "@jupyter-widgets/controls",
      "model_module_version": "1.0.0",
      "model_name": "DescriptionStyleModel",
      "state": {
       "description_width": ""
      }
     },
     "e7bb97e66bf747b1a051e8f941621948": {
      "model_module": "@jupyter-widgets/controls",
      "model_module_version": "1.0.0",
      "model_name": "LabelModel",
      "state": {
       "layout": "IPY_MODEL_013bae47bc9c4d0db3269c10a2ed960c",
       "style": "IPY_MODEL_325594ec6a654563ab39c0c09245069b",
       "value": "Bed Slope: "
      }
     },
     "e7e3205c08f14b1f9c92f081d1694db9": {
      "model_module": "@jupyter-widgets/base",
      "model_module_version": "1.0.0",
      "model_name": "LayoutModel",
      "state": {
       "display": "flex",
       "flex_flow": "row",
       "justify_content": "flex-start",
       "width": "50%"
      }
     },
     "e9db2c57854347838177d789dd2be113": {
      "model_module": "@jupyter-widgets/controls",
      "model_module_version": "1.0.0",
      "model_name": "BoxModel",
      "state": {
       "children": [
        "IPY_MODEL_7d70a271a6714ed9b209e8dd6fbff641",
        "IPY_MODEL_af2ff7fb9f074d079f2905ade5d487cc"
       ],
       "layout": "IPY_MODEL_0983499027a9488ca91e2c5a3533fa53"
      }
     },
     "e9e5d8967db34da5b9a8bcd217fdbf37": {
      "model_module": "@jupyter-widgets/base",
      "model_module_version": "1.0.0",
      "model_name": "LayoutModel",
      "state": {
       "align_items": "stretch",
       "flex_flow": "column"
      }
     },
     "ea3ddb53e3654f63882ce7c3e034e6bb": {
      "model_module": "@jupyter-widgets/base",
      "model_module_version": "1.0.0",
      "model_name": "LayoutModel",
      "state": {}
     },
     "ea781e46dd0b476f9c740691c55d749d": {
      "model_module": "@jupyter-widgets/controls",
      "model_module_version": "1.0.0",
      "model_name": "DescriptionStyleModel",
      "state": {
       "description_width": ""
      }
     },
     "ea9522ecc62e4c4094b52e91d362fbf8": {
      "model_module": "@jupyter-widgets/controls",
      "model_module_version": "1.0.0",
      "model_name": "DescriptionStyleModel",
      "state": {
       "description_width": ""
      }
     },
     "eaa59ec1ef564f5980cd4c0e71bb2bac": {
      "model_module": "@jupyter-widgets/controls",
      "model_module_version": "1.0.0",
      "model_name": "ButtonStyleModel",
      "state": {}
     },
     "eae8b9fb156e4f1980c9c1ca7842779a": {
      "model_module": "@jupyter-widgets/controls",
      "model_module_version": "1.0.0",
      "model_name": "LabelModel",
      "state": {
       "layout": "IPY_MODEL_a586a971a21942aca777183472c48f0a",
       "style": "IPY_MODEL_b7f405e60d994fb6ad0f01ad0a05971e",
       "value": "Bed Slope: "
      }
     },
     "ebbe6961b31b466a902cb0f8800eeea6": {
      "model_module": "@jupyter-widgets/controls",
      "model_module_version": "1.0.0",
      "model_name": "DescriptionStyleModel",
      "state": {
       "description_width": ""
      }
     },
     "ebcd7fca56f24be3a05e96eae19400fd": {
      "model_module": "@jupyter-widgets/controls",
      "model_module_version": "1.0.0",
      "model_name": "LabelModel",
      "state": {
       "layout": "IPY_MODEL_68317adaaebc45d79c5079b4acf99361",
       "style": "IPY_MODEL_20de18cd8a104dd48c50f5487f166734",
       "value": "Wind Velocity: "
      }
     },
     "ebdbd2d568b041c583ace28d4c732f0b": {
      "model_module": "@jupyter-widgets/controls",
      "model_module_version": "1.0.0",
      "model_name": "DescriptionStyleModel",
      "state": {
       "description_width": ""
      }
     },
     "ec16ebbe28e34326b34194c888cdccc5": {
      "model_module": "@jupyter-widgets/controls",
      "model_module_version": "1.0.0",
      "model_name": "TextModel",
      "state": {
       "layout": "IPY_MODEL_97494d9c60634a0e9b5bdb610fd2b3b7",
       "style": "IPY_MODEL_a80dfa71a8c04a3cb581df12644b4b85"
      }
     },
     "ec7c5c6901784781b310fd9a4a908fee": {
      "model_module": "@jupyter-widgets/controls",
      "model_module_version": "1.0.0",
      "model_name": "BoxModel",
      "state": {
       "children": [
        "IPY_MODEL_810803c7454f4bb5b6b9025cc10b8f4a",
        "IPY_MODEL_fc884594f94a459d8a6ea37e2010a2b1"
       ],
       "layout": "IPY_MODEL_3148c28ac3fe4ecab6d888e7429013b1"
      }
     },
     "ec800a802154459cbfdf142b73dc6fd6": {
      "model_module": "@jupyter-widgets/controls",
      "model_module_version": "1.0.0",
      "model_name": "DescriptionStyleModel",
      "state": {
       "description_width": ""
      }
     },
     "ecbce5e51c04405ea5a23f114b2a1fc3": {
      "model_module": "@jupyter-widgets/base",
      "model_module_version": "1.0.0",
      "model_name": "LayoutModel",
      "state": {}
     },
     "ecd5ae9975494991a5ad90e266682130": {
      "model_module": "@jupyter-widgets/controls",
      "model_module_version": "1.0.0",
      "model_name": "TextModel",
      "state": {
       "layout": "IPY_MODEL_5339cc83083c4a9ead4a65374fd7a85c",
       "style": "IPY_MODEL_1624a41d6db94c628da34c78abcc2d1b",
       "value": "40"
      }
     },
     "ed087a068d3f4893b6088fce6bab0883": {
      "model_module": "@jupyter-widgets/base",
      "model_module_version": "1.0.0",
      "model_name": "LayoutModel",
      "state": {}
     },
     "ed0d48e422d241aaa0d1a815b77a75f6": {
      "model_module": "@jupyter-widgets/controls",
      "model_module_version": "1.0.0",
      "model_name": "DescriptionStyleModel",
      "state": {
       "description_width": ""
      }
     },
     "eee73d90df6547c6bd962900779a0c98": {
      "model_module": "@jupyter-widgets/controls",
      "model_module_version": "1.0.0",
      "model_name": "DescriptionStyleModel",
      "state": {
       "description_width": ""
      }
     },
     "ef1ba6a5caa842a58d19b254eced8bbc": {
      "model_module": "@jupyter-widgets/controls",
      "model_module_version": "1.0.0",
      "model_name": "TextModel",
      "state": {
       "layout": "IPY_MODEL_78ff100c944542fa868f019b040008e9",
       "style": "IPY_MODEL_6c715650f5f64fa3bb5715d51a95cb83",
       "value": "40"
      }
     },
     "ef35eb47e69d43ba8cff4426e94dfb95": {
      "model_module": "@jupyter-widgets/controls",
      "model_module_version": "1.0.0",
      "model_name": "DescriptionStyleModel",
      "state": {
       "description_width": ""
      }
     },
     "ef54e4cb53964060b3c31b2e86f7ec50": {
      "model_module": "@jupyter-widgets/base",
      "model_module_version": "1.0.0",
      "model_name": "LayoutModel",
      "state": {
       "width": "130px"
      }
     },
     "efa2d40a6284447e9e15730b7c05905f": {
      "model_module": "@jupyter-widgets/controls",
      "model_module_version": "1.0.0",
      "model_name": "ButtonStyleModel",
      "state": {}
     },
     "f04f19a9acab4fb497dc1a9078bfd33f": {
      "model_module": "@jupyter-widgets/controls",
      "model_module_version": "1.0.0",
      "model_name": "BoxModel",
      "state": {
       "children": [
        "IPY_MODEL_2dd24d2660834de4b373e119494520a1",
        "IPY_MODEL_99dd5145b4c641cd871d483f3b1ddd2b",
        "IPY_MODEL_67322b2331204555bbb68fb19a8ef3fd",
        "IPY_MODEL_891411e63681453abb1ac64a4af61e2b"
       ],
       "layout": "IPY_MODEL_669545045e1844bda198b685c4c7ffb6"
      }
     },
     "f055afdf03bb4e10bf6ecd7db7bbf4a8": {
      "model_module": "@jupyter-widgets/base",
      "model_module_version": "1.0.0",
      "model_name": "LayoutModel",
      "state": {
       "width": "130px"
      }
     },
     "f05bdc043ceb451a93c2c97260fcd19d": {
      "model_module": "@jupyter-widgets/controls",
      "model_module_version": "1.0.0",
      "model_name": "DescriptionStyleModel",
      "state": {
       "description_width": ""
      }
     },
     "f24d8beb24d04481850d564549995311": {
      "model_module": "@jupyter-widgets/controls",
      "model_module_version": "1.0.0",
      "model_name": "DescriptionStyleModel",
      "state": {
       "description_width": ""
      }
     },
     "f24ef12cdcdc4014a5204863aa23b81c": {
      "model_module": "@jupyter-widgets/controls",
      "model_module_version": "1.0.0",
      "model_name": "DescriptionStyleModel",
      "state": {
       "description_width": ""
      }
     },
     "f2c077e6ae06444ea5edad80a6628a97": {
      "model_module": "@jupyter-widgets/controls",
      "model_module_version": "1.0.0",
      "model_name": "ButtonModel",
      "state": {
       "description": "Clear Plot",
       "layout": "IPY_MODEL_3e319b2e6c994a0f808313351b65d1a8",
       "style": "IPY_MODEL_8c33633eb1854cc7a59d8ae9fb467895"
      }
     },
     "f2c7db448ad64f4b8401ee97508a3493": {
      "model_module": "@jupyter-widgets/controls",
      "model_module_version": "1.0.0",
      "model_name": "BoxModel",
      "state": {
       "children": [
        "IPY_MODEL_2bf97e6aa8a84c2782200e4a9ab42fab",
        "IPY_MODEL_6252a36dc0fc4cb08d9c011af54a8371"
       ],
       "layout": "IPY_MODEL_a60abcb41ac849109a6b1389f4a968b8"
      }
     },
     "f2ff0dece6ff4b5c90f9d607aee54e44": {
      "model_module": "@jupyter-widgets/controls",
      "model_module_version": "1.0.0",
      "model_name": "DescriptionStyleModel",
      "state": {
       "description_width": ""
      }
     },
     "f3845d33d9b6495c8f2483c6023b825c": {
      "model_module": "@jupyter-widgets/controls",
      "model_module_version": "1.0.0",
      "model_name": "DescriptionStyleModel",
      "state": {
       "description_width": ""
      }
     },
     "f3c9e4b7bc29459a8b108eb9fc4283ab": {
      "model_module": "@jupyter-widgets/controls",
      "model_module_version": "1.0.0",
      "model_name": "DescriptionStyleModel",
      "state": {
       "description_width": ""
      }
     },
     "f416cc82523b4c0498f3bda3c32f1c62": {
      "model_module": "@jupyter-widgets/controls",
      "model_module_version": "1.0.0",
      "model_name": "TextModel",
      "state": {
       "layout": "IPY_MODEL_1482c4aa4d7e49d88444e72c8739a557",
       "style": "IPY_MODEL_9646b1e501214e5d8b3de3ff7f4f9fbd",
       "value": "0.0081"
      }
     },
     "f4801451044e44f699bfc3b65d6fdb28": {
      "model_module": "@jupyter-widgets/controls",
      "model_module_version": "1.0.0",
      "model_name": "BoxModel",
      "state": {
       "children": [
        "IPY_MODEL_f9dac7b79c79430d9c4327984451f016",
        "IPY_MODEL_d6c8f21906c8400da5c07d5d29bb0a9a"
       ],
       "layout": "IPY_MODEL_3148c28ac3fe4ecab6d888e7429013b1"
      }
     },
     "f48114520d024f8a87271046669d8bda": {
      "model_module": "@jupyter-widgets/base",
      "model_module_version": "1.0.0",
      "model_name": "LayoutModel",
      "state": {
       "display": "flex",
       "flex_flow": "row",
       "justify_content": "flex-start",
       "width": "50%"
      }
     },
     "f4aeab1ae8f1420faf355e1d884abb21": {
      "model_module": "@jupyter-widgets/controls",
      "model_module_version": "1.0.0",
      "model_name": "DescriptionStyleModel",
      "state": {
       "description_width": ""
      }
     },
     "f4b2cc09da1341d7a52cf27546165228": {
      "model_module": "@jupyter-widgets/controls",
      "model_module_version": "1.0.0",
      "model_name": "ButtonModel",
      "state": {
       "description": "Show Plot",
       "layout": "IPY_MODEL_0876f770dd5546b086031fce68f55fab",
       "style": "IPY_MODEL_b8b903815e6f4aa4b876f1f26b1c44d2"
      }
     },
     "f5624a1570ab410cbe1cca55d5656632": {
      "model_module": "@jupyter-widgets/base",
      "model_module_version": "1.0.0",
      "model_name": "LayoutModel",
      "state": {}
     },
     "f5671c50e56b4744871146cc1f690b4b": {
      "model_module": "@jupyter-widgets/controls",
      "model_module_version": "1.0.0",
      "model_name": "ButtonModel",
      "state": {
       "description": "Show Plot",
       "layout": "IPY_MODEL_0e66b93ccd6b44b0a58ff3d7f5913c73",
       "style": "IPY_MODEL_e750478b52684aa3bc6b58b27655b0e6"
      }
     },
     "f57764599712445b8abd04412fb054e3": {
      "model_module": "@jupyter-widgets/controls",
      "model_module_version": "1.0.0",
      "model_name": "ButtonModel",
      "state": {
       "description": "Clear Plot",
       "layout": "IPY_MODEL_4ec011a5c64b499dbfe2a7e3cc8534a3",
       "style": "IPY_MODEL_7e754e0ec002453d80a608fb276ffc11"
      }
     },
     "f5847fa714fb425e9ae4be68e88f8035": {
      "model_module": "@jupyter-widgets/controls",
      "model_module_version": "1.0.0",
      "model_name": "DescriptionStyleModel",
      "state": {
       "description_width": ""
      }
     },
     "f66f0ab492c04b669f902a504288196e": {
      "model_module": "@jupyter-widgets/base",
      "model_module_version": "1.0.0",
      "model_name": "LayoutModel",
      "state": {
       "display": "flex",
       "flex_flow": "row",
       "justify_content": "flex-start",
       "width": "50%"
      }
     },
     "f88b4f5ff77e444c9c63fcb6b59c5a97": {
      "model_module": "@jupyter-widgets/controls",
      "model_module_version": "1.0.0",
      "model_name": "BoxModel",
      "state": {
       "children": [
        "IPY_MODEL_6b98b5b726c04d51bd6ab9c58b3a1cd1",
        "IPY_MODEL_343c3dd7f60948f7af6c0588adaadb8a",
        "IPY_MODEL_1a024d8cf414465f8a1fe3cbbbccdd7e",
        "IPY_MODEL_9e5adbd660cb49a690f06c71d529bdb0"
       ],
       "layout": "IPY_MODEL_5c89eeef1e4640e58eace55197b6dc98"
      }
     },
     "f89aa793ff6e4a4c8942a03e82baa2ce": {
      "model_module": "@jupyter-widgets/base",
      "model_module_version": "1.0.0",
      "model_name": "LayoutModel",
      "state": {
       "display": "flex",
       "flex_flow": "row",
       "justify_content": "flex-start",
       "width": "50%"
      }
     },
     "f8ef889b77164a9c899969a54a243e1b": {
      "model_module": "@jupyter-widgets/controls",
      "model_module_version": "1.0.0",
      "model_name": "DescriptionStyleModel",
      "state": {
       "description_width": ""
      }
     },
     "f8f58ddd34184353accee41aa7fdb07c": {
      "model_module": "@jupyter-widgets/controls",
      "model_module_version": "1.0.0",
      "model_name": "DescriptionStyleModel",
      "state": {
       "description_width": ""
      }
     },
     "f90e8d6ebcb84208ac2a1e5ca808c519": {
      "model_module": "@jupyter-widgets/base",
      "model_module_version": "1.0.0",
      "model_name": "LayoutModel",
      "state": {
       "display": "flex",
       "flex_flow": "row",
       "justify_content": "flex-start",
       "width": "50%"
      }
     },
     "f91a390feafe4bb5b0eb12665a403637": {
      "model_module": "@jupyter-widgets/controls",
      "model_module_version": "1.0.0",
      "model_name": "TextModel",
      "state": {
       "layout": "IPY_MODEL_4d2a29be37704abf81a7d2194020d2e3",
       "style": "IPY_MODEL_f4aeab1ae8f1420faf355e1d884abb21",
       "value": "40"
      }
     },
     "f9219cfc786949ce9e5c88b855008641": {
      "model_module": "@jupyter-widgets/base",
      "model_module_version": "1.0.0",
      "model_name": "LayoutModel",
      "state": {
       "align_items": "stretch",
       "flex_flow": "column"
      }
     },
     "f9c0d4cbe3f84280b3ba6b5be6c912d4": {
      "model_module": "@jupyter-widgets/controls",
      "model_module_version": "1.0.0",
      "model_name": "ButtonStyleModel",
      "state": {}
     },
     "f9cb38ff0fe24e888050f9481ce3a19a": {
      "model_module": "@jupyter-widgets/controls",
      "model_module_version": "1.0.0",
      "model_name": "TextModel",
      "state": {
       "layout": "IPY_MODEL_0d97a1c715b94c738a7e155b134414ca",
       "style": "IPY_MODEL_9d2d2899fea74bc1ab218a0c571e1b46"
      }
     },
     "f9d1ecad0aab45fe83707ae6b9b35dc2": {
      "model_module": "@jupyter-widgets/controls",
      "model_module_version": "1.0.0",
      "model_name": "BoxModel",
      "state": {
       "children": [
        "IPY_MODEL_5dbfcc8c5e6c4bc89573e464716d3be5",
        "IPY_MODEL_ef1ba6a5caa842a58d19b254eced8bbc"
       ],
       "layout": "IPY_MODEL_2d914eb9565848baaa5af38c9830c20d"
      }
     },
     "f9dac7b79c79430d9c4327984451f016": {
      "model_module": "@jupyter-widgets/controls",
      "model_module_version": "1.0.0",
      "model_name": "LabelModel",
      "state": {
       "layout": "IPY_MODEL_7c576005d0b0418a9b9cb32a6a143634",
       "style": "IPY_MODEL_664ceed010f94b6990fdf5a3961e2259",
       "value": "Bed Slope: "
      }
     },
     "f9ff609454ad44a9b7f3c7563e3c57a3": {
      "model_module": "@jupyter-widgets/base",
      "model_module_version": "1.0.0",
      "model_name": "LayoutModel",
      "state": {}
     },
     "fa0f35dc2b614345b2623683a7c73989": {
      "model_module": "@jupyter-widgets/controls",
      "model_module_version": "1.0.0",
      "model_name": "LabelModel",
      "state": {
       "layout": "IPY_MODEL_0ea9914669974dd8b94babc98e1a6839",
       "style": "IPY_MODEL_0e079d1b02ad43ea8b9c80258a4a9518",
       "value": "Bed Slope: "
      }
     },
     "faac9f90a9c44636933103a41287f1bc": {
      "model_module": "@jupyter-widgets/controls",
      "model_module_version": "1.0.0",
      "model_name": "BoxModel",
      "state": {
       "children": [
        "IPY_MODEL_e0f5d7349ab24a5e94ca43d6d2e0535c",
        "IPY_MODEL_87f6c50a048a4d58a0e81f79e99f47fb"
       ],
       "layout": "IPY_MODEL_7565528870954ea69266890aa7618cc1"
      }
     },
     "fb22c4033b0a45ebae381b17e29fa32e": {
      "model_module": "@jupyter-widgets/controls",
      "model_module_version": "1.0.0",
      "model_name": "BoxModel",
      "state": {
       "children": [
        "IPY_MODEL_57e25cb797394a7da32ce8ce8d68e413",
        "IPY_MODEL_0ea82912d715493589c3899c685fd269"
       ],
       "layout": "IPY_MODEL_f90e8d6ebcb84208ac2a1e5ca808c519"
      }
     },
     "fb39d4247f8b4376ab3826b8ff2fbddb": {
      "model_module": "@jupyter-widgets/controls",
      "model_module_version": "1.0.0",
      "model_name": "TextModel",
      "state": {
       "layout": "IPY_MODEL_9b358abc67af4b799a0fdfe95c21bfd6",
       "style": "IPY_MODEL_f8ef889b77164a9c899969a54a243e1b",
       "value": "0.00084"
      }
     },
     "fb917111501a47229fdca4a3214ba30f": {
      "model_module": "@jupyter-widgets/controls",
      "model_module_version": "1.0.0",
      "model_name": "BoxModel",
      "state": {
       "children": [
        "IPY_MODEL_3f7f01b48cd7429bb747d654a78a3345",
        "IPY_MODEL_ecd5ae9975494991a5ad90e266682130"
       ],
       "layout": "IPY_MODEL_98338be136a2450793a230acd49bd15f"
      }
     },
     "fbd7870955a042a6a318f44d1e05d849": {
      "model_module": "@jupyter-widgets/controls",
      "model_module_version": "1.0.0",
      "model_name": "LabelModel",
      "state": {
       "layout": "IPY_MODEL_b6be5e0f7c924da397e18b1f57bfb332",
       "style": "IPY_MODEL_c99027a7b5634144ae73a941b10fec8d",
       "value": "Wind Velocity: "
      }
     },
     "fbfe8d7084e54d82bd2fd72aecdc6c76": {
      "model_module": "@jupyter-widgets/controls",
      "model_module_version": "1.0.0",
      "model_name": "DescriptionStyleModel",
      "state": {
       "description_width": ""
      }
     },
     "fc0c214067d4430aaf956eb0e90ef6a6": {
      "model_module": "@jupyter-widgets/controls",
      "model_module_version": "1.0.0",
      "model_name": "BoxModel",
      "state": {
       "children": [
        "IPY_MODEL_2a30d41d4690477b9fc93da8675dbd3e",
        "IPY_MODEL_8efb68f59d8d4cfdb89e19478fe0dc14"
       ],
       "layout": "IPY_MODEL_a60abcb41ac849109a6b1389f4a968b8"
      }
     },
     "fc884594f94a459d8a6ea37e2010a2b1": {
      "model_module": "@jupyter-widgets/controls",
      "model_module_version": "1.0.0",
      "model_name": "TextModel",
      "state": {
       "layout": "IPY_MODEL_9eb3485f8f3243cb91ecff83553f4fdc",
       "style": "IPY_MODEL_e448ec3eb9ad4062ab9e67a5ffa8d517"
      }
     },
     "fcb3e6a8e1d84172914f73822808a0e2": {
      "model_module": "@jupyter-widgets/base",
      "model_module_version": "1.0.0",
      "model_name": "LayoutModel",
      "state": {}
     },
     "fcbffbff462d4082a7eaa916c98c20dd": {
      "model_module": "@jupyter-widgets/controls",
      "model_module_version": "1.0.0",
      "model_name": "LabelModel",
      "state": {
       "layout": "IPY_MODEL_f055afdf03bb4e10bf6ecd7db7bbf4a8",
       "style": "IPY_MODEL_0ccaad0d119849b1a0379356fc8e057f",
       "value": "Bed Slope: "
      }
     },
     "fd01e02d2eba4c12a34a4942669fd7fe": {
      "model_module": "@jupyter-widgets/controls",
      "model_module_version": "1.0.0",
      "model_name": "TextModel",
      "state": {
       "layout": "IPY_MODEL_f5624a1570ab410cbe1cca55d5656632",
       "style": "IPY_MODEL_322bf7cac5544329a48e778609aa8ddb"
      }
     },
     "fe1552a56c3c4f1e9cceeae72e04a993": {
      "model_module": "@jupyter-widgets/controls",
      "model_module_version": "1.0.0",
      "model_name": "BoxModel",
      "state": {
       "children": [
        "IPY_MODEL_745116487f2345c8aa66457186c13265",
        "IPY_MODEL_ba5bcf6e028f44e59486103a22248cd1",
        "IPY_MODEL_e54becf62373478e93736ec2a074a2c5",
        "IPY_MODEL_a65ee85bdbc441b4933b0ea51e3a03c1"
       ],
       "layout": "IPY_MODEL_155697e621c34e6bb20d6fcf6ed6c87c"
      }
     },
     "fe2cc2bc6d224b9e8a4c336b2115441c": {
      "model_module": "@jupyter-widgets/controls",
      "model_module_version": "1.0.0",
      "model_name": "BoxModel",
      "state": {
       "children": [
        "IPY_MODEL_e1a438dcb41e4cc9898ba57fdd23030c",
        "IPY_MODEL_c931293f85ba474384619af558786eb5"
       ],
       "layout": "IPY_MODEL_3148c28ac3fe4ecab6d888e7429013b1"
      }
     },
     "fe505902dd9c4911a55cadda4596d571": {
      "model_module": "@jupyter-widgets/base",
      "model_module_version": "1.0.0",
      "model_name": "LayoutModel",
      "state": {
       "width": "130px"
      }
     },
     "ff6f1722d5c144c290d163f25812360c": {
      "model_module": "@jupyter-widgets/controls",
      "model_module_version": "1.0.0",
      "model_name": "BoxModel",
      "state": {
       "children": [
        "IPY_MODEL_695227a7f9ba4f229f63941aadc23d54",
        "IPY_MODEL_49bfa8f0179448a2aba7eb70ef57c697"
       ],
       "layout": "IPY_MODEL_23d45d3df70c45c18f2abdc61b9650c1"
      }
     },
     "ffd2340bcfc74ec8a970b9d5991ea16a": {
      "model_module": "@jupyter-widgets/base",
      "model_module_version": "1.0.0",
      "model_name": "LayoutModel",
      "state": {}
     }
    },
    "version_major": 2,
    "version_minor": 0
   }
  }
 },
 "nbformat": 4,
 "nbformat_minor": 2
}
